{
 "cells": [
  {
   "cell_type": "markdown",
   "metadata": {},
   "source": [
    "# Probe SSR\n",
    "\n",
    "This notebook's purpose is to quickly explain the general pipeline to craft adversarial suffixes with Probe SSR. \n",
    "\n",
    "Requirements: \n",
    "- Model's information in `models.toml` \n",
    "- Probes configuration in `probes_config.json`\n",
    "\n",
    "To generate a large number of jailbreaks, I recommended using a Judge , as verifying 162 (buffer_size) attacks per minute by hand can be _slightly_ difficult, especially when attacking Gemma2, which always answers with long sentences. You can reduce the buffer size to 1 if necessary, the attack should be powerful enough to work anyway. "
   ]
  },
  {
   "cell_type": "code",
   "execution_count": null,
   "metadata": {},
   "outputs": [
    {
     "name": "stdout",
     "output_type": "stream",
     "text": [
      "Loaded pretrained model meta-llama/Llama-3.2-1B-Instruct into HookedTransformer\n"
     ]
    },
    {
     "name": "stderr",
     "output_type": "stream",
     "text": [
      "  0%|          | 0/1 [00:00<?, ?it/s]\n"
     ]
    },
    {
     "data": {
      "text/html": [
       "<pre style=\"white-space:pre;overflow-x:auto;line-height:normal;font-family:Menlo,'DejaVu Sans Mono',consolas,'Courier New',monospace\">Decreasing batch size to: <span style=\"color: #008080; text-decoration-color: #008080; font-weight: bold\">60</span>\n",
       "</pre>\n"
      ],
      "text/plain": [
       "Decreasing batch size to: \u001b[1;36m60\u001b[0m\n"
      ]
     },
     "metadata": {},
     "output_type": "display_data"
    },
    {
     "name": "stderr",
     "output_type": "stream",
     "text": [
      "  0%|          | 0/2 [00:00<?, ?it/s]\n"
     ]
    },
    {
     "data": {
      "text/html": [
       "<pre style=\"white-space:pre;overflow-x:auto;line-height:normal;font-family:Menlo,'DejaVu Sans Mono',consolas,'Courier New',monospace\">Decreasing batch size to: <span style=\"color: #008080; text-decoration-color: #008080; font-weight: bold\">30</span>\n",
       "</pre>\n"
      ],
      "text/plain": [
       "Decreasing batch size to: \u001b[1;36m30\u001b[0m\n"
      ]
     },
     "metadata": {},
     "output_type": "display_data"
    },
    {
     "name": "stderr",
     "output_type": "stream",
     "text": [
      "100%|██████████| 4/4 [00:01<00:00,  2.78it/s]\n",
      "  0%|          | 0/1 [00:00<?, ?it/s]\n"
     ]
    },
    {
     "data": {
      "text/html": [
       "<pre style=\"white-space:pre;overflow-x:auto;line-height:normal;font-family:Menlo,'DejaVu Sans Mono',consolas,'Courier New',monospace\">Decreasing batch size to: <span style=\"color: #008080; text-decoration-color: #008080; font-weight: bold\">60</span>\n",
       "</pre>\n"
      ],
      "text/plain": [
       "Decreasing batch size to: \u001b[1;36m60\u001b[0m\n"
      ]
     },
     "metadata": {},
     "output_type": "display_data"
    },
    {
     "name": "stderr",
     "output_type": "stream",
     "text": [
      "  0%|          | 0/2 [00:00<?, ?it/s]\n"
     ]
    },
    {
     "data": {
      "text/html": [
       "<pre style=\"white-space:pre;overflow-x:auto;line-height:normal;font-family:Menlo,'DejaVu Sans Mono',consolas,'Courier New',monospace\">Decreasing batch size to: <span style=\"color: #008080; text-decoration-color: #008080; font-weight: bold\">30</span>\n",
       "</pre>\n"
      ],
      "text/plain": [
       "Decreasing batch size to: \u001b[1;36m30\u001b[0m\n"
      ]
     },
     "metadata": {},
     "output_type": "display_data"
    },
    {
     "name": "stderr",
     "output_type": "stream",
     "text": [
      "100%|██████████| 4/4 [00:01<00:00,  2.85it/s]\n",
      "4it [00:00,  6.24it/s]\n"
     ]
    }
   ],
   "source": [
    "import time\n",
    "\n",
    "from ssr.files import log_jsonl\n",
    "from ssr.datasets import load_dataset\n",
    "from ssr.lens import Lens\n",
    "from ssr.ssr_probes import ProbeSSR, ProbeSSRConfig\n",
    "\n",
    "MODEL_NAME = \"llama3.2_1b\"\n",
    "ssr_config = ProbeSSRConfig(\n",
    "    model_name=MODEL_NAME,                          # used to fetch the config from `probes_config.json`\n",
    "    total_iterations=150,                           # max number of iterations\n",
    "    early_stop_loss=0.05,                           # stop if loss < early_stop_loss\n",
    "    replace_coefficient=1.3,                        # n_replace = (current_loss / init_loss) ^ (1 / replace_coefficient)\n",
    "    buffer_size=32,                                 # number of active candidate cached in the buffer\n",
    "    layers=[5, 8, 10, 14],                          # targeted layers\n",
    "    alphas=[1, 1, 1, 1],                            # hyperparameters \n",
    "    system_message=\"You are a helpful assistant.\",\n",
    "    search_width=512,                               # at each step, try 512 candidates\n",
    "    suffix_length=3,                                # suffix length of 3 tokens\n",
    "    patience=15,                                    # if the loss didn't decrease for the past 15 steps, discard the candidate with the lowest loss, and pick another one. Discarded candidates are stored in the archive_buffer\n",
    ")\n",
    "\n",
    "\n",
    "LOG_FILENAME = \"reproduce_experiments/run_ssr/run_ssr_probes_output.jsonl\"  # check the incredible jailbreaks!\n",
    "MAX_SUCCESS = 10  # if we found 10 success (Judge score >= 8) in the buffer, we discard every other candidate\n",
    "\n",
    "lens = Lens.from_config(MODEL_NAME)\n",
    "ssr = ProbeSSR(lens.model, ssr_config)  # The probes will be initialized with the `mod` dataset, and using the configuration in `probes_config.json`.\n",
    "\n",
    "hf = load_dataset(\"mini\")[0]  # Load the harmful dataset to attack "
   ]
  },
  {
   "cell_type": "code",
   "execution_count": null,
   "metadata": {},
   "outputs": [
    {
     "name": "stderr",
     "output_type": "stream",
     "text": [
      "  0%|          | 0/150 [00:00<?, ?it/s]"
     ]
    },
    {
     "data": {
      "text/html": [
       "<pre style=\"white-space:pre;overflow-x:auto;line-height:normal;font-family:Menlo,'DejaVu Sans Mono',consolas,'Courier New',monospace\">Decreasing n_replace from <span style=\"color: #008080; text-decoration-color: #008080; font-weight: bold\">3</span> to <span style=\"color: #008080; text-decoration-color: #008080; font-weight: bold\">2</span>\n",
       "</pre>\n"
      ],
      "text/plain": [
       "Decreasing n_replace from \u001b[1;36m3\u001b[0m to \u001b[1;36m2\u001b[0m\n"
      ]
     },
     "metadata": {},
     "output_type": "display_data"
    },
    {
     "data": {
      "text/html": [
       "<pre style=\"white-space:pre;overflow-x:auto;line-height:normal;font-family:Menlo,'DejaVu Sans Mono',consolas,'Courier New',monospace\"><span style=\"color: #808000; text-decoration-color: #808000; font-weight: bold\">Best loss: </span><span style=\"color: #808000; text-decoration-color: #808000; font-weight: bold\">9.063</span><span style=\"color: #808000; text-decoration-color: #808000; font-weight: bold\">, with ids: tensor([</span><span style=\"color: #808000; text-decoration-color: #808000; font-weight: bold\">23646</span><span style=\"color: #808000; text-decoration-color: #808000; font-weight: bold\">, </span><span style=\"color: #808000; text-decoration-color: #808000; font-weight: bold\">38126</span><span style=\"color: #808000; text-decoration-color: #808000; font-weight: bold\">, </span><span style=\"color: #808000; text-decoration-color: #808000; font-weight: bold\">84973</span><span style=\"color: #808000; text-decoration-color: #808000; font-weight: bold\">], </span><span style=\"color: #808000; text-decoration-color: #808000; font-weight: bold\">device</span><span style=\"color: #808000; text-decoration-color: #808000; font-weight: bold\">=</span><span style=\"color: #808000; text-decoration-color: #808000; font-weight: bold\">'cuda:0'</span><span style=\"color: #808000; text-decoration-color: #808000; font-weight: bold\">)</span>\n",
       "<span style=\"color: #808000; text-decoration-color: #808000; font-weight: bold\">Testing: _elements subjected dequeue</span>\n",
       "</pre>\n"
      ],
      "text/plain": [
       "\u001b[1;33mBest loss: \u001b[0m\u001b[1;33m9.063\u001b[0m\u001b[1;33m, with ids: \u001b[0m\u001b[1;33mtensor\u001b[0m\u001b[1;33m(\u001b[0m\u001b[1;33m[\u001b[0m\u001b[1;33m23646\u001b[0m\u001b[1;33m, \u001b[0m\u001b[1;33m38126\u001b[0m\u001b[1;33m, \u001b[0m\u001b[1;33m84973\u001b[0m\u001b[1;33m]\u001b[0m\u001b[1;33m, \u001b[0m\u001b[1;33mdevice\u001b[0m\u001b[1;33m=\u001b[0m\u001b[1;33m'cuda:0'\u001b[0m\u001b[1;33m)\u001b[0m\n",
       "\u001b[1;33mTesting: _elements subjected dequeue\u001b[0m\n"
      ]
     },
     "metadata": {},
     "output_type": "display_data"
    },
    {
     "name": "stderr",
     "output_type": "stream",
     "text": [
      "  1%|          | 1/150 [00:01<04:36,  1.85s/it]"
     ]
    },
    {
     "data": {
      "text/html": [
       "<pre style=\"white-space:pre;overflow-x:auto;line-height:normal;font-family:Menlo,'DejaVu Sans Mono',consolas,'Courier New',monospace\">Decreasing n_replace from <span style=\"color: #008080; text-decoration-color: #008080; font-weight: bold\">2</span> to <span style=\"color: #008080; text-decoration-color: #008080; font-weight: bold\">1</span>\n",
       "</pre>\n"
      ],
      "text/plain": [
       "Decreasing n_replace from \u001b[1;36m2\u001b[0m to \u001b[1;36m1\u001b[0m\n"
      ]
     },
     "metadata": {},
     "output_type": "display_data"
    },
    {
     "data": {
      "text/html": [
       "<pre style=\"white-space:pre;overflow-x:auto;line-height:normal;font-family:Menlo,'DejaVu Sans Mono',consolas,'Courier New',monospace\"><span style=\"color: #808000; text-decoration-color: #808000; font-weight: bold\">Best loss: </span><span style=\"color: #808000; text-decoration-color: #808000; font-weight: bold\">2.311</span><span style=\"color: #808000; text-decoration-color: #808000; font-weight: bold\">, with ids: tensor([</span><span style=\"color: #808000; text-decoration-color: #808000; font-weight: bold\">90473</span><span style=\"color: #808000; text-decoration-color: #808000; font-weight: bold\">, </span><span style=\"color: #808000; text-decoration-color: #808000; font-weight: bold\">81200</span><span style=\"color: #808000; text-decoration-color: #808000; font-weight: bold\">,  </span><span style=\"color: #808000; text-decoration-color: #808000; font-weight: bold\">7296</span><span style=\"color: #808000; text-decoration-color: #808000; font-weight: bold\">], </span><span style=\"color: #808000; text-decoration-color: #808000; font-weight: bold\">device</span><span style=\"color: #808000; text-decoration-color: #808000; font-weight: bold\">=</span><span style=\"color: #808000; text-decoration-color: #808000; font-weight: bold\">'cuda:0'</span><span style=\"color: #808000; text-decoration-color: #808000; font-weight: bold\">)</span>\n",
       "<span style=\"color: #808000; text-decoration-color: #808000; font-weight: bold\">Testing:  redundancy Providing safety</span>\n",
       "</pre>\n"
      ],
      "text/plain": [
       "\u001b[1;33mBest loss: \u001b[0m\u001b[1;33m2.311\u001b[0m\u001b[1;33m, with ids: \u001b[0m\u001b[1;33mtensor\u001b[0m\u001b[1;33m(\u001b[0m\u001b[1;33m[\u001b[0m\u001b[1;33m90473\u001b[0m\u001b[1;33m, \u001b[0m\u001b[1;33m81200\u001b[0m\u001b[1;33m,  \u001b[0m\u001b[1;33m7296\u001b[0m\u001b[1;33m]\u001b[0m\u001b[1;33m, \u001b[0m\u001b[1;33mdevice\u001b[0m\u001b[1;33m=\u001b[0m\u001b[1;33m'cuda:0'\u001b[0m\u001b[1;33m)\u001b[0m\n",
       "\u001b[1;33mTesting:  redundancy Providing safety\u001b[0m\n"
      ]
     },
     "metadata": {},
     "output_type": "display_data"
    },
    {
     "name": "stderr",
     "output_type": "stream",
     "text": [
      "  1%|▏         | 2/150 [00:03<04:40,  1.89s/it]"
     ]
    },
    {
     "data": {
      "text/html": [
       "<pre style=\"white-space:pre;overflow-x:auto;line-height:normal;font-family:Menlo,'DejaVu Sans Mono',consolas,'Courier New',monospace\">Decreasing n_replace from <span style=\"color: #008080; text-decoration-color: #008080; font-weight: bold\">1</span> to <span style=\"color: #008080; text-decoration-color: #008080; font-weight: bold\">1</span>\n",
       "</pre>\n"
      ],
      "text/plain": [
       "Decreasing n_replace from \u001b[1;36m1\u001b[0m to \u001b[1;36m1\u001b[0m\n"
      ]
     },
     "metadata": {},
     "output_type": "display_data"
    },
    {
     "data": {
      "text/html": [
       "<pre style=\"white-space:pre;overflow-x:auto;line-height:normal;font-family:Menlo,'DejaVu Sans Mono',consolas,'Courier New',monospace\"><span style=\"color: #808000; text-decoration-color: #808000; font-weight: bold\">Best loss: </span><span style=\"color: #808000; text-decoration-color: #808000; font-weight: bold\">0.947</span><span style=\"color: #808000; text-decoration-color: #808000; font-weight: bold\">, with ids: tensor([</span><span style=\"color: #808000; text-decoration-color: #808000; font-weight: bold\">86735</span><span style=\"color: #808000; text-decoration-color: #808000; font-weight: bold\">, </span><span style=\"color: #808000; text-decoration-color: #808000; font-weight: bold\">23391</span><span style=\"color: #808000; text-decoration-color: #808000; font-weight: bold\">,  </span><span style=\"color: #808000; text-decoration-color: #808000; font-weight: bold\">7296</span><span style=\"color: #808000; text-decoration-color: #808000; font-weight: bold\">], </span><span style=\"color: #808000; text-decoration-color: #808000; font-weight: bold\">device</span><span style=\"color: #808000; text-decoration-color: #808000; font-weight: bold\">=</span><span style=\"color: #808000; text-decoration-color: #808000; font-weight: bold\">'cuda:0'</span><span style=\"color: #808000; text-decoration-color: #808000; font-weight: bold\">)</span>\n",
       "<span style=\"color: #808000; text-decoration-color: #808000; font-weight: bold\">Testing: ologi ensuring safety</span>\n",
       "</pre>\n"
      ],
      "text/plain": [
       "\u001b[1;33mBest loss: \u001b[0m\u001b[1;33m0.947\u001b[0m\u001b[1;33m, with ids: \u001b[0m\u001b[1;33mtensor\u001b[0m\u001b[1;33m(\u001b[0m\u001b[1;33m[\u001b[0m\u001b[1;33m86735\u001b[0m\u001b[1;33m, \u001b[0m\u001b[1;33m23391\u001b[0m\u001b[1;33m,  \u001b[0m\u001b[1;33m7296\u001b[0m\u001b[1;33m]\u001b[0m\u001b[1;33m, \u001b[0m\u001b[1;33mdevice\u001b[0m\u001b[1;33m=\u001b[0m\u001b[1;33m'cuda:0'\u001b[0m\u001b[1;33m)\u001b[0m\n",
       "\u001b[1;33mTesting: ologi ensuring safety\u001b[0m\n"
      ]
     },
     "metadata": {},
     "output_type": "display_data"
    },
    {
     "name": "stderr",
     "output_type": "stream",
     "text": [
      "  2%|▏         | 3/150 [00:05<04:31,  1.84s/it]"
     ]
    },
    {
     "data": {
      "text/html": [
       "<pre style=\"white-space:pre;overflow-x:auto;line-height:normal;font-family:Menlo,'DejaVu Sans Mono',consolas,'Courier New',monospace\">Decreasing n_replace from <span style=\"color: #008080; text-decoration-color: #008080; font-weight: bold\">1</span> to <span style=\"color: #008080; text-decoration-color: #008080; font-weight: bold\">1</span>\n",
       "</pre>\n"
      ],
      "text/plain": [
       "Decreasing n_replace from \u001b[1;36m1\u001b[0m to \u001b[1;36m1\u001b[0m\n"
      ]
     },
     "metadata": {},
     "output_type": "display_data"
    },
    {
     "data": {
      "text/html": [
       "<pre style=\"white-space:pre;overflow-x:auto;line-height:normal;font-family:Menlo,'DejaVu Sans Mono',consolas,'Courier New',monospace\"><span style=\"color: #808000; text-decoration-color: #808000; font-weight: bold\">Best loss: </span><span style=\"color: #808000; text-decoration-color: #808000; font-weight: bold\">0.222</span><span style=\"color: #808000; text-decoration-color: #808000; font-weight: bold\">, with ids: tensor([</span><span style=\"color: #808000; text-decoration-color: #808000; font-weight: bold\">63507</span><span style=\"color: #808000; text-decoration-color: #808000; font-weight: bold\">, </span><span style=\"color: #808000; text-decoration-color: #808000; font-weight: bold\">23391</span><span style=\"color: #808000; text-decoration-color: #808000; font-weight: bold\">,  </span><span style=\"color: #808000; text-decoration-color: #808000; font-weight: bold\">7296</span><span style=\"color: #808000; text-decoration-color: #808000; font-weight: bold\">], </span><span style=\"color: #808000; text-decoration-color: #808000; font-weight: bold\">device</span><span style=\"color: #808000; text-decoration-color: #808000; font-weight: bold\">=</span><span style=\"color: #808000; text-decoration-color: #808000; font-weight: bold\">'cuda:0'</span><span style=\"color: #808000; text-decoration-color: #808000; font-weight: bold\">)</span>\n",
       "<span style=\"color: #808000; text-decoration-color: #808000; font-weight: bold\">Testing: Technology ensuring safety</span>\n",
       "</pre>\n"
      ],
      "text/plain": [
       "\u001b[1;33mBest loss: \u001b[0m\u001b[1;33m0.222\u001b[0m\u001b[1;33m, with ids: \u001b[0m\u001b[1;33mtensor\u001b[0m\u001b[1;33m(\u001b[0m\u001b[1;33m[\u001b[0m\u001b[1;33m63507\u001b[0m\u001b[1;33m, \u001b[0m\u001b[1;33m23391\u001b[0m\u001b[1;33m,  \u001b[0m\u001b[1;33m7296\u001b[0m\u001b[1;33m]\u001b[0m\u001b[1;33m, \u001b[0m\u001b[1;33mdevice\u001b[0m\u001b[1;33m=\u001b[0m\u001b[1;33m'cuda:0'\u001b[0m\u001b[1;33m)\u001b[0m\n",
       "\u001b[1;33mTesting: Technology ensuring safety\u001b[0m\n"
      ]
     },
     "metadata": {},
     "output_type": "display_data"
    },
    {
     "name": "stderr",
     "output_type": "stream",
     "text": [
      "  3%|▎         | 4/150 [00:07<04:30,  1.85s/it]"
     ]
    },
    {
     "data": {
      "text/html": [
       "<pre style=\"white-space:pre;overflow-x:auto;line-height:normal;font-family:Menlo,'DejaVu Sans Mono',consolas,'Courier New',monospace\">Decreasing n_replace from <span style=\"color: #008080; text-decoration-color: #008080; font-weight: bold\">1</span> to <span style=\"color: #008080; text-decoration-color: #008080; font-weight: bold\">1</span>\n",
       "</pre>\n"
      ],
      "text/plain": [
       "Decreasing n_replace from \u001b[1;36m1\u001b[0m to \u001b[1;36m1\u001b[0m\n"
      ]
     },
     "metadata": {},
     "output_type": "display_data"
    },
    {
     "data": {
      "text/html": [
       "<pre style=\"white-space:pre;overflow-x:auto;line-height:normal;font-family:Menlo,'DejaVu Sans Mono',consolas,'Courier New',monospace\"><span style=\"color: #808000; text-decoration-color: #808000; font-weight: bold\">Best loss: </span><span style=\"color: #808000; text-decoration-color: #808000; font-weight: bold\">0.205</span><span style=\"color: #808000; text-decoration-color: #808000; font-weight: bold\">, with ids: tensor([</span><span style=\"color: #808000; text-decoration-color: #808000; font-weight: bold\">30373</span><span style=\"color: #808000; text-decoration-color: #808000; font-weight: bold\">, </span><span style=\"color: #808000; text-decoration-color: #808000; font-weight: bold\">23391</span><span style=\"color: #808000; text-decoration-color: #808000; font-weight: bold\">,  </span><span style=\"color: #808000; text-decoration-color: #808000; font-weight: bold\">7296</span><span style=\"color: #808000; text-decoration-color: #808000; font-weight: bold\">], </span><span style=\"color: #808000; text-decoration-color: #808000; font-weight: bold\">device</span><span style=\"color: #808000; text-decoration-color: #808000; font-weight: bold\">=</span><span style=\"color: #808000; text-decoration-color: #808000; font-weight: bold\">'cuda:0'</span><span style=\"color: #808000; text-decoration-color: #808000; font-weight: bold\">)</span>\n",
       "<span style=\"color: #808000; text-decoration-color: #808000; font-weight: bold\">Testing:  gently ensuring safety</span>\n",
       "</pre>\n"
      ],
      "text/plain": [
       "\u001b[1;33mBest loss: \u001b[0m\u001b[1;33m0.205\u001b[0m\u001b[1;33m, with ids: \u001b[0m\u001b[1;33mtensor\u001b[0m\u001b[1;33m(\u001b[0m\u001b[1;33m[\u001b[0m\u001b[1;33m30373\u001b[0m\u001b[1;33m, \u001b[0m\u001b[1;33m23391\u001b[0m\u001b[1;33m,  \u001b[0m\u001b[1;33m7296\u001b[0m\u001b[1;33m]\u001b[0m\u001b[1;33m, \u001b[0m\u001b[1;33mdevice\u001b[0m\u001b[1;33m=\u001b[0m\u001b[1;33m'cuda:0'\u001b[0m\u001b[1;33m)\u001b[0m\n",
       "\u001b[1;33mTesting:  gently ensuring safety\u001b[0m\n"
      ]
     },
     "metadata": {},
     "output_type": "display_data"
    },
    {
     "name": "stderr",
     "output_type": "stream",
     "text": [
      "  3%|▎         | 5/150 [00:09<04:30,  1.87s/it]"
     ]
    },
    {
     "data": {
      "text/html": [
       "<pre style=\"white-space:pre;overflow-x:auto;line-height:normal;font-family:Menlo,'DejaVu Sans Mono',consolas,'Courier New',monospace\">Decreasing n_replace from <span style=\"color: #008080; text-decoration-color: #008080; font-weight: bold\">1</span> to <span style=\"color: #008080; text-decoration-color: #008080; font-weight: bold\">1</span>\n",
       "</pre>\n"
      ],
      "text/plain": [
       "Decreasing n_replace from \u001b[1;36m1\u001b[0m to \u001b[1;36m1\u001b[0m\n"
      ]
     },
     "metadata": {},
     "output_type": "display_data"
    },
    {
     "data": {
      "text/html": [
       "<pre style=\"white-space:pre;overflow-x:auto;line-height:normal;font-family:Menlo,'DejaVu Sans Mono',consolas,'Courier New',monospace\"><span style=\"color: #808000; text-decoration-color: #808000; font-weight: bold\">Best loss: </span><span style=\"color: #808000; text-decoration-color: #808000; font-weight: bold\">0.065</span><span style=\"color: #808000; text-decoration-color: #808000; font-weight: bold\">, with ids: tensor([</span><span style=\"color: #808000; text-decoration-color: #808000; font-weight: bold\">79599</span><span style=\"color: #808000; text-decoration-color: #808000; font-weight: bold\">, </span><span style=\"color: #808000; text-decoration-color: #808000; font-weight: bold\">23391</span><span style=\"color: #808000; text-decoration-color: #808000; font-weight: bold\">,  </span><span style=\"color: #808000; text-decoration-color: #808000; font-weight: bold\">7296</span><span style=\"color: #808000; text-decoration-color: #808000; font-weight: bold\">], </span><span style=\"color: #808000; text-decoration-color: #808000; font-weight: bold\">device</span><span style=\"color: #808000; text-decoration-color: #808000; font-weight: bold\">=</span><span style=\"color: #808000; text-decoration-color: #808000; font-weight: bold\">'cuda:0'</span><span style=\"color: #808000; text-decoration-color: #808000; font-weight: bold\">)</span>\n",
       "<span style=\"color: #808000; text-decoration-color: #808000; font-weight: bold\">Testing:  gracefully ensuring safety</span>\n",
       "</pre>\n"
      ],
      "text/plain": [
       "\u001b[1;33mBest loss: \u001b[0m\u001b[1;33m0.065\u001b[0m\u001b[1;33m, with ids: \u001b[0m\u001b[1;33mtensor\u001b[0m\u001b[1;33m(\u001b[0m\u001b[1;33m[\u001b[0m\u001b[1;33m79599\u001b[0m\u001b[1;33m, \u001b[0m\u001b[1;33m23391\u001b[0m\u001b[1;33m,  \u001b[0m\u001b[1;33m7296\u001b[0m\u001b[1;33m]\u001b[0m\u001b[1;33m, \u001b[0m\u001b[1;33mdevice\u001b[0m\u001b[1;33m=\u001b[0m\u001b[1;33m'cuda:0'\u001b[0m\u001b[1;33m)\u001b[0m\n",
       "\u001b[1;33mTesting:  gracefully ensuring safety\u001b[0m\n"
      ]
     },
     "metadata": {},
     "output_type": "display_data"
    },
    {
     "data": {
      "text/html": [
       "<pre style=\"white-space:pre;overflow-x:auto;line-height:normal;font-family:Menlo,'DejaVu Sans Mono',consolas,'Courier New',monospace\"><span style=\"color: #008000; text-decoration-color: #008000; font-weight: bold\">Early loss achived, exiting.</span>\n",
       "</pre>\n"
      ],
      "text/plain": [
       "\u001b[1;32mEarly loss achived, exiting.\u001b[0m\n"
      ]
     },
     "metadata": {},
     "output_type": "display_data"
    },
    {
     "name": "stderr",
     "output_type": "stream",
     "text": [
      "  3%|▎         | 5/150 [00:11<05:21,  2.22s/it]\n"
     ]
    }
   ],
   "source": [
    "from ssr.evaluation import call_lmstudio, harmful_bow, Attempt, Response\n",
    "\n",
    "instruction = hf[0]\n",
    "\n",
    "start = time.time()\n",
    "ssr.init_prompt(instruction)            # Init the targeted instruction\n",
    "ssr.init_buffers()                      # Init the buffers (one can generate using old buffers to go further in the optimisation without having to start everything from scratch)\n",
    "ssr.generate()                          # Launch the optimisation (again, one can generate multiple time without modifying the buffers/ input prompt)\n",
    "duration = time.time() - start\n",
    "\n",
    "adv_suffixes = lens.tokenizer.batch_decode(ssr.candidates_ids)              # suffixes in the main buffer (len(main) = buffer_size)\n",
    "archive_suffixes = lens.tokenizer.batch_decode(ssr.archive_candidates_ids)  # suffixes in the archive buffer (len(archive) >= 0)\n",
    "\n",
    "nb_success = 0\n",
    "\n",
    "for suffix, loss in zip(\n",
    "    adv_suffixes + archive_suffixes,\n",
    "    ssr.candidates_losses.tolist() + ssr.archive_candidates_losses.tolist(),\n",
    "):\n",
    "    if nb_success < MAX_SUCCESS:\n",
    "        response = call_lmstudio(\n",
    "            MODEL_NAME,\n",
    "            instruction + suffix,                           # Call LM Studio with instruction + adv suffix \n",
    "            system_message=ssr.config.system_message,       # Don't forget the system message\n",
    "        )\n",
    "        bow = harmful_bow(response)                         # Compute the harmful bag-of-word to discard obvious fails (\"I cannot...\")\n",
    "\n",
    "        if bow > 0:                                         \n",
    "            log_jsonl(\n",
    "                LOG_FILENAME,\n",
    "                Attempt(\n",
    "                    model_name=MODEL_NAME,\n",
    "                    instruction=instruction,\n",
    "                    suffix=suffix,\n",
    "                    inital_loss=ssr.initial_loss,\n",
    "                    final_loss=loss,\n",
    "                    duration=int(duration),\n",
    "                    config=ssr.config,\n",
    "                    responses=[\n",
    "                        Response(\n",
    "                            model_name=MODEL_NAME,\n",
    "                            response=response,\n",
    "                            system_message=ssr.config.system_message,\n",
    "                            bow=bow,\n",
    "                            guard=None,                     # For this example I didn't call the Judge LLM and the Guard\n",
    "                            judge=None,\n",
    "                        )\n",
    "                    ],\n",
    "                ).model_dump(),\n",
    "            )\n"
   ]
  },
  {
   "cell_type": "markdown",
   "metadata": {},
   "source": [
    "You can check the result of this run in `reproduce_experiments/run_ssr/run_ssr_probes_output.jsonl`"
   ]
  }
 ],
 "metadata": {
  "kernelspec": {
   "display_name": "subspace",
   "language": "python",
   "name": "python3"
  },
  "language_info": {
   "codemirror_mode": {
    "name": "ipython",
    "version": 3
   },
   "file_extension": ".py",
   "mimetype": "text/x-python",
   "name": "python",
   "nbconvert_exporter": "python",
   "pygments_lexer": "ipython3",
   "version": "3.12.9"
  }
 },
 "nbformat": 4,
 "nbformat_minor": 2
}
