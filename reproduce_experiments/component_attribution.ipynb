{
 "cells": [
  {
   "cell_type": "markdown",
   "metadata": {},
   "source": [
    "# Component attribution\n",
    "\n",
    "This notebook illustrate the following techniques: \n",
    "- Patching attribution to find safety heads\n",
    "- Direct Logit Attribution (DLA) to find important layers \n",
    "- DLA to find safety heads\n",
    "\n",
    "Requirements: \n",
    "- Model's information in `models.toml` if you want to use the `Lens.from_config` method"
   ]
  },
  {
   "cell_type": "code",
   "execution_count": 1,
   "metadata": {},
   "outputs": [
    {
     "name": "stdout",
     "output_type": "stream",
     "text": [
      "Loaded pretrained model meta-llama/Llama-3.2-1B-Instruct into HookedTransformer\n"
     ]
    }
   ],
   "source": [
    "from ssr.lens import Lens \n",
    "\n",
    "lens = Lens.from_preset(\"llama3.2_1b\")"
   ]
  },
  {
   "cell_type": "code",
   "execution_count": 2,
   "metadata": {},
   "outputs": [],
   "source": [
    "import transformer_lens as tl\n",
    "from accelerate.utils.memory import release_memory\n",
    "import torch as t\n",
    "from rich import print\n",
    "from jaxtyping import Float\n",
    "from functools import partial\n",
    "import numpy as np\n",
    "import matplotlib.pyplot as plt \n",
    "import tqdm\n",
    "import einops\n",
    "\n",
    "from ssr import VIOLET\n",
    "from ssr.files import load_dataset\n",
    "from ssr.types import HookList\n",
    "from reproduce_experiments.plot import imshow"
   ]
  },
  {
   "cell_type": "markdown",
   "metadata": {},
   "source": [
    "### 1. Load the `mod` dataset, and compute the logit difference: \"Here\" - \"I\"\n",
    "\n",
    "To compute the difference of contribution of each component's output to the final prediction between harmful and harmless sentences, we: \n",
    "- Run a forward pass on the harmless sentences, and capture the most frequent predicted token, for Llama 3.2 this is \"Here\"\n",
    "- Run a forward pass on the harmful sentences, and capture the most frequent predicted token, for Llama 3.2 this is \"I\" (\"I cannot...\")\n",
    "- Compute the sub dataset of contrastive sentences for which the model will predict \"I\" or \"Here\" &rarr; `here_mask`\n",
    "- Compute the logit difference between \"I\" and \"Here\" &rarr; `logit_diff_direction`"
   ]
  },
  {
   "cell_type": "code",
   "execution_count": 9,
   "metadata": {},
   "outputs": [
    {
     "name": "stderr",
     "output_type": "stream",
     "text": [
      "100%|██████████| 1/1 [00:01<00:00,  1.03s/it]\n",
      "100%|██████████| 1/1 [00:01<00:00,  1.01s/it]\n"
     ]
    }
   ],
   "source": [
    "neg_idx = int(lens.model.to_single_token(\"I\"))\n",
    "pos_idx = int(lens.model.to_single_token(\"Here\"))\n",
    "logit_diff_directions = lens.model.tokens_to_residual_directions(neg_idx) - lens.model.tokens_to_residual_directions(pos_idx)\n",
    "\n",
    "n_heads = lens.model.cfg.n_heads\n",
    "n_layers = lens.model.cfg.n_layers\n",
    "lens.tokenizer.padding_side = \"left\"\n",
    "\n",
    "hf_raw, hl_raw = load_dataset(\"mod\")\n",
    "hf, hl = lens.process_dataset(hf_raw, hl_raw)\n",
    "\n",
    "# Create the `here_mask`:\n",
    "with t.no_grad():\n",
    "    logits_cuda = lens.model.forward(hl, return_type=\"logits\", prepend_bos=False)\n",
    "\n",
    "    logits_ = logits_cuda.cpu()\n",
    "    logits_cuda = release_memory(logits_cuda)\n",
    "\n",
    "here_mask = logits_[:, -1].argmax(-1) == pos_idx\n",
    "here_idx = here_mask.long().nonzero().squeeze(-1)\n",
    "\n",
    "hf_logits, hf_cache = lens.auto_scan(hf[here_idx], pattern=None)\n",
    "hl_logits, hl_cache = lens.auto_scan(hl[here_idx], pattern=None)"
   ]
  },
  {
   "cell_type": "markdown",
   "metadata": {},
   "source": [
    "### 2. Define the refusal metric \n",
    "\n",
    "The refusal metric is defined such that: \n",
    "- If the prediction of the model is \"Here\", the score is 0  (the model should refuse)\n",
    "- If the prediction of the model is \"I\", the score is 1\n",
    "- The score is continuous and represent the prediction's distribution between \"Here\" and \"I\""
   ]
  },
  {
   "cell_type": "code",
   "execution_count": 4,
   "metadata": {},
   "outputs": [],
   "source": [
    "def refusal_metric(\n",
    "        logits: Float[t.Tensor, \"batch seq d_vocab\"], \n",
    "        init_logits_diffs: Float[t.Tensor, \"2 batch\"], \n",
    "    ):\n",
    "    patched_logits_diff = logits[:, -1, neg_idx] - logits[:, -1, pos_idx]\n",
    "    return (patched_logits_diff - init_logits_diffs[1]) / (init_logits_diffs[0] - init_logits_diffs[1])"
   ]
  },
  {
   "cell_type": "markdown",
   "metadata": {},
   "source": [
    "### 3. Run forward passes with denoising\n",
    "\n",
    "- Run a forward pass on harmless sentences and cache the intermediate activation\n",
    "- For each component, run a forward pass on the corrupted sentences (harmless), and replace the output of this component by the output of the same component during the harmful pass\n",
    "- Compute the logit difference at the end of the forward pass, to catch the effect of denoising each component and find which component is sufficient to trigger the refusal behavior\n",
    "\n",
    "The forward pass are batched. Each forward pass is performed on a batch of size `n_heads`, so at each iteration, a whole layer is tested. \n",
    "\n",
    "Hence in the following line: \n",
    "```python\n",
    "activations[head, :, head, :] = patch_activations[:, head, :]\n",
    "```\n",
    "&rarr; the first 'head' correspond to the batch_idx\n",
    "\n",
    "&rarr; the second 'head' correspond to the head_idx   "
   ]
  },
  {
   "cell_type": "code",
   "execution_count": 7,
   "metadata": {},
   "outputs": [
    {
     "name": "stderr",
     "output_type": "stream",
     "text": [
      "100%|██████████| 1/1 [00:00<00:00,  7.09it/s]\n",
      "100%|██████████| 1/1 [00:00<00:00,  7.43it/s]]\n",
      "100%|██████████| 1/1 [00:00<00:00,  7.22it/s]]\n",
      "100%|██████████| 1/1 [00:00<00:00,  7.23it/s]]\n",
      "100%|██████████| 1/1 [00:00<00:00,  7.61it/s]]\n",
      "100%|██████████| 1/1 [00:00<00:00,  7.00it/s]]\n",
      "100%|██████████| 1/1 [00:00<00:00,  7.58it/s]]\n",
      "100%|██████████| 1/1 [00:00<00:00,  7.71it/s]]\n",
      "100%|██████████| 1/1 [00:00<00:00,  7.56it/s]]\n",
      "100%|██████████| 1/1 [00:00<00:00,  7.65it/s]]\n",
      "100%|██████████| 10/10 [00:38<00:00,  3.82s/it]\n"
     ]
    },
    {
     "data": {
      "application/vnd.plotly.v1+json": {
       "config": {
        "plotlyServerURL": "https://plot.ly",
        "staticPlot": false
       },
       "data": [
        {
         "coloraxis": "coloraxis",
         "hovertemplate": "x: %{x}<br>y: %{y}<br>color: %{z}<extra></extra>",
         "name": "0",
         "type": "heatmap",
         "xaxis": "x",
         "yaxis": "y",
         "z": [
          [
           0.010063171,
           -0.004634857,
           -0.004753113,
           0.0027561188,
           0.0006971359,
           0.0041236877,
           -0.0003259182,
           0.0022411346,
           0.040771484,
           0.039916992,
           0.0073776245,
           0.00059890747,
           0.004928589,
           -0.00041007996,
           -0.000869751,
           0.0016927719
          ],
          [
           0.0077819824,
           -0.002632141,
           0.00046920776,
           0.002855301,
           0.0026550293,
           0.00029563904,
           -0.0023860931,
           0.018127441,
           0.11126709,
           -0.03439331,
           -0.00021219254,
           -0.003189087,
           -0.003818512,
           -0.00007325411,
           0.0014820099,
           0.0024471283
          ],
          [
           0.016021729,
           0.00020575523,
           0.0013818741,
           0.0015926361,
           0.00057029724,
           0.0050315857,
           0.0049934387,
           0.0112838745,
           -0.010948181,
           0.008644104,
           0.0014038086,
           -0.0021648407,
           -0.0013456345,
           -0.0032176971,
           0.0023727417,
           -0.02268982
          ],
          [
           -0.009407043,
           0.0010280609,
           -0.00013840199,
           0.0018358231,
           -0.0050964355,
           -0.0012454987,
           -0.00096321106,
           0.00491333,
           0.004032135,
           0.02116394,
           0.002380371,
           -0.000012814999,
           0.002445221,
           0.00014233589,
           -0.0005245209,
           0.021881104
          ],
          [
           -0.00007480383,
           0.044067383,
           0.0015964508,
           0.0006327629,
           0.02470398,
           -0.00006043911,
           -0.033935547,
           0.004169464,
           -0.006351471,
           0.012260437,
           -0.008522034,
           0.0019702911,
           -0.0040245056,
           -0.00036406517,
           0.009155273,
           0.00043797493
          ],
          [
           0.0014944077,
           -0.0004415512,
           -0.0033092499,
           -0.00022983551,
           -0.03439331,
           0.001241684,
           0.0060806274,
           -0.0013437271,
           -0.0030326843,
           0.008735657,
           0.0025196075,
           -0.001657486,
           0.0026283264,
           -0.001282692,
           0.03302002,
           -0.000013530254
          ],
          [
           0.0016479492,
           0.0022239685,
           -0.00434494,
           0.0024776459,
           0.012908936,
           -0.000099778175,
           0.34179688,
           0.00016760826,
           0.00422287,
           -0.0043640137,
           0.0023231506,
           0.001709938,
           0.0043411255,
           -0.0013856888,
           -0.0011386871,
           0.0008406639
          ],
          [
           0.000069618225,
           -0.00007003546,
           -0.0046081543,
           0.0020580292,
           0.014373779,
           0.0021953583,
           -0.01739502,
           0.0022010803,
           0.04055786,
           0.0015201569,
           0.0045814514,
           -0.0003502369,
           -0.0072364807,
           -0.00058460236,
           -0.007419586,
           0.00042939186
          ],
          [
           0.00020992756,
           -0.00095939636,
           0.00078344345,
           -0.0016641617,
           -0.006389618,
           0.0006752014,
           -0.0000705719,
           0.18969727,
           -0.012023926,
           -0.0013141632,
           0.013946533,
           -0.0036067963,
           0.0035266876,
           -0.0008907318,
           0.0010795593,
           -0.0010910034
          ],
          [
           -0.0044021606,
           -0.0013494492,
           0.0016584396,
           0.0002901554,
           0.010147095,
           0.00020098686,
           -0.0010795593,
           0.0012273788,
           0.016021729,
           0.0002593994,
           0.023971558,
           -0.00078582764,
           -0.0002529621,
           0.018600464,
           0.0000923872,
           0.00029802322
          ],
          [
           0.000062704086,
           -0.00009793043,
           -0.0035190582,
           0.0015678406,
           -0.002861023,
           0.00028514862,
           0.0007529259,
           0.0031261444,
           0.005470276,
           0.0058288574,
           -0.001455307,
           -0.0074768066,
           -0.00024580956,
           -0.0362854,
           0.00054073334,
           -0.006038666
          ],
          [
           -0.0021038055,
           -0.024459839,
           -0.0017375946,
           -0.013336182,
           -0.007381439,
           0.00016784668,
           0.0001758337,
           0.0051498413,
           0.0016994476,
           -0.0014600754,
           -0.038513184,
           0.0026435852,
           0.0010709763,
           0.013427734,
           0.000031888485,
           0.0021953583
          ],
          [
           -0.0037574768,
           0.00067329407,
           -0.0066375732,
           -0.00026130676,
           -0.009292603,
           0.0002465248,
           0.019195557,
           0.0012931824,
           0.0062561035,
           -0.026290894,
           0.0074043274,
           0.00080633163,
           -0.0013952255,
           0.00021374226,
           0.0005955696,
           -0.0008368492
          ],
          [
           0.00019562244,
           -0.000004887581,
           0.0027179718,
           -0.0022029877,
           -0.0007958412,
           -0.0037326813,
           0.017410278,
           -0.013298035,
           0.12335205,
           0.017150879,
           0.0036678314,
           -0.00033402443,
           -0.0035247803,
           -0.00008165836,
           -0.0010242462,
           -0.00024414062
          ],
          [
           -0.0010700226,
           -0.00024342537,
           -0.0023937225,
           -0.002073288,
           0.0018968582,
           -0.005268097,
           -0.000603199,
           0.0496521,
           -0.058410645,
           0.06640625,
           -0.005493164,
           -0.0013866425,
           0.0008225441,
           0.00069856644,
           0.0022392273,
           0.0038337708
          ],
          [
           -0.00015187263,
           0.0003478527,
           -0.000086545944,
           0.0032138824,
           -0.0005402565,
           0.00076913834,
           0.019607544,
           -0.00047969818,
           0.043029785,
           0.18188477,
           0.0036354065,
           -0.0027008057,
           0.00008952618,
           0.013504028,
           -0.0011529922,
           -0.00049972534
          ],
          [
           -0.0020217896,
           -0.0052375793,
           -0.00034427643,
           -0.0017576218,
           -0.0018968582,
           0.00072574615,
           -0.029464722,
           0.0023918152,
           -0.0006341934,
           -0.000074625015,
           0.012519836,
           0.000009000301,
           -0.0020923615,
           0.00093889236,
           -0.0018672943,
           -0.0003736019
          ],
          [
           0.006965637,
           -0.00033807755,
           -0.004497528,
           -0.0003426075,
           -0.0030708313,
           0.025772095,
           0.0016021729,
           0.0061416626,
           0.0021018982,
           -0.00022685528,
           -0.007118225,
           -0.00029087067,
           0.0044136047,
           0.0065956116,
           -0.00037145615,
           -0.00012683868
          ],
          [
           -0.0007491112,
           -0.0005507469,
           -0.00027561188,
           -0.002620697,
           0.0005507469,
           -0.0016117096,
           -0.0010967255,
           0.0019311905,
           -0.0011339188,
           -0.000010609627,
           0.006690979,
           0.00014674664,
           0.0015459061,
           0.0012664795,
           0.014984131,
           0.00029587746
          ],
          [
           -0.009246826,
           -0.00076293945,
           0.0073242188,
           0.012619019,
           -0.008781433,
           -0.008872986,
           0.06896973,
           -0.013381958,
           0.0005440712,
           0.0071029663,
           -0.006298065,
           -0.0011405945,
           0.005622864,
           -0.00011318922,
           0.077941895,
           0.00022780895
          ],
          [
           -0.009521484,
           -0.013473511,
           -0.003168106,
           -0.0018072128,
           0.0014400482,
           0.000050723553,
           -0.0029392242,
           -0.007019043,
           -0.00025105476,
           0.082092285,
           -0.00018382072,
           0.00057315826,
           -0.062683105,
           -0.0041275024,
           -0.00039815903,
           0.00020003319
          ],
          [
           0.008346558,
           -0.0005750656,
           -0.00046658516,
           0.015701294,
           0.0030708313,
           -0.000364542,
           0.00033426285,
           0.10559082,
           -0.006275177,
           0.14611816,
           -0.000259161,
           0.0022907257,
           0.022079468,
           0.00058078766,
           0.0001155138,
           -0.00057554245
          ],
          [
           -0.0057525635,
           -0.0015087128,
           0.0044136047,
           -0.032989502,
           0.004020691,
           -0.0033493042,
           -0.0016098022,
           -0.0128479,
           0.0010261536,
           -0.06933594,
           -0.00001835823,
           0.0042915344,
           -0.010467529,
           0.0006146431,
           -0.0011539459,
           0.00001513958
          ],
          [
           0.0034751892,
           0.008331299,
           0.000088870525,
           -0.004840851,
           0.003528595,
           -0.000702858,
           -0.0020179749,
           -0.00077676773,
           -0.008972168,
           0.032714844,
           -0.001657486,
           0.000015377998,
           0.03604126,
           0.0027866364,
           0.00022351742,
           -0.0019407272
          ],
          [
           -0.003320694,
           -0.0004324913,
           -0.0036239624,
           0.08312988,
           -0.0039749146,
           -0.004131317,
           -0.0020122528,
           -0.019500732,
           0.14208984,
           0.0064735413,
           0.005554199,
           -0.0074768066,
           -0.0010166168,
           -0.00056934357,
           0.08312988,
           0.060546875
          ],
          [
           -0.00064373016,
           0.0036888123,
           -0.0041542053,
           -0.0011987686,
           0.0027198792,
           -0.0065727234,
           0.05218506,
           0.005268097,
           -0.016998291,
           -0.00030755997,
           0.00034499168,
           0.0005083084,
           -0.002231598,
           0.007610321,
           -0.04067993,
           -0.05911255
          ],
          [
           0.016357422,
           -0.000014483929,
           -0.0020275116,
           -0.0036563873,
           0.0054016113,
           0.0050582886,
           -0.020492554,
           0.027862549,
           -0.00050115585,
           -0.00046300888,
           0.0018043518,
           0.0016593933,
           -0.002729416,
           0.0055732727,
           -0.00021481514,
           0.07489014
          ],
          [
           0.0012483597,
           0.0022411346,
           -0.0014505386,
           0.0041885376,
           -0.0039596558,
           0.009674072,
           0.0043258667,
           0.003250122,
           0.028152466,
           -0.0059547424,
           -0.0020217896,
           0.0046310425,
           0.0018281937,
           -0.00071811676,
           0.005886078,
           -0.014312744
          ],
          [
           0.0022602081,
           0.0042686462,
           -0.00010091066,
           0.003314972,
           0.00035524368,
           0.0032100677,
           0.0030231476,
           -0.002456665,
           -0.041992188,
           0.0018005371,
           -0.0006375313,
           0.005130768,
           0.0012702942,
           0.0021533966,
           0.00022256374,
           0.000037252903
          ],
          [
           0.00018894672,
           -0.0010528564,
           0.0007328987,
           -0.0066337585,
           0.0022602081,
           0.00017619133,
           0.008575439,
           0.002248764,
           0.04727173,
           0.004501343,
           0.003250122,
           -0.0064353943,
           -0.00012755394,
           -0.005645752,
           -0.0014724731,
           -0.0010251999
          ],
          [
           -0.0010585785,
           0.009147644,
           0.031799316,
           -0.0018348694,
           -0.002576828,
           -0.0038795471,
           -0.0020427704,
           0.00008326769,
           -0.014625549,
           -0.0032444,
           0.003850937,
           0.006755829,
           -0.002752304,
           0.00059461594,
           0.0005249977,
           -0.0011920929
          ],
          [
           -0.000048458576,
           -0.0037612915,
           0.00043821335,
           0.0065078735,
           0.0030956268,
           0.1574707,
           0.016433716,
           -0.0033454895,
           0.060943604,
           -0.0043525696,
           -0.0014467239,
           0.0015182495,
           0.0056266785,
           0.0010137558,
           -0.00022912025,
           -0.0002424717
          ]
         ]
        }
       ],
       "layout": {
        "coloraxis": {
         "cmid": 0,
         "colorbar": {
          "x": 1
         },
         "colorscale": [
          [
           0,
           "#A459D1"
          ],
          [
           0.5,
           "#ffffff"
          ],
          [
           1,
           "#FFB84C"
          ]
         ]
        },
        "height": 600,
        "margin": {
         "t": 60
        },
        "paper_bgcolor": "rgba(0,0,0,0)",
        "plot_bgcolor": "rgba(0,0,0,0)",
        "template": {
         "data": {
          "bar": [
           {
            "error_x": {
             "color": "#2a3f5f"
            },
            "error_y": {
             "color": "#2a3f5f"
            },
            "marker": {
             "line": {
              "color": "#E5ECF6",
              "width": 0.5
             },
             "pattern": {
              "fillmode": "overlay",
              "size": 10,
              "solidity": 0.2
             }
            },
            "type": "bar"
           }
          ],
          "barpolar": [
           {
            "marker": {
             "line": {
              "color": "#E5ECF6",
              "width": 0.5
             },
             "pattern": {
              "fillmode": "overlay",
              "size": 10,
              "solidity": 0.2
             }
            },
            "type": "barpolar"
           }
          ],
          "carpet": [
           {
            "aaxis": {
             "endlinecolor": "#2a3f5f",
             "gridcolor": "white",
             "linecolor": "white",
             "minorgridcolor": "white",
             "startlinecolor": "#2a3f5f"
            },
            "baxis": {
             "endlinecolor": "#2a3f5f",
             "gridcolor": "white",
             "linecolor": "white",
             "minorgridcolor": "white",
             "startlinecolor": "#2a3f5f"
            },
            "type": "carpet"
           }
          ],
          "choropleth": [
           {
            "colorbar": {
             "outlinewidth": 0,
             "ticks": ""
            },
            "type": "choropleth"
           }
          ],
          "contour": [
           {
            "colorbar": {
             "outlinewidth": 0,
             "ticks": ""
            },
            "colorscale": [
             [
              0,
              "#0d0887"
             ],
             [
              0.1111111111111111,
              "#46039f"
             ],
             [
              0.2222222222222222,
              "#7201a8"
             ],
             [
              0.3333333333333333,
              "#9c179e"
             ],
             [
              0.4444444444444444,
              "#bd3786"
             ],
             [
              0.5555555555555556,
              "#d8576b"
             ],
             [
              0.6666666666666666,
              "#ed7953"
             ],
             [
              0.7777777777777778,
              "#fb9f3a"
             ],
             [
              0.8888888888888888,
              "#fdca26"
             ],
             [
              1,
              "#f0f921"
             ]
            ],
            "type": "contour"
           }
          ],
          "contourcarpet": [
           {
            "colorbar": {
             "outlinewidth": 0,
             "ticks": ""
            },
            "type": "contourcarpet"
           }
          ],
          "heatmap": [
           {
            "colorbar": {
             "outlinewidth": 0,
             "ticks": ""
            },
            "colorscale": [
             [
              0,
              "#0d0887"
             ],
             [
              0.1111111111111111,
              "#46039f"
             ],
             [
              0.2222222222222222,
              "#7201a8"
             ],
             [
              0.3333333333333333,
              "#9c179e"
             ],
             [
              0.4444444444444444,
              "#bd3786"
             ],
             [
              0.5555555555555556,
              "#d8576b"
             ],
             [
              0.6666666666666666,
              "#ed7953"
             ],
             [
              0.7777777777777778,
              "#fb9f3a"
             ],
             [
              0.8888888888888888,
              "#fdca26"
             ],
             [
              1,
              "#f0f921"
             ]
            ],
            "type": "heatmap"
           }
          ],
          "heatmapgl": [
           {
            "colorbar": {
             "outlinewidth": 0,
             "ticks": ""
            },
            "colorscale": [
             [
              0,
              "#0d0887"
             ],
             [
              0.1111111111111111,
              "#46039f"
             ],
             [
              0.2222222222222222,
              "#7201a8"
             ],
             [
              0.3333333333333333,
              "#9c179e"
             ],
             [
              0.4444444444444444,
              "#bd3786"
             ],
             [
              0.5555555555555556,
              "#d8576b"
             ],
             [
              0.6666666666666666,
              "#ed7953"
             ],
             [
              0.7777777777777778,
              "#fb9f3a"
             ],
             [
              0.8888888888888888,
              "#fdca26"
             ],
             [
              1,
              "#f0f921"
             ]
            ],
            "type": "heatmapgl"
           }
          ],
          "histogram": [
           {
            "marker": {
             "pattern": {
              "fillmode": "overlay",
              "size": 10,
              "solidity": 0.2
             }
            },
            "type": "histogram"
           }
          ],
          "histogram2d": [
           {
            "colorbar": {
             "outlinewidth": 0,
             "ticks": ""
            },
            "colorscale": [
             [
              0,
              "#0d0887"
             ],
             [
              0.1111111111111111,
              "#46039f"
             ],
             [
              0.2222222222222222,
              "#7201a8"
             ],
             [
              0.3333333333333333,
              "#9c179e"
             ],
             [
              0.4444444444444444,
              "#bd3786"
             ],
             [
              0.5555555555555556,
              "#d8576b"
             ],
             [
              0.6666666666666666,
              "#ed7953"
             ],
             [
              0.7777777777777778,
              "#fb9f3a"
             ],
             [
              0.8888888888888888,
              "#fdca26"
             ],
             [
              1,
              "#f0f921"
             ]
            ],
            "type": "histogram2d"
           }
          ],
          "histogram2dcontour": [
           {
            "colorbar": {
             "outlinewidth": 0,
             "ticks": ""
            },
            "colorscale": [
             [
              0,
              "#0d0887"
             ],
             [
              0.1111111111111111,
              "#46039f"
             ],
             [
              0.2222222222222222,
              "#7201a8"
             ],
             [
              0.3333333333333333,
              "#9c179e"
             ],
             [
              0.4444444444444444,
              "#bd3786"
             ],
             [
              0.5555555555555556,
              "#d8576b"
             ],
             [
              0.6666666666666666,
              "#ed7953"
             ],
             [
              0.7777777777777778,
              "#fb9f3a"
             ],
             [
              0.8888888888888888,
              "#fdca26"
             ],
             [
              1,
              "#f0f921"
             ]
            ],
            "type": "histogram2dcontour"
           }
          ],
          "mesh3d": [
           {
            "colorbar": {
             "outlinewidth": 0,
             "ticks": ""
            },
            "type": "mesh3d"
           }
          ],
          "parcoords": [
           {
            "line": {
             "colorbar": {
              "outlinewidth": 0,
              "ticks": ""
             }
            },
            "type": "parcoords"
           }
          ],
          "pie": [
           {
            "automargin": true,
            "type": "pie"
           }
          ],
          "scatter": [
           {
            "fillpattern": {
             "fillmode": "overlay",
             "size": 10,
             "solidity": 0.2
            },
            "type": "scatter"
           }
          ],
          "scatter3d": [
           {
            "line": {
             "colorbar": {
              "outlinewidth": 0,
              "ticks": ""
             }
            },
            "marker": {
             "colorbar": {
              "outlinewidth": 0,
              "ticks": ""
             }
            },
            "type": "scatter3d"
           }
          ],
          "scattercarpet": [
           {
            "marker": {
             "colorbar": {
              "outlinewidth": 0,
              "ticks": ""
             }
            },
            "type": "scattercarpet"
           }
          ],
          "scattergeo": [
           {
            "marker": {
             "colorbar": {
              "outlinewidth": 0,
              "ticks": ""
             }
            },
            "type": "scattergeo"
           }
          ],
          "scattergl": [
           {
            "marker": {
             "colorbar": {
              "outlinewidth": 0,
              "ticks": ""
             }
            },
            "type": "scattergl"
           }
          ],
          "scattermapbox": [
           {
            "marker": {
             "colorbar": {
              "outlinewidth": 0,
              "ticks": ""
             }
            },
            "type": "scattermapbox"
           }
          ],
          "scatterpolar": [
           {
            "marker": {
             "colorbar": {
              "outlinewidth": 0,
              "ticks": ""
             }
            },
            "type": "scatterpolar"
           }
          ],
          "scatterpolargl": [
           {
            "marker": {
             "colorbar": {
              "outlinewidth": 0,
              "ticks": ""
             }
            },
            "type": "scatterpolargl"
           }
          ],
          "scatterternary": [
           {
            "marker": {
             "colorbar": {
              "outlinewidth": 0,
              "ticks": ""
             }
            },
            "type": "scatterternary"
           }
          ],
          "surface": [
           {
            "colorbar": {
             "outlinewidth": 0,
             "ticks": ""
            },
            "colorscale": [
             [
              0,
              "#0d0887"
             ],
             [
              0.1111111111111111,
              "#46039f"
             ],
             [
              0.2222222222222222,
              "#7201a8"
             ],
             [
              0.3333333333333333,
              "#9c179e"
             ],
             [
              0.4444444444444444,
              "#bd3786"
             ],
             [
              0.5555555555555556,
              "#d8576b"
             ],
             [
              0.6666666666666666,
              "#ed7953"
             ],
             [
              0.7777777777777778,
              "#fb9f3a"
             ],
             [
              0.8888888888888888,
              "#fdca26"
             ],
             [
              1,
              "#f0f921"
             ]
            ],
            "type": "surface"
           }
          ],
          "table": [
           {
            "cells": {
             "fill": {
              "color": "#EBF0F8"
             },
             "line": {
              "color": "white"
             }
            },
            "header": {
             "fill": {
              "color": "#C8D4E3"
             },
             "line": {
              "color": "white"
             }
            },
            "type": "table"
           }
          ]
         },
         "layout": {
          "annotationdefaults": {
           "arrowcolor": "#2a3f5f",
           "arrowhead": 0,
           "arrowwidth": 1
          },
          "autotypenumbers": "strict",
          "coloraxis": {
           "colorbar": {
            "outlinewidth": 0,
            "ticks": ""
           }
          },
          "colorscale": {
           "diverging": [
            [
             0,
             "#8e0152"
            ],
            [
             0.1,
             "#c51b7d"
            ],
            [
             0.2,
             "#de77ae"
            ],
            [
             0.3,
             "#f1b6da"
            ],
            [
             0.4,
             "#fde0ef"
            ],
            [
             0.5,
             "#f7f7f7"
            ],
            [
             0.6,
             "#e6f5d0"
            ],
            [
             0.7,
             "#b8e186"
            ],
            [
             0.8,
             "#7fbc41"
            ],
            [
             0.9,
             "#4d9221"
            ],
            [
             1,
             "#276419"
            ]
           ],
           "sequential": [
            [
             0,
             "#0d0887"
            ],
            [
             0.1111111111111111,
             "#46039f"
            ],
            [
             0.2222222222222222,
             "#7201a8"
            ],
            [
             0.3333333333333333,
             "#9c179e"
            ],
            [
             0.4444444444444444,
             "#bd3786"
            ],
            [
             0.5555555555555556,
             "#d8576b"
            ],
            [
             0.6666666666666666,
             "#ed7953"
            ],
            [
             0.7777777777777778,
             "#fb9f3a"
            ],
            [
             0.8888888888888888,
             "#fdca26"
            ],
            [
             1,
             "#f0f921"
            ]
           ],
           "sequentialminus": [
            [
             0,
             "#0d0887"
            ],
            [
             0.1111111111111111,
             "#46039f"
            ],
            [
             0.2222222222222222,
             "#7201a8"
            ],
            [
             0.3333333333333333,
             "#9c179e"
            ],
            [
             0.4444444444444444,
             "#bd3786"
            ],
            [
             0.5555555555555556,
             "#d8576b"
            ],
            [
             0.6666666666666666,
             "#ed7953"
            ],
            [
             0.7777777777777778,
             "#fb9f3a"
            ],
            [
             0.8888888888888888,
             "#fdca26"
            ],
            [
             1,
             "#f0f921"
            ]
           ]
          },
          "colorway": [
           "#636efa",
           "#EF553B",
           "#00cc96",
           "#ab63fa",
           "#FFA15A",
           "#19d3f3",
           "#FF6692",
           "#B6E880",
           "#FF97FF",
           "#FECB52"
          ],
          "font": {
           "color": "#2a3f5f"
          },
          "geo": {
           "bgcolor": "white",
           "lakecolor": "white",
           "landcolor": "#E5ECF6",
           "showlakes": true,
           "showland": true,
           "subunitcolor": "white"
          },
          "hoverlabel": {
           "align": "left"
          },
          "hovermode": "closest",
          "mapbox": {
           "style": "light"
          },
          "paper_bgcolor": "white",
          "plot_bgcolor": "#E5ECF6",
          "polar": {
           "angularaxis": {
            "gridcolor": "white",
            "linecolor": "white",
            "ticks": ""
           },
           "bgcolor": "#E5ECF6",
           "radialaxis": {
            "gridcolor": "white",
            "linecolor": "white",
            "ticks": ""
           }
          },
          "scene": {
           "xaxis": {
            "backgroundcolor": "#E5ECF6",
            "gridcolor": "white",
            "gridwidth": 2,
            "linecolor": "white",
            "showbackground": true,
            "ticks": "",
            "zerolinecolor": "white"
           },
           "yaxis": {
            "backgroundcolor": "#E5ECF6",
            "gridcolor": "white",
            "gridwidth": 2,
            "linecolor": "white",
            "showbackground": true,
            "ticks": "",
            "zerolinecolor": "white"
           },
           "zaxis": {
            "backgroundcolor": "#E5ECF6",
            "gridcolor": "white",
            "gridwidth": 2,
            "linecolor": "white",
            "showbackground": true,
            "ticks": "",
            "zerolinecolor": "white"
           }
          },
          "shapedefaults": {
           "line": {
            "color": "#2a3f5f"
           }
          },
          "ternary": {
           "aaxis": {
            "gridcolor": "white",
            "linecolor": "white",
            "ticks": ""
           },
           "baxis": {
            "gridcolor": "white",
            "linecolor": "white",
            "ticks": ""
           },
           "bgcolor": "#E5ECF6",
           "caxis": {
            "gridcolor": "white",
            "linecolor": "white",
            "ticks": ""
           }
          },
          "title": {
           "x": 0.05
          },
          "xaxis": {
           "automargin": true,
           "gridcolor": "white",
           "linecolor": "white",
           "ticks": "",
           "title": {
            "standoff": 15
           },
           "zerolinecolor": "white",
           "zerolinewidth": 2
          },
          "yaxis": {
           "automargin": true,
           "gridcolor": "white",
           "linecolor": "white",
           "ticks": "",
           "title": {
            "standoff": 15
           },
           "zerolinecolor": "white",
           "zerolinewidth": 2
          }
         }
        },
        "title": {
         "text": "Patching Attribution",
         "x": 0.5,
         "xanchor": "center",
         "y": 0.95,
         "yanchor": "top"
        },
        "width": 400,
        "xaxis": {
         "anchor": "y",
         "constrain": "domain",
         "domain": [
          0,
          1
         ],
         "linecolor": "black",
         "linewidth": 1,
         "mirror": true,
         "scaleanchor": "y",
         "showline": true,
         "title": {
          "text": "Layers"
         }
        },
        "yaxis": {
         "anchor": "x",
         "autorange": "reversed",
         "constrain": "domain",
         "domain": [
          0,
          1
         ],
         "linecolor": "black",
         "linewidth": 1,
         "mirror": true,
         "showline": true,
         "title": {
          "text": "Heads"
         }
        }
       }
      }
     },
     "metadata": {},
     "output_type": "display_data"
    }
   ],
   "source": [
    "def batch_hook_fn(activations, hook, patch_activations: Float[t.Tensor, \"seq_len n_heads d_heads\"]):\n",
    "    for head in range(n_heads):\n",
    "        activations[head, :, head, :] = patch_activations[:, head, :]\n",
    "    return activations\n",
    "\n",
    "\n",
    "full_scores_list = []\n",
    "with t.no_grad():\n",
    "    for i in tqdm.tqdm(here_idx[:10]):\n",
    "        prompts = [lens.apply_chat_template(p) for p in [hf_raw[i], hl_raw[i]]]\n",
    "        tokens = lens.tokenizer(prompts, padding=True, add_special_tokens=False, return_tensors=\"pt\").input_ids\n",
    "\n",
    "        logits, cache = lens.auto_scan(tokens, pattern=\"z\")\n",
    "        hook_z = cache.stack_activation(\"z\")\n",
    "        init_logits_diff = (logits[:, -1, neg_idx] - logits[:, -1, pos_idx]).unsqueeze(-1).repeat(1, n_heads)\n",
    "\n",
    "        scores_list = []\n",
    "\n",
    "        for layer in range(n_layers):\n",
    "            fwd_hooks: HookList = [\n",
    "                (tl.utils.get_act_name(\"z\", layer=layer), partial(batch_hook_fn, patch_activations=hook_z[layer, 0]))\n",
    "            ]\n",
    "\n",
    "            with lens.model.hooks(fwd_hooks=fwd_hooks) as hooked_model:\n",
    "                logits = hooked_model.forward(tokens[1].unsqueeze(0).repeat(n_heads, 1), return_type=\"logits\")\n",
    "\n",
    "                scores_list.append(refusal_metric(logits.cpu(), init_logits_diff))\n",
    "                logits = release_memory(logits)\n",
    "\n",
    "        full_scores_list.append(t.vstack(scores_list))\n",
    "\n",
    "imshow(t.cat([x.unsqueeze(0) for x in full_scores_list], dim=0).mean(dim=0).T, xaxis_title=\"Layers\", yaxis_title=\"Heads\", title=f\"Patching Attribution\", size=(600, 400), border=True)"
   ]
  },
  {
   "cell_type": "markdown",
   "metadata": {},
   "source": [
    "### 4. DLA\n",
    "\n",
    "This part's code is borrowed in large part from the ARENA course: <https://arena-chapter1-transformer-interp.streamlit.app/[1.4.1]_Indirect_Object_Identification>. \n",
    "\n",
    "In our case, the \"correct\" answer is the refusal (\"I\"), and the incorrect answer is the acceptance (\"Here\"). "
   ]
  },
  {
   "cell_type": "code",
   "execution_count": 10,
   "metadata": {},
   "outputs": [],
   "source": [
    "hf_logit_diffs = hf_logits[:, -1, neg_idx] - hf_logits[:, -1, pos_idx]\n",
    "hf_final = hf_cache[\"resid_post\", -1][:, -1, :]\n",
    "hl_final = hl_cache[\"resid_post\", -1][:, -1, :]\n",
    "hf_final_scaled = hf_cache.apply_ln_to_stack(hf_final, layer=-1, pos_slice=-1)\n",
    "hl_final_scaled = hl_cache.apply_ln_to_stack(hl_final, layer=-1, pos_slice=-1)\n",
    "\n",
    "def residual_stack_to_logit_diff(\n",
    "    residual_stack: Float[t.Tensor, \"... batch d_model\"],\n",
    "    cache: tl.ActivationCache,\n",
    "    logit_diff_directions: Float[t.Tensor, \"d_model\"] = logit_diff_directions,\n",
    ") -> Float[t.Tensor, \"...\"]:\n",
    "    \"\"\"\n",
    "    Gets the avg logit difference between the correct and incorrect answer for a given stack of components in the\n",
    "    residual stream.\n",
    "    \"\"\"\n",
    "    batch_size = residual_stack.size(-2)\n",
    "    scaled_residual_stack = cache.apply_ln_to_stack(residual_stack, layer=-1, pos_slice=-1)\n",
    "    return (\n",
    "        einops.einsum(scaled_residual_stack.cuda().half(), logit_diff_directions.unsqueeze(0).repeat(batch_size, 1), \"... batch d_model, batch d_model -> ...\")\n",
    "        / batch_size\n",
    "    )\n",
    "\n",
    "accumulated_residual, labels = hf_cache.accumulated_resid(layer=-1, incl_mid=True, pos_slice=-1, return_labels=True)\n",
    "logit_lens_logit_diffs: Float[t.Tensor, \"component\"] = residual_stack_to_logit_diff(accumulated_residual, hf_cache)"
   ]
  },
  {
   "cell_type": "code",
   "execution_count": null,
   "metadata": {},
   "outputs": [
    {
     "data": {
      "text/plain": [
       "<Figure size 1200x600 with 0 Axes>"
      ]
     },
     "metadata": {},
     "output_type": "display_data"
    },
    {
     "data": {
      "image/png": "[encoded data removed]",
      "text/plain": [
       "<Figure size 1200x600 with 1 Axes>"
      ]
     },
     "metadata": {
      "needs_background": "light"
     },
     "output_type": "display_data"
    }
   ],
   "source": [
    "plt.rcParams.update({\n",
    "    'font.size': 15,\n",
    "    'axes.titlesize': 17,\n",
    "    'axes.labelsize': 15,\n",
    "    'xtick.labelsize': 13,\n",
    "    'ytick.labelsize': 13,\n",
    "    'legend.fontsize': 13,\n",
    "    'figure.titlesize': 18,\n",
    "    'lines.linewidth': 3\n",
    "})\n",
    "\n",
    "support = np.arange(logit_lens_logit_diffs.shape[0]) / 2\n",
    "\n",
    "plt.figure(figsize=(12, 6)) \n",
    "fig, ax = plt.subplots(figsize=(12, 6))\n",
    "plt.plot(support, logit_lens_logit_diffs.detach().cpu().numpy(), color=VIOLET, label=\"Accumulated contribution\")\n",
    "\n",
    "intervention_layers = [14]\n",
    "for layer in intervention_layers:\n",
    "    plt.axvline(x=layer, color='gray', linestyle=':', alpha=0.7)\n",
    "\n",
    "\n",
    "plt.xlabel(\"Layers\")\n",
    "plt.xticks(support, labels, rotation=45, ha='right')  # type: ignore\n",
    "plt.ylabel(\"Logit difference\")\n",
    "plt.title(\"Layer Attribution\")\n",
    "plt.legend()\n",
    "fig.patch.set_alpha(0)\n",
    "ax.set_facecolor(\"none\")\n",
    "\n",
    "plt.show()"
   ]
  },
  {
   "cell_type": "markdown",
   "metadata": {},
   "source": [
    "### 5. Compute DLA per heads\n",
    "\n",
    "Instead of computing the contribution of each layer, we can take the contribution to each individual head and verify that the result coincide. \n",
    "\n",
    "The next part relies heavily on the Transformer Lens library, that has utilities for this. "
   ]
  },
  {
   "cell_type": "code",
   "execution_count": 13,
   "metadata": {},
   "outputs": [
    {
     "name": "stderr",
     "output_type": "stream",
     "text": [
      "100%|██████████| 1/1 [00:00<00:00,  6.05it/s]\n"
     ]
    },
    {
     "name": "stdout",
     "output_type": "stream",
     "text": [
      "Tried to stack head results when they weren't cached. Computing head results now\n"
     ]
    },
    {
     "name": "stderr",
     "output_type": "stream",
     "text": [
      "100%|██████████| 1/1 [00:00<00:00,  6.13it/s]\n"
     ]
    },
    {
     "name": "stdout",
     "output_type": "stream",
     "text": [
      "Tried to stack head results when they weren't cached. Computing head results now\n"
     ]
    },
    {
     "name": "stderr",
     "output_type": "stream",
     "text": [
      "100%|██████████| 1/1 [00:00<00:00,  6.43it/s]\n"
     ]
    },
    {
     "name": "stdout",
     "output_type": "stream",
     "text": [
      "Tried to stack head results when they weren't cached. Computing head results now\n"
     ]
    },
    {
     "name": "stderr",
     "output_type": "stream",
     "text": [
      "100%|██████████| 1/1 [00:00<00:00,  6.33it/s]\n"
     ]
    },
    {
     "name": "stdout",
     "output_type": "stream",
     "text": [
      "Tried to stack head results when they weren't cached. Computing head results now\n"
     ]
    },
    {
     "name": "stderr",
     "output_type": "stream",
     "text": [
      "100%|██████████| 1/1 [00:00<00:00,  6.34it/s]\n"
     ]
    },
    {
     "name": "stdout",
     "output_type": "stream",
     "text": [
      "Tried to stack head results when they weren't cached. Computing head results now\n"
     ]
    },
    {
     "name": "stderr",
     "output_type": "stream",
     "text": [
      "100%|██████████| 1/1 [00:00<00:00,  6.23it/s]\n"
     ]
    },
    {
     "name": "stdout",
     "output_type": "stream",
     "text": [
      "Tried to stack head results when they weren't cached. Computing head results now\n"
     ]
    },
    {
     "name": "stderr",
     "output_type": "stream",
     "text": [
      "100%|██████████| 1/1 [00:00<00:00,  6.19it/s]\n"
     ]
    },
    {
     "name": "stdout",
     "output_type": "stream",
     "text": [
      "Tried to stack head results when they weren't cached. Computing head results now\n"
     ]
    },
    {
     "name": "stderr",
     "output_type": "stream",
     "text": [
      "100%|██████████| 1/1 [00:00<00:00,  6.11it/s]\n"
     ]
    },
    {
     "name": "stdout",
     "output_type": "stream",
     "text": [
      "Tried to stack head results when they weren't cached. Computing head results now\n"
     ]
    },
    {
     "name": "stderr",
     "output_type": "stream",
     "text": [
      "100%|██████████| 1/1 [00:00<00:00,  6.35it/s]\n"
     ]
    },
    {
     "name": "stdout",
     "output_type": "stream",
     "text": [
      "Tried to stack head results when they weren't cached. Computing head results now\n"
     ]
    },
    {
     "name": "stderr",
     "output_type": "stream",
     "text": [
      "100%|██████████| 1/1 [00:00<00:00,  6.32it/s]\n"
     ]
    },
    {
     "name": "stdout",
     "output_type": "stream",
     "text": [
      "Tried to stack head results when they weren't cached. Computing head results now\n"
     ]
    },
    {
     "name": "stderr",
     "output_type": "stream",
     "text": [
      "100%|██████████| 1/1 [00:00<00:00,  6.34it/s]\n"
     ]
    },
    {
     "name": "stdout",
     "output_type": "stream",
     "text": [
      "Tried to stack head results when they weren't cached. Computing head results now\n"
     ]
    },
    {
     "name": "stderr",
     "output_type": "stream",
     "text": [
      "100%|██████████| 1/1 [00:00<00:00,  6.00it/s]\n"
     ]
    },
    {
     "name": "stdout",
     "output_type": "stream",
     "text": [
      "Tried to stack head results when they weren't cached. Computing head results now\n"
     ]
    },
    {
     "name": "stderr",
     "output_type": "stream",
     "text": [
      "100%|██████████| 1/1 [00:00<00:00,  6.27it/s]\n"
     ]
    },
    {
     "name": "stdout",
     "output_type": "stream",
     "text": [
      "Tried to stack head results when they weren't cached. Computing head results now\n"
     ]
    },
    {
     "name": "stderr",
     "output_type": "stream",
     "text": [
      "100%|██████████| 1/1 [00:00<00:00,  6.05it/s]\n"
     ]
    },
    {
     "name": "stdout",
     "output_type": "stream",
     "text": [
      "Tried to stack head results when they weren't cached. Computing head results now\n"
     ]
    },
    {
     "name": "stderr",
     "output_type": "stream",
     "text": [
      "100%|██████████| 1/1 [00:00<00:00,  6.23it/s]\n"
     ]
    },
    {
     "name": "stdout",
     "output_type": "stream",
     "text": [
      "Tried to stack head results when they weren't cached. Computing head results now\n"
     ]
    },
    {
     "name": "stderr",
     "output_type": "stream",
     "text": [
      "100%|██████████| 1/1 [00:00<00:00,  5.97it/s]\n"
     ]
    },
    {
     "name": "stdout",
     "output_type": "stream",
     "text": [
      "Tried to stack head results when they weren't cached. Computing head results now\n"
     ]
    },
    {
     "name": "stderr",
     "output_type": "stream",
     "text": [
      "100%|██████████| 1/1 [00:00<00:00,  5.90it/s]\n"
     ]
    },
    {
     "name": "stdout",
     "output_type": "stream",
     "text": [
      "Tried to stack head results when they weren't cached. Computing head results now\n"
     ]
    },
    {
     "name": "stderr",
     "output_type": "stream",
     "text": [
      "100%|██████████| 1/1 [00:00<00:00,  6.15it/s]\n"
     ]
    },
    {
     "name": "stdout",
     "output_type": "stream",
     "text": [
      "Tried to stack head results when they weren't cached. Computing head results now\n"
     ]
    },
    {
     "name": "stderr",
     "output_type": "stream",
     "text": [
      "100%|██████████| 1/1 [00:00<00:00,  6.20it/s]\n"
     ]
    },
    {
     "name": "stdout",
     "output_type": "stream",
     "text": [
      "Tried to stack head results when they weren't cached. Computing head results now\n"
     ]
    },
    {
     "name": "stderr",
     "output_type": "stream",
     "text": [
      "100%|██████████| 1/1 [00:00<00:00,  6.23it/s]\n"
     ]
    },
    {
     "name": "stdout",
     "output_type": "stream",
     "text": [
      "Tried to stack head results when they weren't cached. Computing head results now\n"
     ]
    },
    {
     "name": "stderr",
     "output_type": "stream",
     "text": [
      "100%|██████████| 1/1 [00:00<00:00,  6.15it/s]\n"
     ]
    },
    {
     "name": "stdout",
     "output_type": "stream",
     "text": [
      "Tried to stack head results when they weren't cached. Computing head results now\n"
     ]
    },
    {
     "name": "stderr",
     "output_type": "stream",
     "text": [
      "100%|██████████| 1/1 [00:00<00:00,  6.24it/s]\n"
     ]
    },
    {
     "name": "stdout",
     "output_type": "stream",
     "text": [
      "Tried to stack head results when they weren't cached. Computing head results now\n"
     ]
    },
    {
     "name": "stderr",
     "output_type": "stream",
     "text": [
      "100%|██████████| 1/1 [00:00<00:00,  6.07it/s]\n"
     ]
    },
    {
     "name": "stdout",
     "output_type": "stream",
     "text": [
      "Tried to stack head results when they weren't cached. Computing head results now\n"
     ]
    },
    {
     "name": "stderr",
     "output_type": "stream",
     "text": [
      "100%|██████████| 1/1 [00:00<00:00,  5.83it/s]\n"
     ]
    },
    {
     "name": "stdout",
     "output_type": "stream",
     "text": [
      "Tried to stack head results when they weren't cached. Computing head results now\n"
     ]
    },
    {
     "name": "stderr",
     "output_type": "stream",
     "text": [
      "100%|██████████| 1/1 [00:00<00:00,  5.34it/s]\n"
     ]
    },
    {
     "name": "stdout",
     "output_type": "stream",
     "text": [
      "Tried to stack head results when they weren't cached. Computing head results now\n"
     ]
    },
    {
     "name": "stderr",
     "output_type": "stream",
     "text": [
      "100%|██████████| 1/1 [00:00<00:00,  5.20it/s]\n"
     ]
    },
    {
     "name": "stdout",
     "output_type": "stream",
     "text": [
      "Tried to stack head results when they weren't cached. Computing head results now\n"
     ]
    },
    {
     "name": "stderr",
     "output_type": "stream",
     "text": [
      "100%|██████████| 1/1 [00:00<00:00,  5.79it/s]\n"
     ]
    },
    {
     "name": "stdout",
     "output_type": "stream",
     "text": [
      "Tried to stack head results when they weren't cached. Computing head results now\n"
     ]
    },
    {
     "name": "stderr",
     "output_type": "stream",
     "text": [
      "100%|██████████| 1/1 [00:00<00:00,  5.84it/s]\n"
     ]
    },
    {
     "name": "stdout",
     "output_type": "stream",
     "text": [
      "Tried to stack head results when they weren't cached. Computing head results now\n"
     ]
    },
    {
     "name": "stderr",
     "output_type": "stream",
     "text": [
      "100%|██████████| 1/1 [00:00<00:00,  5.47it/s]\n"
     ]
    },
    {
     "name": "stdout",
     "output_type": "stream",
     "text": [
      "Tried to stack head results when they weren't cached. Computing head results now\n"
     ]
    },
    {
     "name": "stderr",
     "output_type": "stream",
     "text": [
      "100%|██████████| 1/1 [00:00<00:00,  5.81it/s]\n"
     ]
    },
    {
     "name": "stdout",
     "output_type": "stream",
     "text": [
      "Tried to stack head results when they weren't cached. Computing head results now\n"
     ]
    },
    {
     "name": "stderr",
     "output_type": "stream",
     "text": [
      "100%|██████████| 1/1 [00:00<00:00,  5.91it/s]\n"
     ]
    },
    {
     "name": "stdout",
     "output_type": "stream",
     "text": [
      "Tried to stack head results when they weren't cached. Computing head results now\n"
     ]
    },
    {
     "name": "stderr",
     "output_type": "stream",
     "text": [
      "100%|██████████| 1/1 [00:00<00:00,  5.45it/s]\n"
     ]
    },
    {
     "name": "stdout",
     "output_type": "stream",
     "text": [
      "Tried to stack head results when they weren't cached. Computing head results now\n"
     ]
    },
    {
     "name": "stderr",
     "output_type": "stream",
     "text": [
      "100%|██████████| 1/1 [00:00<00:00,  5.88it/s]\n"
     ]
    },
    {
     "name": "stdout",
     "output_type": "stream",
     "text": [
      "Tried to stack head results when they weren't cached. Computing head results now\n"
     ]
    },
    {
     "name": "stderr",
     "output_type": "stream",
     "text": [
      "100%|██████████| 1/1 [00:00<00:00,  5.88it/s]\n"
     ]
    },
    {
     "name": "stdout",
     "output_type": "stream",
     "text": [
      "Tried to stack head results when they weren't cached. Computing head results now\n"
     ]
    },
    {
     "name": "stderr",
     "output_type": "stream",
     "text": [
      "100%|██████████| 1/1 [00:00<00:00,  5.95it/s]\n"
     ]
    },
    {
     "name": "stdout",
     "output_type": "stream",
     "text": [
      "Tried to stack head results when they weren't cached. Computing head results now\n"
     ]
    },
    {
     "name": "stderr",
     "output_type": "stream",
     "text": [
      "100%|██████████| 1/1 [00:00<00:00,  5.52it/s]\n"
     ]
    },
    {
     "name": "stdout",
     "output_type": "stream",
     "text": [
      "Tried to stack head results when they weren't cached. Computing head results now\n"
     ]
    },
    {
     "name": "stderr",
     "output_type": "stream",
     "text": [
      "100%|██████████| 1/1 [00:00<00:00,  5.44it/s]\n"
     ]
    },
    {
     "name": "stdout",
     "output_type": "stream",
     "text": [
      "Tried to stack head results when they weren't cached. Computing head results now\n"
     ]
    },
    {
     "name": "stderr",
     "output_type": "stream",
     "text": [
      "100%|██████████| 1/1 [00:00<00:00,  5.77it/s]\n"
     ]
    },
    {
     "name": "stdout",
     "output_type": "stream",
     "text": [
      "Tried to stack head results when they weren't cached. Computing head results now\n"
     ]
    },
    {
     "name": "stderr",
     "output_type": "stream",
     "text": [
      "100%|██████████| 1/1 [00:00<00:00,  5.78it/s]\n"
     ]
    },
    {
     "name": "stdout",
     "output_type": "stream",
     "text": [
      "Tried to stack head results when they weren't cached. Computing head results now\n"
     ]
    },
    {
     "name": "stderr",
     "output_type": "stream",
     "text": [
      "100%|██████████| 1/1 [00:00<00:00,  5.81it/s]\n"
     ]
    },
    {
     "name": "stdout",
     "output_type": "stream",
     "text": [
      "Tried to stack head results when they weren't cached. Computing head results now\n"
     ]
    },
    {
     "name": "stderr",
     "output_type": "stream",
     "text": [
      "100%|██████████| 1/1 [00:00<00:00,  5.82it/s]\n"
     ]
    },
    {
     "name": "stdout",
     "output_type": "stream",
     "text": [
      "Tried to stack head results when they weren't cached. Computing head results now\n"
     ]
    },
    {
     "name": "stderr",
     "output_type": "stream",
     "text": [
      "100%|██████████| 1/1 [00:00<00:00,  5.77it/s]\n"
     ]
    },
    {
     "name": "stdout",
     "output_type": "stream",
     "text": [
      "Tried to stack head results when they weren't cached. Computing head results now\n"
     ]
    },
    {
     "name": "stderr",
     "output_type": "stream",
     "text": [
      "100%|██████████| 1/1 [00:00<00:00,  5.77it/s]\n"
     ]
    },
    {
     "name": "stdout",
     "output_type": "stream",
     "text": [
      "Tried to stack head results when they weren't cached. Computing head results now\n"
     ]
    },
    {
     "name": "stderr",
     "output_type": "stream",
     "text": [
      "100%|██████████| 1/1 [00:00<00:00,  5.78it/s]\n"
     ]
    },
    {
     "name": "stdout",
     "output_type": "stream",
     "text": [
      "Tried to stack head results when they weren't cached. Computing head results now\n"
     ]
    },
    {
     "name": "stderr",
     "output_type": "stream",
     "text": [
      "100%|██████████| 1/1 [00:00<00:00,  5.67it/s]\n"
     ]
    },
    {
     "name": "stdout",
     "output_type": "stream",
     "text": [
      "Tried to stack head results when they weren't cached. Computing head results now\n"
     ]
    },
    {
     "name": "stderr",
     "output_type": "stream",
     "text": [
      "100%|██████████| 1/1 [00:00<00:00,  5.32it/s]\n"
     ]
    },
    {
     "name": "stdout",
     "output_type": "stream",
     "text": [
      "Tried to stack head results when they weren't cached. Computing head results now\n"
     ]
    },
    {
     "name": "stderr",
     "output_type": "stream",
     "text": [
      "100%|██████████| 1/1 [00:00<00:00,  5.90it/s]\n"
     ]
    },
    {
     "name": "stdout",
     "output_type": "stream",
     "text": [
      "Tried to stack head results when they weren't cached. Computing head results now\n"
     ]
    },
    {
     "name": "stderr",
     "output_type": "stream",
     "text": [
      "100%|██████████| 1/1 [00:00<00:00,  6.18it/s]\n"
     ]
    },
    {
     "name": "stdout",
     "output_type": "stream",
     "text": [
      "Tried to stack head results when they weren't cached. Computing head results now\n"
     ]
    },
    {
     "name": "stderr",
     "output_type": "stream",
     "text": [
      "100%|██████████| 1/1 [00:00<00:00,  6.26it/s]\n"
     ]
    },
    {
     "name": "stdout",
     "output_type": "stream",
     "text": [
      "Tried to stack head results when they weren't cached. Computing head results now\n"
     ]
    },
    {
     "name": "stderr",
     "output_type": "stream",
     "text": [
      "100%|██████████| 1/1 [00:00<00:00,  6.27it/s]\n"
     ]
    },
    {
     "name": "stdout",
     "output_type": "stream",
     "text": [
      "Tried to stack head results when they weren't cached. Computing head results now\n"
     ]
    },
    {
     "name": "stderr",
     "output_type": "stream",
     "text": [
      "100%|██████████| 1/1 [00:00<00:00,  6.30it/s]\n"
     ]
    },
    {
     "name": "stdout",
     "output_type": "stream",
     "text": [
      "Tried to stack head results when they weren't cached. Computing head results now\n"
     ]
    },
    {
     "data": {
      "application/vnd.plotly.v1+json": {
       "config": {
        "plotlyServerURL": "https://plot.ly",
        "staticPlot": false
       },
       "data": [
        {
         "coloraxis": "coloraxis",
         "hovertemplate": "x: %{x}<br>y: %{y}<br>color: %{z}<extra></extra>",
         "name": "0",
         "type": "heatmap",
         "xaxis": "x",
         "yaxis": "y",
         "z": [
          [
           2.0357666,
           0.35232925,
           0.1222744,
           0.3124466,
           -0.3266487,
           -0.23871231,
           0.76652527,
           -1.2964783,
           -1.2046509,
           2.991394,
           0.087109566,
           -0.56030273,
           0.1442585,
           -0.29454803,
           0.14727402,
           -7.4208984
          ],
          [
           0.64707184,
           -0.22470474,
           0.088617325,
           1.063797,
           1.2746887,
           -0.17344093,
           -1.2528992,
           -2.9384766,
           4.3049927,
           -1.5027008,
           -0.09615612,
           -0.7505722,
           1.0038757,
           0.20914078,
           -0.41127777,
           2.9804993
          ],
          [
           -0.05145836,
           -0.400383,
           0.13647652,
           0.1998024,
           0.7019348,
           -0.03073883,
           2.9042358,
           0.8435669,
           -1.3579559,
           1.1525116,
           -0.38851547,
           -0.11351967,
           1.7167053,
           1.4598999,
           -0.36244583,
           -7.75708
          ],
          [
           -0.23384857,
           0.11390877,
           0.41322327,
           -0.16867447,
           -0.119939804,
           0.0898819,
           -1.1525116,
           2.4108582,
           -0.0032404661,
           -2.4046326,
           -0.40583038,
           0.36341858,
           1.2591248,
           0.6182785,
           0.21361542,
           26.520996
          ],
          [
           0.034775734,
           -0.32606506,
           -0.99687195,
           -0.19688416,
           0.17713737,
           0.22626114,
           2.5369263,
           -2.4917908,
           0.41750336,
           -1.2085419,
           -1.263794,
           1.4420013,
           0.006857872,
           -0.3517456,
           1.8894653,
           0.28112411
          ],
          [
           0.04975605,
           0.18219566,
           -1.4062042,
           0.25583267,
           -2.3875122,
           0.35388565,
           0.13122368,
           0.90270996,
           -1.923706,
           -0.6159439,
           -0.68831635,
           -3.3400269,
           -2.516693,
           0.59337616,
           -3.2435303,
           -1.1081543
          ],
          [
           0.03672123,
           -0.31653214,
           1.0427856,
           -0.16040611,
           -0.3069992,
           -0.5241165,
           -8.7282715,
           0.46925354,
           0.038909912,
           -0.10291672,
           1.3750763,
           -0.35349655,
           -1.4746857,
           0.38559723,
           -0.34299088,
           0.7887039
          ],
          [
           0.0465703,
           -0.11702156,
           -1.0334473,
           -0.2861824,
           0.7202225,
           0.90037537,
           1.5929718,
           -1.33461,
           0.5229492,
           -2.7190247,
           -0.1762619,
           0.34415817,
           1.9050293,
           -0.32956696,
           -0.8318939,
           0.76652527
          ],
          [
           0.4381256,
           -0.7610779,
           -0.1354065,
           -0.22820663,
           -0.36516953,
           0.032514095,
           0.03465414,
           0.98908997,
           1.3750763,
           -0.72761536,
           -1.8349915,
           2.0559998,
           -0.010675907,
           -1.4591217,
           2.15094,
           2.2380981
          ],
          [
           -0.30797195,
           -0.34960556,
           -0.17869377,
           -1.213211,
           -1.3081512,
           -0.16157341,
           0.082099915,
           -1.9283752,
           -0.19814873,
           0.080251694,
           0.94862366,
           -1.1750793,
           -0.23073578,
           2.8746643,
           0.20291519,
           1.134613
          ],
          [
           0.22314835,
           -0.12927818,
           -0.12003708,
           0.07188606,
           0.08886051,
           -0.40855408,
           -0.11371422,
           -1.9890747,
           1.4910278,
           0.37392426,
           -0.2889061,
           0.7194443,
           -0.14960861,
           -2.5805054,
           0.38481903,
           1.0474548
          ],
          [
           -0.105932236,
           -0.51361084,
           -0.034581184,
           0.11741066,
           0.6268387,
           1.5050354,
           0.714386,
           2.210083,
           -0.7879257,
           -0.07028103,
           0.5233383,
           2.1556091,
           0.33423615,
           2.775055,
           0.27703857,
           4.3672485
          ],
          [
           -0.2210083,
           0.2704239,
           -2.2054138,
           -0.59143066,
           -1.5330505,
           -1.0217743,
           0.9299469,
           1.7945251,
           -4.840393,
           1.6513367,
           -0.38676453,
           0.3713951,
           -0.51322174,
           -0.2634201,
           -0.13453102,
           -0.29921722
          ],
          [
           -0.0039396286,
           0.06463909,
           0.05053425,
           0.20622253,
           -0.18793488,
           1.3128204,
           2.5602722,
           -0.50388336,
           4.8933105,
           -1.0552368,
           -0.95095825,
           0.06770325,
           -0.11439514,
           0.023941755,
           -0.5758667,
           0.6953201
          ],
          [
           -0.41516876,
           -0.06925964,
           -0.7606888,
           0.81010437,
           -0.06298542,
           -0.11760521,
           -2.0482178,
           -0.2190628,
           -0.76613617,
           1.1945343,
           4.8933105,
           -1.3851929,
           -0.29493713,
           -0.30213547,
           -1.3602905,
           2.0186462
          ],
          [
           -0.009654522,
           -0.14250755,
           0.11206055,
           -0.34688187,
           0.90037537,
           -0.68247986,
           -3.246643,
           2.2801208,
           1.8303223,
           -0.35466385,
           3.2746582,
           0.6560211,
           0.27548218,
           0.33929443,
           -0.31458664,
           -0.2402687
          ],
          [
           -0.55057526,
           0.31925583,
           -1.9439392,
           0.30096817,
           -0.3575821,
           -0.017752647,
           1.4614563,
           -0.9649658,
           3.654419,
           0.63773346,
           0.45407867,
           -0.20505524,
           -0.00046813488,
           -0.41750336,
           0.32197952,
           0.22548294
          ],
          [
           0.19503593,
           0.15262413,
           0.6287842,
           -0.3799553,
           0.21244812,
           0.0663414,
           -0.85523987,
           -1.146286,
           -0.7011566,
           -1.5610657,
           3.246643,
           -0.50660706,
           -1.5548401,
           -3.894104,
           -1.5618439,
           0.5389023
          ],
          [
           -0.26828384,
           -0.018299818,
           -0.031419754,
           0.59609985,
           -0.81166077,
           -1.8132019,
           -1.1960907,
           -0.22489929,
           0.64123535,
           -0.23968506,
           -0.7910385,
           -0.6692505,
           0.50816345,
           0.0663414,
           5.518982,
           0.73928833
          ],
          [
           -1.8661194,
           -0.24046326,
           -0.13832474,
           0.37236786,
           0.8731384,
           -0.85913086,
           -2.2661133,
           -2.0264282,
           -0.785202,
           0.86769104,
           -1.2497864,
           0.29629898,
           0.36400223,
           0.8536835,
           55.930664,
           -0.02067089
          ],
          [
           -0.64979553,
           0.36692047,
           0.31653214,
           -0.64006805,
           -0.8521271,
           -0.16731262,
           1.9096985,
           -4.466858,
           -1.5914154,
           0.18044472,
           -0.68442535,
           -0.20894623,
           -0.19717598,
           -0.10398674,
           -0.10058212,
           1.4396667
          ],
          [
           1.044342,
           -0.8770294,
           0.15602875,
           1.4038696,
           -0.17538643,
           1.5330505,
           -0.3363762,
           -0.11945343,
           0.7855911,
           -3.7011108,
           -0.38404083,
           -0.4859848,
           -0.36166763,
           0.7015457,
           0.097372055,
           -0.16254616
          ],
          [
           -0.37859344,
           2.248993,
           -0.51789093,
           -2.1727295,
           -0.82099915,
           0.33112335,
           0.3293724,
           2.2318726,
           2.955597,
           -2.1384888,
           0.6571884,
           -0.077528,
           2.261444,
           0.2217865,
           -0.13209915,
           -0.032197952
          ],
          [
           -2.2676697,
           1.1820831,
           -0.11925888,
           -0.1430912,
           0.21400452,
           1.2902527,
           -1.5330505,
           3.4458618,
           -1.1198273,
           -1.8739014,
           -0.55796814,
           1.0879211,
           2.3454895,
           -0.87158203,
           -0.18997765,
           -4.7252197
          ],
          [
           -0.008049488,
           -0.17577553,
           -0.7883148,
           -0.0935297,
           -0.10700226,
           -0.115465164,
           -0.33073425,
           2.1914062,
           -1.7758484,
           -2.1524963,
           -1.3135986,
           -0.7206116,
           0.2854042,
           -0.033657074,
           9.71814,
           10.228638
          ],
          [
           0.03295183,
           -0.5381241,
           0.31303024,
           0.16264343,
           1.9252625,
           0.77586365,
           1.0015411,
           5.0582886,
           2.0902405,
           0.49999237,
           -1.0988159,
           0.5213928,
           -1.1929779,
           2.787506,
           -23.707031,
           -10.820068
          ],
          [
           0.24085236,
           0.1211071,
           -0.39065552,
           -0.59026337,
           -0.10758591,
           -1.4645691,
           1.2505646,
           -3.592163,
           0.36361313,
           -1.0101013,
           -1.4412231,
           0.94784546,
           -2.6863403,
           -0.28112411,
           0.894928,
           22.760742
          ],
          [
           -0.2595291,
           -0.12927818,
           0.45057678,
           0.20991898,
           -0.08530998,
           0.4486313,
           2.7859497,
           -3.3338013,
           -1.0770264,
           5.1361084,
           0.85523987,
           0.4482422,
           1.5011444,
           0.270813,
           13.559326,
           -1.6326599
          ],
          [
           -5.5843506,
           -0.21225357,
           0.36108398,
           -1.6591187,
           0.10622406,
           -0.32178497,
           -0.9346161,
           0.1650753,
           -2.5960693,
           0.77275085,
           -0.90193176,
           -0.63734436,
           0.43267822,
           2.8046265,
           0.38442993,
           -0.40894318
          ],
          [
           0.38170624,
           -0.3721733,
           -0.95251465,
           -2.029541,
           0.42917633,
           0.18287659,
           -1.259903,
           -2.3065796,
           1.0879211,
           -0.27567673,
           -0.9260559,
           0.17577553,
           -0.22879028,
           0.16186523,
           -0.965744,
           -0.19377136
          ],
          [
           0.64201355,
           -0.08924961,
           0.15262413,
           -2.3050232,
           -0.10058212,
           0.12314987,
           3.3151245,
           -0.055641174,
           3.1937256,
           -1.1556244,
           1.0466766,
           -0.050631523,
           0.18346024,
           -0.68559265,
           -0.17071724,
           0.058948517
          ],
          [
           0.6676941,
           -0.17830467,
           -0.2406578,
           0.119161606,
           1.1532898,
           1.8209839,
           0.6295624,
           -0.03295183,
           -3.6264038,
           0.8466797,
           12.021606,
           0.21536636,
           0.2618637,
           -0.12665176,
           -0.006955147,
           -0.040004253
          ]
         ]
        }
       ],
       "layout": {
        "coloraxis": {
         "cmid": 0.5,
         "colorbar": {
          "x": 1
         },
         "colorscale": [
          [
           0,
           "#A459D1"
          ],
          [
           0.5,
           "#ffffff"
          ],
          [
           1,
           "#FFB84C"
          ]
         ]
        },
        "height": 600,
        "margin": {
         "t": 60
        },
        "paper_bgcolor": "rgba(0,0,0,0)",
        "plot_bgcolor": "rgba(0,0,0,0)",
        "template": {
         "data": {
          "bar": [
           {
            "error_x": {
             "color": "#2a3f5f"
            },
            "error_y": {
             "color": "#2a3f5f"
            },
            "marker": {
             "line": {
              "color": "#E5ECF6",
              "width": 0.5
             },
             "pattern": {
              "fillmode": "overlay",
              "size": 10,
              "solidity": 0.2
             }
            },
            "type": "bar"
           }
          ],
          "barpolar": [
           {
            "marker": {
             "line": {
              "color": "#E5ECF6",
              "width": 0.5
             },
             "pattern": {
              "fillmode": "overlay",
              "size": 10,
              "solidity": 0.2
             }
            },
            "type": "barpolar"
           }
          ],
          "carpet": [
           {
            "aaxis": {
             "endlinecolor": "#2a3f5f",
             "gridcolor": "white",
             "linecolor": "white",
             "minorgridcolor": "white",
             "startlinecolor": "#2a3f5f"
            },
            "baxis": {
             "endlinecolor": "#2a3f5f",
             "gridcolor": "white",
             "linecolor": "white",
             "minorgridcolor": "white",
             "startlinecolor": "#2a3f5f"
            },
            "type": "carpet"
           }
          ],
          "choropleth": [
           {
            "colorbar": {
             "outlinewidth": 0,
             "ticks": ""
            },
            "type": "choropleth"
           }
          ],
          "contour": [
           {
            "colorbar": {
             "outlinewidth": 0,
             "ticks": ""
            },
            "colorscale": [
             [
              0,
              "#0d0887"
             ],
             [
              0.1111111111111111,
              "#46039f"
             ],
             [
              0.2222222222222222,
              "#7201a8"
             ],
             [
              0.3333333333333333,
              "#9c179e"
             ],
             [
              0.4444444444444444,
              "#bd3786"
             ],
             [
              0.5555555555555556,
              "#d8576b"
             ],
             [
              0.6666666666666666,
              "#ed7953"
             ],
             [
              0.7777777777777778,
              "#fb9f3a"
             ],
             [
              0.8888888888888888,
              "#fdca26"
             ],
             [
              1,
              "#f0f921"
             ]
            ],
            "type": "contour"
           }
          ],
          "contourcarpet": [
           {
            "colorbar": {
             "outlinewidth": 0,
             "ticks": ""
            },
            "type": "contourcarpet"
           }
          ],
          "heatmap": [
           {
            "colorbar": {
             "outlinewidth": 0,
             "ticks": ""
            },
            "colorscale": [
             [
              0,
              "#0d0887"
             ],
             [
              0.1111111111111111,
              "#46039f"
             ],
             [
              0.2222222222222222,
              "#7201a8"
             ],
             [
              0.3333333333333333,
              "#9c179e"
             ],
             [
              0.4444444444444444,
              "#bd3786"
             ],
             [
              0.5555555555555556,
              "#d8576b"
             ],
             [
              0.6666666666666666,
              "#ed7953"
             ],
             [
              0.7777777777777778,
              "#fb9f3a"
             ],
             [
              0.8888888888888888,
              "#fdca26"
             ],
             [
              1,
              "#f0f921"
             ]
            ],
            "type": "heatmap"
           }
          ],
          "heatmapgl": [
           {
            "colorbar": {
             "outlinewidth": 0,
             "ticks": ""
            },
            "colorscale": [
             [
              0,
              "#0d0887"
             ],
             [
              0.1111111111111111,
              "#46039f"
             ],
             [
              0.2222222222222222,
              "#7201a8"
             ],
             [
              0.3333333333333333,
              "#9c179e"
             ],
             [
              0.4444444444444444,
              "#bd3786"
             ],
             [
              0.5555555555555556,
              "#d8576b"
             ],
             [
              0.6666666666666666,
              "#ed7953"
             ],
             [
              0.7777777777777778,
              "#fb9f3a"
             ],
             [
              0.8888888888888888,
              "#fdca26"
             ],
             [
              1,
              "#f0f921"
             ]
            ],
            "type": "heatmapgl"
           }
          ],
          "histogram": [
           {
            "marker": {
             "pattern": {
              "fillmode": "overlay",
              "size": 10,
              "solidity": 0.2
             }
            },
            "type": "histogram"
           }
          ],
          "histogram2d": [
           {
            "colorbar": {
             "outlinewidth": 0,
             "ticks": ""
            },
            "colorscale": [
             [
              0,
              "#0d0887"
             ],
             [
              0.1111111111111111,
              "#46039f"
             ],
             [
              0.2222222222222222,
              "#7201a8"
             ],
             [
              0.3333333333333333,
              "#9c179e"
             ],
             [
              0.4444444444444444,
              "#bd3786"
             ],
             [
              0.5555555555555556,
              "#d8576b"
             ],
             [
              0.6666666666666666,
              "#ed7953"
             ],
             [
              0.7777777777777778,
              "#fb9f3a"
             ],
             [
              0.8888888888888888,
              "#fdca26"
             ],
             [
              1,
              "#f0f921"
             ]
            ],
            "type": "histogram2d"
           }
          ],
          "histogram2dcontour": [
           {
            "colorbar": {
             "outlinewidth": 0,
             "ticks": ""
            },
            "colorscale": [
             [
              0,
              "#0d0887"
             ],
             [
              0.1111111111111111,
              "#46039f"
             ],
             [
              0.2222222222222222,
              "#7201a8"
             ],
             [
              0.3333333333333333,
              "#9c179e"
             ],
             [
              0.4444444444444444,
              "#bd3786"
             ],
             [
              0.5555555555555556,
              "#d8576b"
             ],
             [
              0.6666666666666666,
              "#ed7953"
             ],
             [
              0.7777777777777778,
              "#fb9f3a"
             ],
             [
              0.8888888888888888,
              "#fdca26"
             ],
             [
              1,
              "#f0f921"
             ]
            ],
            "type": "histogram2dcontour"
           }
          ],
          "mesh3d": [
           {
            "colorbar": {
             "outlinewidth": 0,
             "ticks": ""
            },
            "type": "mesh3d"
           }
          ],
          "parcoords": [
           {
            "line": {
             "colorbar": {
              "outlinewidth": 0,
              "ticks": ""
             }
            },
            "type": "parcoords"
           }
          ],
          "pie": [
           {
            "automargin": true,
            "type": "pie"
           }
          ],
          "scatter": [
           {
            "fillpattern": {
             "fillmode": "overlay",
             "size": 10,
             "solidity": 0.2
            },
            "type": "scatter"
           }
          ],
          "scatter3d": [
           {
            "line": {
             "colorbar": {
              "outlinewidth": 0,
              "ticks": ""
             }
            },
            "marker": {
             "colorbar": {
              "outlinewidth": 0,
              "ticks": ""
             }
            },
            "type": "scatter3d"
           }
          ],
          "scattercarpet": [
           {
            "marker": {
             "colorbar": {
              "outlinewidth": 0,
              "ticks": ""
             }
            },
            "type": "scattercarpet"
           }
          ],
          "scattergeo": [
           {
            "marker": {
             "colorbar": {
              "outlinewidth": 0,
              "ticks": ""
             }
            },
            "type": "scattergeo"
           }
          ],
          "scattergl": [
           {
            "marker": {
             "colorbar": {
              "outlinewidth": 0,
              "ticks": ""
             }
            },
            "type": "scattergl"
           }
          ],
          "scattermapbox": [
           {
            "marker": {
             "colorbar": {
              "outlinewidth": 0,
              "ticks": ""
             }
            },
            "type": "scattermapbox"
           }
          ],
          "scatterpolar": [
           {
            "marker": {
             "colorbar": {
              "outlinewidth": 0,
              "ticks": ""
             }
            },
            "type": "scatterpolar"
           }
          ],
          "scatterpolargl": [
           {
            "marker": {
             "colorbar": {
              "outlinewidth": 0,
              "ticks": ""
             }
            },
            "type": "scatterpolargl"
           }
          ],
          "scatterternary": [
           {
            "marker": {
             "colorbar": {
              "outlinewidth": 0,
              "ticks": ""
             }
            },
            "type": "scatterternary"
           }
          ],
          "surface": [
           {
            "colorbar": {
             "outlinewidth": 0,
             "ticks": ""
            },
            "colorscale": [
             [
              0,
              "#0d0887"
             ],
             [
              0.1111111111111111,
              "#46039f"
             ],
             [
              0.2222222222222222,
              "#7201a8"
             ],
             [
              0.3333333333333333,
              "#9c179e"
             ],
             [
              0.4444444444444444,
              "#bd3786"
             ],
             [
              0.5555555555555556,
              "#d8576b"
             ],
             [
              0.6666666666666666,
              "#ed7953"
             ],
             [
              0.7777777777777778,
              "#fb9f3a"
             ],
             [
              0.8888888888888888,
              "#fdca26"
             ],
             [
              1,
              "#f0f921"
             ]
            ],
            "type": "surface"
           }
          ],
          "table": [
           {
            "cells": {
             "fill": {
              "color": "#EBF0F8"
             },
             "line": {
              "color": "white"
             }
            },
            "header": {
             "fill": {
              "color": "#C8D4E3"
             },
             "line": {
              "color": "white"
             }
            },
            "type": "table"
           }
          ]
         },
         "layout": {
          "annotationdefaults": {
           "arrowcolor": "#2a3f5f",
           "arrowhead": 0,
           "arrowwidth": 1
          },
          "autotypenumbers": "strict",
          "coloraxis": {
           "colorbar": {
            "outlinewidth": 0,
            "ticks": ""
           }
          },
          "colorscale": {
           "diverging": [
            [
             0,
             "#8e0152"
            ],
            [
             0.1,
             "#c51b7d"
            ],
            [
             0.2,
             "#de77ae"
            ],
            [
             0.3,
             "#f1b6da"
            ],
            [
             0.4,
             "#fde0ef"
            ],
            [
             0.5,
             "#f7f7f7"
            ],
            [
             0.6,
             "#e6f5d0"
            ],
            [
             0.7,
             "#b8e186"
            ],
            [
             0.8,
             "#7fbc41"
            ],
            [
             0.9,
             "#4d9221"
            ],
            [
             1,
             "#276419"
            ]
           ],
           "sequential": [
            [
             0,
             "#0d0887"
            ],
            [
             0.1111111111111111,
             "#46039f"
            ],
            [
             0.2222222222222222,
             "#7201a8"
            ],
            [
             0.3333333333333333,
             "#9c179e"
            ],
            [
             0.4444444444444444,
             "#bd3786"
            ],
            [
             0.5555555555555556,
             "#d8576b"
            ],
            [
             0.6666666666666666,
             "#ed7953"
            ],
            [
             0.7777777777777778,
             "#fb9f3a"
            ],
            [
             0.8888888888888888,
             "#fdca26"
            ],
            [
             1,
             "#f0f921"
            ]
           ],
           "sequentialminus": [
            [
             0,
             "#0d0887"
            ],
            [
             0.1111111111111111,
             "#46039f"
            ],
            [
             0.2222222222222222,
             "#7201a8"
            ],
            [
             0.3333333333333333,
             "#9c179e"
            ],
            [
             0.4444444444444444,
             "#bd3786"
            ],
            [
             0.5555555555555556,
             "#d8576b"
            ],
            [
             0.6666666666666666,
             "#ed7953"
            ],
            [
             0.7777777777777778,
             "#fb9f3a"
            ],
            [
             0.8888888888888888,
             "#fdca26"
            ],
            [
             1,
             "#f0f921"
            ]
           ]
          },
          "colorway": [
           "#636efa",
           "#EF553B",
           "#00cc96",
           "#ab63fa",
           "#FFA15A",
           "#19d3f3",
           "#FF6692",
           "#B6E880",
           "#FF97FF",
           "#FECB52"
          ],
          "font": {
           "color": "#2a3f5f"
          },
          "geo": {
           "bgcolor": "white",
           "lakecolor": "white",
           "landcolor": "#E5ECF6",
           "showlakes": true,
           "showland": true,
           "subunitcolor": "white"
          },
          "hoverlabel": {
           "align": "left"
          },
          "hovermode": "closest",
          "mapbox": {
           "style": "light"
          },
          "paper_bgcolor": "white",
          "plot_bgcolor": "#E5ECF6",
          "polar": {
           "angularaxis": {
            "gridcolor": "white",
            "linecolor": "white",
            "ticks": ""
           },
           "bgcolor": "#E5ECF6",
           "radialaxis": {
            "gridcolor": "white",
            "linecolor": "white",
            "ticks": ""
           }
          },
          "scene": {
           "xaxis": {
            "backgroundcolor": "#E5ECF6",
            "gridcolor": "white",
            "gridwidth": 2,
            "linecolor": "white",
            "showbackground": true,
            "ticks": "",
            "zerolinecolor": "white"
           },
           "yaxis": {
            "backgroundcolor": "#E5ECF6",
            "gridcolor": "white",
            "gridwidth": 2,
            "linecolor": "white",
            "showbackground": true,
            "ticks": "",
            "zerolinecolor": "white"
           },
           "zaxis": {
            "backgroundcolor": "#E5ECF6",
            "gridcolor": "white",
            "gridwidth": 2,
            "linecolor": "white",
            "showbackground": true,
            "ticks": "",
            "zerolinecolor": "white"
           }
          },
          "shapedefaults": {
           "line": {
            "color": "#2a3f5f"
           }
          },
          "ternary": {
           "aaxis": {
            "gridcolor": "white",
            "linecolor": "white",
            "ticks": ""
           },
           "baxis": {
            "gridcolor": "white",
            "linecolor": "white",
            "ticks": ""
           },
           "bgcolor": "#E5ECF6",
           "caxis": {
            "gridcolor": "white",
            "linecolor": "white",
            "ticks": ""
           }
          },
          "title": {
           "x": 0.05
          },
          "xaxis": {
           "automargin": true,
           "gridcolor": "white",
           "linecolor": "white",
           "ticks": "",
           "title": {
            "standoff": 15
           },
           "zerolinecolor": "white",
           "zerolinewidth": 2
          },
          "yaxis": {
           "automargin": true,
           "gridcolor": "white",
           "linecolor": "white",
           "ticks": "",
           "title": {
            "standoff": 15
           },
           "zerolinecolor": "white",
           "zerolinewidth": 2
          }
         }
        },
        "title": {
         "text": "Direct Logit Attribution",
         "x": 0.5,
         "xanchor": "center",
         "y": 0.95,
         "yanchor": "top"
        },
        "width": 400,
        "xaxis": {
         "anchor": "y",
         "constrain": "domain",
         "domain": [
          0,
          1
         ],
         "linecolor": "black",
         "linewidth": 1,
         "mirror": true,
         "scaleanchor": "y",
         "showline": true,
         "title": {
          "text": "Layers"
         }
        },
        "yaxis": {
         "anchor": "x",
         "autorange": "reversed",
         "constrain": "domain",
         "domain": [
          0,
          1
         ],
         "linecolor": "black",
         "linewidth": 1,
         "mirror": true,
         "showline": true,
         "title": {
          "text": "Heads"
         }
        }
       }
      }
     },
     "metadata": {},
     "output_type": "display_data"
    }
   ],
   "source": [
    "scores = t.zeros(n_layers, n_heads)\n",
    "\n",
    "with t.no_grad():\n",
    "    for i in range(len(hf[here_idx])):\n",
    "        _, hf_smal_cache = lens.auto_scan(hf[here_idx][0], pattern=None)\n",
    "        hf_smal_cache = hf_smal_cache.to(\"cuda\")\n",
    "        per_head_residual, labels = hf_smal_cache.stack_head_results(layer=-1, pos_slice=-1, return_labels=True)\n",
    "        per_head_residual = einops.rearrange(per_head_residual, \"(layer head) ... -> layer head ...\", layer=lens.model.cfg.n_layers)\n",
    "        per_head_logit_diffs = residual_stack_to_logit_diff(per_head_residual, hf_smal_cache)\n",
    "        scores += per_head_logit_diffs.cpu()\n",
    "\n",
    "        per_head_logit_diffs, per_head_residual, hf_smal_cache = release_memory(per_head_logit_diffs, per_head_residual, hf_smal_cache)\n",
    "\n",
    "imshow(scores.T, color_continuous_midpoint=0.5, xaxis_title=\"Layers\", yaxis_title=\"Heads\", title=f\"Direct Logit Attribution\", size=(600, 400), border=True)"
   ]
  }
 ],
 "metadata": {
  "kernelspec": {
   "display_name": "ssr",
   "language": "python",
   "name": "python3"
  },
  "language_info": {
   "codemirror_mode": {
    "name": "ipython",
    "version": 3
   },
   "file_extension": ".py",
   "mimetype": "text/x-python",
   "name": "python",
   "nbconvert_exporter": "python",
   "pygments_lexer": "ipython3",
   "version": "3.12.9"
  }
 },
 "nbformat": 4,
 "nbformat_minor": 2
}
