{
 "cells": [
  {
   "cell_type": "code",
   "execution_count": 1,
   "metadata": {},
   "outputs": [
    {
     "name": "stdout",
     "output_type": "stream",
     "text": [
      "Loaded pretrained model Qwen/Qwen2.5-1.5B-Instruct into HookedTransformer\n"
     ]
    }
   ],
   "source": [
    "from ssr.lens import Lens\n",
    "\n",
    "MODEL_NAME = \"qwen2.5_1.5b\"\n",
    "lens = Lens.from_config(MODEL_NAME)"
   ]
  },
  {
   "cell_type": "code",
   "execution_count": 2,
   "metadata": {},
   "outputs": [],
   "source": [
    "import json\n",
    "import torch as t\n",
    "import einops \n",
    "\n",
    "from ssr.datasets  import load_dataset, process_dataset, scan_dataset, get_max_seq_len\n",
    "from ssr.classifiers import activations_to_dataloader, train_and_test_classifier\n",
    "from ssr import DEVICE, PROBES_CONFIG_PATH, pprint\n",
    "from reproduce_experiments.plot import imshow\n",
    "\n",
    "titles = {\n",
    "    \"llama3.2_1b\": \"Llama 3.2 1b\",\n",
    "    \"llama3.2_3b\": \"Llama 3.2 3b\",\n",
    "    \"qwen2.5_1.5b\": \"Qwen 2.5 1.5b\",\n",
    "    \"gemma2_2b\": \"Gemma 2 2b\"\n",
    "}\n",
    "\n",
    "TRAIN_SET = 160\n",
    "VAL_SET = 40\n",
    "\n",
    "n_layers = lens.model.cfg.n_layers\n",
    "display_name = titles[MODEL_NAME]"
   ]
  },
  {
   "cell_type": "code",
   "execution_count": 3,
   "metadata": {},
   "outputs": [
    {
     "name": "stderr",
     "output_type": "stream",
     "text": [
      "  0%|          | 0/1 [00:00<?, ?it/s]\n"
     ]
    },
    {
     "data": {
      "text/html": [
       "<pre style=\"white-space:pre;overflow-x:auto;line-height:normal;font-family:Menlo,'DejaVu Sans Mono',consolas,'Courier New',monospace\">Decreasing batch size to: <span style=\"color: #008080; text-decoration-color: #008080; font-weight: bold\">85</span>\n",
       "</pre>\n"
      ],
      "text/plain": [
       "Decreasing batch size to: \u001b[1;36m85\u001b[0m\n"
      ]
     },
     "metadata": {},
     "output_type": "display_data"
    },
    {
     "name": "stderr",
     "output_type": "stream",
     "text": [
      "  0%|          | 0/3 [00:00<?, ?it/s]\n"
     ]
    },
    {
     "data": {
      "text/html": [
       "<pre style=\"white-space:pre;overflow-x:auto;line-height:normal;font-family:Menlo,'DejaVu Sans Mono',consolas,'Courier New',monospace\">Decreasing batch size to: <span style=\"color: #008080; text-decoration-color: #008080; font-weight: bold\">42</span>\n",
       "</pre>\n"
      ],
      "text/plain": [
       "Decreasing batch size to: \u001b[1;36m42\u001b[0m\n"
      ]
     },
     "metadata": {},
     "output_type": "display_data"
    },
    {
     "name": "stderr",
     "output_type": "stream",
     "text": [
      "100%|██████████| 5/5 [00:02<00:00,  2.21it/s]\n",
      "  0%|          | 0/1 [00:00<?, ?it/s]\n"
     ]
    },
    {
     "data": {
      "text/html": [
       "<pre style=\"white-space:pre;overflow-x:auto;line-height:normal;font-family:Menlo,'DejaVu Sans Mono',consolas,'Courier New',monospace\">Decreasing batch size to: <span style=\"color: #008080; text-decoration-color: #008080; font-weight: bold\">85</span>\n",
       "</pre>\n"
      ],
      "text/plain": [
       "Decreasing batch size to: \u001b[1;36m85\u001b[0m\n"
      ]
     },
     "metadata": {},
     "output_type": "display_data"
    },
    {
     "name": "stderr",
     "output_type": "stream",
     "text": [
      "  0%|          | 0/3 [00:00<?, ?it/s]\n"
     ]
    },
    {
     "data": {
      "text/html": [
       "<pre style=\"white-space:pre;overflow-x:auto;line-height:normal;font-family:Menlo,'DejaVu Sans Mono',consolas,'Courier New',monospace\">Decreasing batch size to: <span style=\"color: #008080; text-decoration-color: #008080; font-weight: bold\">42</span>\n",
       "</pre>\n"
      ],
      "text/plain": [
       "Decreasing batch size to: \u001b[1;36m42\u001b[0m\n"
      ]
     },
     "metadata": {},
     "output_type": "display_data"
    },
    {
     "name": "stderr",
     "output_type": "stream",
     "text": [
      "100%|██████████| 5/5 [00:02<00:00,  2.33it/s]\n"
     ]
    },
    {
     "data": {
      "text/html": [
       "<pre style=\"white-space:pre;overflow-x:auto;line-height:normal;font-family:Menlo,'DejaVu Sans Mono',consolas,'Courier New',monospace\"><span style=\"color: #800080; text-decoration-color: #800080; font-weight: bold\">torch.Size</span><span style=\"font-weight: bold\">([</span><span style=\"color: #008080; text-decoration-color: #008080; font-weight: bold\">28</span>, <span style=\"color: #008080; text-decoration-color: #008080; font-weight: bold\">160</span>, <span style=\"color: #008080; text-decoration-color: #008080; font-weight: bold\">1536</span><span style=\"font-weight: bold\">])</span>\n",
       "<span style=\"color: #800080; text-decoration-color: #800080; font-weight: bold\">torch.Size</span><span style=\"font-weight: bold\">([</span><span style=\"color: #008080; text-decoration-color: #008080; font-weight: bold\">28</span>, <span style=\"color: #008080; text-decoration-color: #008080; font-weight: bold\">11</span>, <span style=\"color: #008080; text-decoration-color: #008080; font-weight: bold\">1536</span><span style=\"font-weight: bold\">])</span>\n",
       "</pre>\n"
      ],
      "text/plain": [
       "\u001b[1;35mtorch.Size\u001b[0m\u001b[1m(\u001b[0m\u001b[1m[\u001b[0m\u001b[1;36m28\u001b[0m, \u001b[1;36m160\u001b[0m, \u001b[1;36m1536\u001b[0m\u001b[1m]\u001b[0m\u001b[1m)\u001b[0m\n",
       "\u001b[1;35mtorch.Size\u001b[0m\u001b[1m(\u001b[0m\u001b[1m[\u001b[0m\u001b[1;36m28\u001b[0m, \u001b[1;36m11\u001b[0m, \u001b[1;36m1536\u001b[0m\u001b[1m]\u001b[0m\u001b[1m)\u001b[0m\n"
      ]
     },
     "metadata": {},
     "output_type": "display_data"
    }
   ],
   "source": [
    "hf_raw, hl_raw = load_dataset(max_samples=TRAIN_SET+VAL_SET)\n",
    "\n",
    "if MODEL_NAME == \"gemma2_2b\": \n",
    "    seq_len, nb_samples = get_max_seq_len(lens, hf_raw, hl_raw)\n",
    "    hf, hl = process_dataset(\n",
    "        lens,\n",
    "        hf_raw,\n",
    "        hl_raw,\n",
    "        system_message=None, \n",
    "        seq_len=seq_len\n",
    "    )\n",
    "\n",
    "    hf_act, hl_act = scan_dataset(\n",
    "        lens,\n",
    "        hf,\n",
    "        hl,\n",
    "        pattern=\"resid_post\",\n",
    "        stack_act_name=\"resid_post\",\n",
    "        reduce_seq_method=\"last\",\n",
    "    )\n",
    "    hf_train, hf_val = hf_act, hf_act\n",
    "    hl_train, hl_val = hl_act, hl_act\n",
    "\n",
    "else:\n",
    "    hf, hl = process_dataset(\n",
    "        lens,\n",
    "        hf_raw,\n",
    "        hl_raw,\n",
    "        system_message=\"You are a helpful assistant\", \n",
    "        padding_side=\"left\", \n",
    "        max_samples=TRAIN_SET + VAL_SET\n",
    "    )\n",
    "\n",
    "    hf_act, hl_act = scan_dataset(\n",
    "        lens,\n",
    "        hf,\n",
    "        hl,\n",
    "        pattern=\"resid_post\",\n",
    "        stack_act_name=\"resid_post\",\n",
    "        reduce_seq_method=\"last\",\n",
    "    )\n",
    "\n",
    "    hf_train, hf_val = hf_act[:, :TRAIN_SET], hf_act[:, TRAIN_SET:]\n",
    "    hl_train, hl_val = hl_act[:, :TRAIN_SET], hl_act[:, TRAIN_SET:]\n",
    "\n",
    "\n",
    "refusal_directions = hf_train.mean(dim=1) - hl_train.mean(dim=1)\n",
    "refusal_directions = (\n",
    "    refusal_directions\n",
    "    / t.linalg.norm(refusal_directions, dim=-1, keepdim=True).cpu()\n",
    ")\n",
    "\n",
    "pprint(hf_train.shape, hl_val.shape)"
   ]
  },
  {
   "cell_type": "code",
   "execution_count": 4,
   "metadata": {},
   "outputs": [
    {
     "name": "stdout",
     "output_type": "stream",
     "text": [
      "Trained probe at layer: 0, with metrics: {'loss': 0.5332513352235159, 'accuracy': 0.7708333333333334, 'precision': 0.6727272727272727, 'recall': 0.9024390243902439, 'f1_score': 0.7708333333333334}.\n",
      "Trained probe at layer: 1, with metrics: {'loss': 0.5062587857246399, 'accuracy': 0.75, 'precision': 0.7419354838709677, 'recall': 0.8518518518518519, 'f1_score': 0.7931034482758621}.\n",
      "Trained probe at layer: 2, with metrics: {'loss': 0.41946761806805927, 'accuracy': 0.78125, 'precision': 0.7959183673469388, 'recall': 0.78, 'f1_score': 0.7878787878787878}.\n",
      "Trained probe at layer: 3, with metrics: {'loss': 0.7635177771250407, 'accuracy': 0.6770833333333334, 'precision': 1.0, 'recall': 0.45614035087719296, 'f1_score': 0.6265060240963856}.\n",
      "Trained probe at layer: 4, with metrics: {'loss': 0.37273578842480976, 'accuracy': 0.8229166666666666, 'precision': 0.9069767441860465, 'recall': 0.75, 'f1_score': 0.8210526315789474}.\n",
      "Trained probe at layer: 5, with metrics: {'loss': 0.5215636789798737, 'accuracy': 0.7916666666666666, 'precision': 0.75, 'recall': 0.8181818181818182, 'f1_score': 0.782608695652174}.\n",
      "Trained probe at layer: 6, with metrics: {'loss': 0.5306715269883474, 'accuracy': 0.7395833333333334, 'precision': 0.8529411764705882, 'recall': 0.5918367346938775, 'f1_score': 0.6987951807228916}.\n",
      "Trained probe at layer: 7, with metrics: {'loss': 0.4696852962176005, 'accuracy': 0.8020833333333334, 'precision': 0.8222222222222222, 'recall': 0.7708333333333334, 'f1_score': 0.7956989247311828}.\n",
      "Trained probe at layer: 8, with metrics: {'loss': 0.30262396732966107, 'accuracy': 0.8958333333333334, 'precision': 0.9318181818181818, 'recall': 0.8541666666666666, 'f1_score': 0.8913043478260869}.\n",
      "Trained probe at layer: 9, with metrics: {'loss': 0.35417112708091736, 'accuracy': 0.8020833333333334, 'precision': 0.8409090909090909, 'recall': 0.7551020408163265, 'f1_score': 0.7956989247311828}.\n",
      "Trained probe at layer: 10, with metrics: {'loss': 0.1473087047537168, 'accuracy': 0.9270833333333334, 'precision': 0.925, 'recall': 0.9024390243902439, 'f1_score': 0.9135802469135802}.\n"
     ]
    },
    {
     "name": "stderr",
     "output_type": "stream",
     "text": [
      "/home/sckathach/miniconda3/envs/subspace/lib/python3.12/site-packages/sklearn/metrics/_classification.py:1565: UndefinedMetricWarning: Precision is ill-defined and being set to 0.0 due to no predicted samples. Use `zero_division` parameter to control this behavior.\n",
      "  _warn_prf(average, modifier, f\"{metric.capitalize()} is\", len(result))\n"
     ]
    },
    {
     "name": "stdout",
     "output_type": "stream",
     "text": [
      "Trained probe at layer: 11, with metrics: {'loss': 0.5416666666666666, 'accuracy': 0.4583333333333333, 'precision': 0.0, 'recall': 0.0, 'f1_score': 0.0}.\n",
      "Trained probe at layer: 12, with metrics: {'loss': 0.16065990179777145, 'accuracy': 0.9166666666666666, 'precision': 0.94, 'recall': 0.9038461538461539, 'f1_score': 0.9215686274509803}.\n",
      "Trained probe at layer: 13, with metrics: {'loss': 0.03019588626921177, 'accuracy': 0.9895833333333334, 'precision': 1.0, 'recall': 0.9791666666666666, 'f1_score': 0.9894736842105263}.\n",
      "Trained probe at layer: 14, with metrics: {'loss': 0.4225424627463023, 'accuracy': 0.9270833333333334, 'precision': 0.8679245283018868, 'recall': 1.0, 'f1_score': 0.9292929292929293}.\n",
      "Trained probe at layer: 15, with metrics: {'loss': 0.10398869294052322, 'accuracy': 0.9791666666666666, 'precision': 1.0, 'recall': 0.9591836734693877, 'f1_score': 0.9791666666666666}.\n",
      "Trained probe at layer: 16, with metrics: {'loss': 0.07176649135847886, 'accuracy': 0.9791666666666666, 'precision': 0.9803921568627451, 'recall': 0.9803921568627451, 'f1_score': 0.9803921568627451}.\n",
      "Trained probe at layer: 17, with metrics: {'loss': 0.11996743932832032, 'accuracy': 0.96875, 'precision': 0.98, 'recall': 0.9607843137254902, 'f1_score': 0.9702970297029703}.\n",
      "Trained probe at layer: 18, with metrics: {'loss': 0.19982597019406967, 'accuracy': 0.9791666666666666, 'precision': 0.9772727272727273, 'recall': 0.9772727272727273, 'f1_score': 0.9772727272727273}.\n",
      "Trained probe at layer: 19, with metrics: {'loss': 1.1424787549995017, 'accuracy': 0.96875, 'precision': 0.9791666666666666, 'recall': 0.9591836734693877, 'f1_score': 0.9690721649484536}.\n",
      "Trained probe at layer: 20, with metrics: {'loss': 2.01850293080012, 'accuracy': 0.9583333333333334, 'precision': 0.98, 'recall': 0.9423076923076923, 'f1_score': 0.9607843137254902}.\n",
      "Trained probe at layer: 21, with metrics: {'loss': 50.0, 'accuracy': 0.5, 'precision': 0.5, 'recall': 1.0, 'f1_score': 0.6666666666666666}.\n",
      "Trained probe at layer: 22, with metrics: {'loss': 0.05024177891512712, 'accuracy': 0.9895833333333334, 'precision': 1.0, 'recall': 0.9787234042553191, 'f1_score': 0.989247311827957}.\n",
      "Trained probe at layer: 23, with metrics: {'loss': 0.3088044747710228, 'accuracy': 0.9479166666666666, 'precision': 0.9166666666666666, 'recall': 0.9777777777777777, 'f1_score': 0.946236559139785}.\n",
      "Trained probe at layer: 24, with metrics: {'loss': 52.083333333333336, 'accuracy': 0.4791666666666667, 'precision': 0.0, 'recall': 0.0, 'f1_score': 0.0}.\n",
      "Trained probe at layer: 25, with metrics: {'loss': 0.1923549659561843, 'accuracy': 0.9791666666666666, 'precision': 0.9791666666666666, 'recall': 0.9791666666666666, 'f1_score': 0.9791666666666666}.\n"
     ]
    },
    {
     "name": "stderr",
     "output_type": "stream",
     "text": [
      "/home/sckathach/miniconda3/envs/subspace/lib/python3.12/site-packages/sklearn/metrics/_classification.py:1565: UndefinedMetricWarning: Precision is ill-defined and being set to 0.0 due to no predicted samples. Use `zero_division` parameter to control this behavior.\n",
      "  _warn_prf(average, modifier, f\"{metric.capitalize()} is\", len(result))\n"
     ]
    },
    {
     "name": "stdout",
     "output_type": "stream",
     "text": [
      "Trained probe at layer: 26, with metrics: {'loss': 0.0877206139266491, 'accuracy': 0.9791666666666666, 'precision': 0.9777777777777777, 'recall': 0.9777777777777777, 'f1_score': 0.9777777777777777}.\n",
      "Trained probe at layer: 27, with metrics: {'loss': 0.07335963038106759, 'accuracy': 0.9895833333333334, 'precision': 0.9787234042553191, 'recall': 1.0, 'f1_score': 0.989247311827957}.\n"
     ]
    },
    {
     "data": {
      "text/html": [
       "<pre style=\"white-space:pre;overflow-x:auto;line-height:normal;font-family:Menlo,'DejaVu Sans Mono',consolas,'Courier New',monospace\">Trained <span style=\"color: #008080; text-decoration-color: #008080; font-weight: bold\">28</span> probes.\n",
       "</pre>\n"
      ],
      "text/plain": [
       "Trained \u001b[1;36m28\u001b[0m probes.\n"
      ]
     },
     "metadata": {},
     "output_type": "display_data"
    }
   ],
   "source": [
    "probes = []\n",
    "\n",
    "with open(PROBES_CONFIG_PATH, \"r\") as f:\n",
    "    best_configs = json.load(f)[MODEL_NAME]\n",
    "\n",
    "for layer in range(n_layers):\n",
    "    train_loader, test_loader, _ = activations_to_dataloader(\n",
    "        hf_train[layer], hl_train[layer]\n",
    "    )\n",
    "    classifier, _, metrics = train_and_test_classifier(\n",
    "        train_loader,\n",
    "        test_loader,\n",
    "        d_model=lens.model.cfg.d_model,\n",
    "        loss_name=best_configs[str(layer)][\"loss_name\"],\n",
    "        optimizer_name=best_configs[str(layer)][\"optimizer\"],\n",
    "        lr=best_configs[str(layer)][\"lr\"],\n",
    "        epochs=best_configs[str(layer)][\"epochs\"],\n",
    "    )\n",
    "    classifier = classifier.to(DEVICE).float().eval()\n",
    "    for param in classifier.parameters():\n",
    "        param.requires_grad = False\n",
    "\n",
    "    print(f\"Trained probe at layer: {layer}, with metrics: {metrics}.\")\n",
    "\n",
    "    loss_fn = (\n",
    "        t.nn.MSELoss(reduction=\"none\").to(DEVICE)\n",
    "        if best_configs[str(layer)][\"loss_name\"] == \"MSE\"\n",
    "        else t.nn.BCELoss(reduction=\"none\").to(DEVICE)\n",
    "    )\n",
    "\n",
    "    probes.append((classifier, loss_fn))\n",
    "\n",
    "pprint(f\"Trained {len(probes)} probes.\")"
   ]
  },
  {
   "cell_type": "code",
   "execution_count": 5,
   "metadata": {},
   "outputs": [
    {
     "data": {
      "application/vnd.plotly.v1+json": {
       "config": {
        "plotlyServerURL": "https://plot.ly",
        "staticPlot": false
       },
       "data": [
        {
         "coloraxis": "coloraxis",
         "hovertemplate": "x: %{x}<br>y: %{y}<br>color: %{z}<extra></extra>",
         "name": "0",
         "type": "heatmap",
         "xaxis": "x",
         "yaxis": "y",
         "z": {
          "bdata": "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",
          "dtype": "f4",
          "shape": "28, 28"
         }
        }
       ],
       "layout": {
        "coloraxis": {
         "cmid": 0.5,
         "colorbar": {
          "x": 1
         },
         "colorscale": [
          [
           0,
           "#A459D1"
          ],
          [
           0.5,
           "#ffffff"
          ],
          [
           1,
           "#FFB84C"
          ]
         ]
        },
        "height": 600,
        "margin": {
         "t": 60
        },
        "paper_bgcolor": "rgba(0,0,0,0)",
        "plot_bgcolor": "rgba(0,0,0,0)",
        "template": {
         "data": {
          "bar": [
           {
            "error_x": {
             "color": "#2a3f5f"
            },
            "error_y": {
             "color": "#2a3f5f"
            },
            "marker": {
             "line": {
              "color": "#E5ECF6",
              "width": 0.5
             },
             "pattern": {
              "fillmode": "overlay",
              "size": 10,
              "solidity": 0.2
             }
            },
            "type": "bar"
           }
          ],
          "barpolar": [
           {
            "marker": {
             "line": {
              "color": "#E5ECF6",
              "width": 0.5
             },
             "pattern": {
              "fillmode": "overlay",
              "size": 10,
              "solidity": 0.2
             }
            },
            "type": "barpolar"
           }
          ],
          "carpet": [
           {
            "aaxis": {
             "endlinecolor": "#2a3f5f",
             "gridcolor": "white",
             "linecolor": "white",
             "minorgridcolor": "white",
             "startlinecolor": "#2a3f5f"
            },
            "baxis": {
             "endlinecolor": "#2a3f5f",
             "gridcolor": "white",
             "linecolor": "white",
             "minorgridcolor": "white",
             "startlinecolor": "#2a3f5f"
            },
            "type": "carpet"
           }
          ],
          "choropleth": [
           {
            "colorbar": {
             "outlinewidth": 0,
             "ticks": ""
            },
            "type": "choropleth"
           }
          ],
          "contour": [
           {
            "colorbar": {
             "outlinewidth": 0,
             "ticks": ""
            },
            "colorscale": [
             [
              0,
              "#0d0887"
             ],
             [
              0.1111111111111111,
              "#46039f"
             ],
             [
              0.2222222222222222,
              "#7201a8"
             ],
             [
              0.3333333333333333,
              "#9c179e"
             ],
             [
              0.4444444444444444,
              "#bd3786"
             ],
             [
              0.5555555555555556,
              "#d8576b"
             ],
             [
              0.6666666666666666,
              "#ed7953"
             ],
             [
              0.7777777777777778,
              "#fb9f3a"
             ],
             [
              0.8888888888888888,
              "#fdca26"
             ],
             [
              1,
              "#f0f921"
             ]
            ],
            "type": "contour"
           }
          ],
          "contourcarpet": [
           {
            "colorbar": {
             "outlinewidth": 0,
             "ticks": ""
            },
            "type": "contourcarpet"
           }
          ],
          "heatmap": [
           {
            "colorbar": {
             "outlinewidth": 0,
             "ticks": ""
            },
            "colorscale": [
             [
              0,
              "#0d0887"
             ],
             [
              0.1111111111111111,
              "#46039f"
             ],
             [
              0.2222222222222222,
              "#7201a8"
             ],
             [
              0.3333333333333333,
              "#9c179e"
             ],
             [
              0.4444444444444444,
              "#bd3786"
             ],
             [
              0.5555555555555556,
              "#d8576b"
             ],
             [
              0.6666666666666666,
              "#ed7953"
             ],
             [
              0.7777777777777778,
              "#fb9f3a"
             ],
             [
              0.8888888888888888,
              "#fdca26"
             ],
             [
              1,
              "#f0f921"
             ]
            ],
            "type": "heatmap"
           }
          ],
          "histogram": [
           {
            "marker": {
             "pattern": {
              "fillmode": "overlay",
              "size": 10,
              "solidity": 0.2
             }
            },
            "type": "histogram"
           }
          ],
          "histogram2d": [
           {
            "colorbar": {
             "outlinewidth": 0,
             "ticks": ""
            },
            "colorscale": [
             [
              0,
              "#0d0887"
             ],
             [
              0.1111111111111111,
              "#46039f"
             ],
             [
              0.2222222222222222,
              "#7201a8"
             ],
             [
              0.3333333333333333,
              "#9c179e"
             ],
             [
              0.4444444444444444,
              "#bd3786"
             ],
             [
              0.5555555555555556,
              "#d8576b"
             ],
             [
              0.6666666666666666,
              "#ed7953"
             ],
             [
              0.7777777777777778,
              "#fb9f3a"
             ],
             [
              0.8888888888888888,
              "#fdca26"
             ],
             [
              1,
              "#f0f921"
             ]
            ],
            "type": "histogram2d"
           }
          ],
          "histogram2dcontour": [
           {
            "colorbar": {
             "outlinewidth": 0,
             "ticks": ""
            },
            "colorscale": [
             [
              0,
              "#0d0887"
             ],
             [
              0.1111111111111111,
              "#46039f"
             ],
             [
              0.2222222222222222,
              "#7201a8"
             ],
             [
              0.3333333333333333,
              "#9c179e"
             ],
             [
              0.4444444444444444,
              "#bd3786"
             ],
             [
              0.5555555555555556,
              "#d8576b"
             ],
             [
              0.6666666666666666,
              "#ed7953"
             ],
             [
              0.7777777777777778,
              "#fb9f3a"
             ],
             [
              0.8888888888888888,
              "#fdca26"
             ],
             [
              1,
              "#f0f921"
             ]
            ],
            "type": "histogram2dcontour"
           }
          ],
          "mesh3d": [
           {
            "colorbar": {
             "outlinewidth": 0,
             "ticks": ""
            },
            "type": "mesh3d"
           }
          ],
          "parcoords": [
           {
            "line": {
             "colorbar": {
              "outlinewidth": 0,
              "ticks": ""
             }
            },
            "type": "parcoords"
           }
          ],
          "pie": [
           {
            "automargin": true,
            "type": "pie"
           }
          ],
          "scatter": [
           {
            "fillpattern": {
             "fillmode": "overlay",
             "size": 10,
             "solidity": 0.2
            },
            "type": "scatter"
           }
          ],
          "scatter3d": [
           {
            "line": {
             "colorbar": {
              "outlinewidth": 0,
              "ticks": ""
             }
            },
            "marker": {
             "colorbar": {
              "outlinewidth": 0,
              "ticks": ""
             }
            },
            "type": "scatter3d"
           }
          ],
          "scattercarpet": [
           {
            "marker": {
             "colorbar": {
              "outlinewidth": 0,
              "ticks": ""
             }
            },
            "type": "scattercarpet"
           }
          ],
          "scattergeo": [
           {
            "marker": {
             "colorbar": {
              "outlinewidth": 0,
              "ticks": ""
             }
            },
            "type": "scattergeo"
           }
          ],
          "scattergl": [
           {
            "marker": {
             "colorbar": {
              "outlinewidth": 0,
              "ticks": ""
             }
            },
            "type": "scattergl"
           }
          ],
          "scattermap": [
           {
            "marker": {
             "colorbar": {
              "outlinewidth": 0,
              "ticks": ""
             }
            },
            "type": "scattermap"
           }
          ],
          "scattermapbox": [
           {
            "marker": {
             "colorbar": {
              "outlinewidth": 0,
              "ticks": ""
             }
            },
            "type": "scattermapbox"
           }
          ],
          "scatterpolar": [
           {
            "marker": {
             "colorbar": {
              "outlinewidth": 0,
              "ticks": ""
             }
            },
            "type": "scatterpolar"
           }
          ],
          "scatterpolargl": [
           {
            "marker": {
             "colorbar": {
              "outlinewidth": 0,
              "ticks": ""
             }
            },
            "type": "scatterpolargl"
           }
          ],
          "scatterternary": [
           {
            "marker": {
             "colorbar": {
              "outlinewidth": 0,
              "ticks": ""
             }
            },
            "type": "scatterternary"
           }
          ],
          "surface": [
           {
            "colorbar": {
             "outlinewidth": 0,
             "ticks": ""
            },
            "colorscale": [
             [
              0,
              "#0d0887"
             ],
             [
              0.1111111111111111,
              "#46039f"
             ],
             [
              0.2222222222222222,
              "#7201a8"
             ],
             [
              0.3333333333333333,
              "#9c179e"
             ],
             [
              0.4444444444444444,
              "#bd3786"
             ],
             [
              0.5555555555555556,
              "#d8576b"
             ],
             [
              0.6666666666666666,
              "#ed7953"
             ],
             [
              0.7777777777777778,
              "#fb9f3a"
             ],
             [
              0.8888888888888888,
              "#fdca26"
             ],
             [
              1,
              "#f0f921"
             ]
            ],
            "type": "surface"
           }
          ],
          "table": [
           {
            "cells": {
             "fill": {
              "color": "#EBF0F8"
             },
             "line": {
              "color": "white"
             }
            },
            "header": {
             "fill": {
              "color": "#C8D4E3"
             },
             "line": {
              "color": "white"
             }
            },
            "type": "table"
           }
          ]
         },
         "layout": {
          "annotationdefaults": {
           "arrowcolor": "#2a3f5f",
           "arrowhead": 0,
           "arrowwidth": 1
          },
          "autotypenumbers": "strict",
          "coloraxis": {
           "colorbar": {
            "outlinewidth": 0,
            "ticks": ""
           }
          },
          "colorscale": {
           "diverging": [
            [
             0,
             "#8e0152"
            ],
            [
             0.1,
             "#c51b7d"
            ],
            [
             0.2,
             "#de77ae"
            ],
            [
             0.3,
             "#f1b6da"
            ],
            [
             0.4,
             "#fde0ef"
            ],
            [
             0.5,
             "#f7f7f7"
            ],
            [
             0.6,
             "#e6f5d0"
            ],
            [
             0.7,
             "#b8e186"
            ],
            [
             0.8,
             "#7fbc41"
            ],
            [
             0.9,
             "#4d9221"
            ],
            [
             1,
             "#276419"
            ]
           ],
           "sequential": [
            [
             0,
             "#0d0887"
            ],
            [
             0.1111111111111111,
             "#46039f"
            ],
            [
             0.2222222222222222,
             "#7201a8"
            ],
            [
             0.3333333333333333,
             "#9c179e"
            ],
            [
             0.4444444444444444,
             "#bd3786"
            ],
            [
             0.5555555555555556,
             "#d8576b"
            ],
            [
             0.6666666666666666,
             "#ed7953"
            ],
            [
             0.7777777777777778,
             "#fb9f3a"
            ],
            [
             0.8888888888888888,
             "#fdca26"
            ],
            [
             1,
             "#f0f921"
            ]
           ],
           "sequentialminus": [
            [
             0,
             "#0d0887"
            ],
            [
             0.1111111111111111,
             "#46039f"
            ],
            [
             0.2222222222222222,
             "#7201a8"
            ],
            [
             0.3333333333333333,
             "#9c179e"
            ],
            [
             0.4444444444444444,
             "#bd3786"
            ],
            [
             0.5555555555555556,
             "#d8576b"
            ],
            [
             0.6666666666666666,
             "#ed7953"
            ],
            [
             0.7777777777777778,
             "#fb9f3a"
            ],
            [
             0.8888888888888888,
             "#fdca26"
            ],
            [
             1,
             "#f0f921"
            ]
           ]
          },
          "colorway": [
           "#636efa",
           "#EF553B",
           "#00cc96",
           "#ab63fa",
           "#FFA15A",
           "#19d3f3",
           "#FF6692",
           "#B6E880",
           "#FF97FF",
           "#FECB52"
          ],
          "font": {
           "color": "#2a3f5f"
          },
          "geo": {
           "bgcolor": "white",
           "lakecolor": "white",
           "landcolor": "#E5ECF6",
           "showlakes": true,
           "showland": true,
           "subunitcolor": "white"
          },
          "hoverlabel": {
           "align": "left"
          },
          "hovermode": "closest",
          "mapbox": {
           "style": "light"
          },
          "paper_bgcolor": "white",
          "plot_bgcolor": "#E5ECF6",
          "polar": {
           "angularaxis": {
            "gridcolor": "white",
            "linecolor": "white",
            "ticks": ""
           },
           "bgcolor": "#E5ECF6",
           "radialaxis": {
            "gridcolor": "white",
            "linecolor": "white",
            "ticks": ""
           }
          },
          "scene": {
           "xaxis": {
            "backgroundcolor": "#E5ECF6",
            "gridcolor": "white",
            "gridwidth": 2,
            "linecolor": "white",
            "showbackground": true,
            "ticks": "",
            "zerolinecolor": "white"
           },
           "yaxis": {
            "backgroundcolor": "#E5ECF6",
            "gridcolor": "white",
            "gridwidth": 2,
            "linecolor": "white",
            "showbackground": true,
            "ticks": "",
            "zerolinecolor": "white"
           },
           "zaxis": {
            "backgroundcolor": "#E5ECF6",
            "gridcolor": "white",
            "gridwidth": 2,
            "linecolor": "white",
            "showbackground": true,
            "ticks": "",
            "zerolinecolor": "white"
           }
          },
          "shapedefaults": {
           "line": {
            "color": "#2a3f5f"
           }
          },
          "ternary": {
           "aaxis": {
            "gridcolor": "white",
            "linecolor": "white",
            "ticks": ""
           },
           "baxis": {
            "gridcolor": "white",
            "linecolor": "white",
            "ticks": ""
           },
           "bgcolor": "#E5ECF6",
           "caxis": {
            "gridcolor": "white",
            "linecolor": "white",
            "ticks": ""
           }
          },
          "title": {
           "x": 0.05
          },
          "xaxis": {
           "automargin": true,
           "gridcolor": "white",
           "linecolor": "white",
           "ticks": "",
           "title": {
            "standoff": 15
           },
           "zerolinecolor": "white",
           "zerolinewidth": 2
          },
          "yaxis": {
           "automargin": true,
           "gridcolor": "white",
           "linecolor": "white",
           "ticks": "",
           "title": {
            "standoff": 15
           },
           "zerolinecolor": "white",
           "zerolinewidth": 2
          }
         }
        },
        "title": {
         "text": "Qwen 2.5 1.5b probes accuracies",
         "x": 0.5,
         "xanchor": "center",
         "y": 0.95,
         "yanchor": "top"
        },
        "width": 600,
        "xaxis": {
         "anchor": "y",
         "constrain": "domain",
         "domain": [
          0,
          1
         ],
         "linecolor": "black",
         "linewidth": 1,
         "mirror": true,
         "scaleanchor": "y",
         "showline": true,
         "title": {
          "text": "Activations Layers"
         }
        },
        "yaxis": {
         "anchor": "x",
         "autorange": "reversed",
         "constrain": "domain",
         "domain": [
          0,
          1
         ],
         "linecolor": "black",
         "linewidth": 1,
         "mirror": true,
         "showline": true,
         "title": {
          "text": "Probes Layers"
         }
        }
       }
      }
     },
     "metadata": {},
     "output_type": "display_data"
    }
   ],
   "source": [
    "scores = t.zeros(n_layers, n_layers)\n",
    "for a in range(n_layers):\n",
    "    for b in range(n_layers):\n",
    "        scores[a, b] = ((probes[a][0].forward(hf_val[b].cuda().float()) < 0.5).sum() / hf_val[b].shape[0] + (probes[a][0].forward(hl_val[b].cuda().float()) > 0.5).sum() / hl_val[b].shape[0])/2\n",
    "\n",
    "imshow(scores, color_continuous_midpoint=0.5, xaxis_title=\"Activations Layers\", yaxis_title=\"Probes Layers\", title=f\"{display_name} probes accuracies\", size=(600, 600), border=True)"
   ]
  },
  {
   "cell_type": "code",
   "execution_count": 6,
   "metadata": {},
   "outputs": [
    {
     "data": {
      "application/vnd.plotly.v1+json": {
       "config": {
        "plotlyServerURL": "https://plot.ly",
        "staticPlot": false
       },
       "data": [
        {
         "coloraxis": "coloraxis",
         "hovertemplate": "x: %{x}<br>y: %{y}<br>color: %{z}<extra></extra>",
         "name": "0",
         "type": "heatmap",
         "xaxis": "x",
         "yaxis": "y",
         "z": [
          [
           0.99951171875,
           0.56201171875,
           0.286376953125,
           0.1480712890625,
           0.11962890625,
           0.1312255859375,
           0.123291015625,
           0.0836181640625,
           0.12274169921875,
           0.09039306640625,
           0.10748291015625,
           0.11492919921875,
           0.0977783203125,
           0.0753173828125,
           0.0341796875,
           0.044647216796875,
           0.0172576904296875,
           0.047271728515625,
           0.039703369140625,
           0.0230255126953125,
           0.037200927734375,
           0.0692138671875,
           0.0721435546875,
           0.06591796875,
           0.058502197265625,
           0.062255859375,
           0.076416015625,
           0.07464599609375
          ],
          [
           0.56201171875,
           1,
           0.43212890625,
           0.258056640625,
           0.1959228515625,
           0.1912841796875,
           0.1885986328125,
           0.1900634765625,
           0.1783447265625,
           0.17626953125,
           0.18701171875,
           0.1629638671875,
           0.1405029296875,
           0.11907958984375,
           0.095458984375,
           0.0819091796875,
           0.056396484375,
           0.076171875,
           0.06427001953125,
           0.047149658203125,
           0.06402587890625,
           0.08209228515625,
           0.06402587890625,
           0.06951904296875,
           0.0743408203125,
           0.0692138671875,
           0.0848388671875,
           0.070556640625
          ],
          [
           0.286376953125,
           0.43212890625,
           1,
           0.448486328125,
           0.3291015625,
           0.2373046875,
           0.21044921875,
           0.208740234375,
           0.20263671875,
           0.1678466796875,
           0.125244140625,
           0.12054443359375,
           0.0965576171875,
           0.09356689453125,
           0.09228515625,
           0.11328125,
           0.06781005859375,
           0.06744384765625,
           0.0748291015625,
           0.070068359375,
           0.03802490234375,
           0.038177490234375,
           0.0338134765625,
           0.035308837890625,
           0.041107177734375,
           0.05047607421875,
           0.0738525390625,
           0.054351806640625
          ],
          [
           0.1480712890625,
           0.258056640625,
           0.448486328125,
           1,
           0.5693359375,
           0.3681640625,
           0.278076171875,
           0.200927734375,
           0.2381591796875,
           0.1749267578125,
           0.09765625,
           0.13818359375,
           0.09478759765625,
           0.09375,
           0.098388671875,
           0.11029052734375,
           0.08917236328125,
           0.10137939453125,
           0.09967041015625,
           0.08294677734375,
           0.0753173828125,
           0.0550537109375,
           0.05279541015625,
           0.06390380859375,
           0.054931640625,
           0.0516357421875,
           0.07379150390625,
           0.06744384765625
          ],
          [
           0.11962890625,
           0.1959228515625,
           0.3291015625,
           0.5693359375,
           1,
           0.57861328125,
           0.41015625,
           0.252197265625,
           0.20654296875,
           0.16796875,
           0.1015625,
           0.11212158203125,
           0.09527587890625,
           0.06298828125,
           0.08013916015625,
           0.0927734375,
           0.0875244140625,
           0.09161376953125,
           0.07244873046875,
           0.06573486328125,
           0.05462646484375,
           0.07110595703125,
           0.054046630859375,
           0.060394287109375,
           0.06231689453125,
           0.06768798828125,
           0.0780029296875,
           0.0823974609375
          ],
          [
           0.1312255859375,
           0.1912841796875,
           0.2373046875,
           0.3681640625,
           0.57861328125,
           1,
           0.63916015625,
           0.37744140625,
           0.25927734375,
           0.2135009765625,
           0.149169921875,
           0.0997314453125,
           0.09832763671875,
           0.054351806640625,
           0.074951171875,
           0.0628662109375,
           0.06524658203125,
           0.068115234375,
           0.09271240234375,
           0.06854248046875,
           0.056365966796875,
           0.0836181640625,
           0.0673828125,
           0.0687255859375,
           0.05780029296875,
           0.05474853515625,
           0.0465087890625,
           0.050811767578125
          ],
          [
           0.123291015625,
           0.1885986328125,
           0.21044921875,
           0.278076171875,
           0.41015625,
           0.63916015625,
           1,
           0.564453125,
           0.348388671875,
           0.283447265625,
           0.167724609375,
           0.1295166015625,
           0.113037109375,
           0.096435546875,
           0.0927734375,
           0.08612060546875,
           0.07354736328125,
           0.07501220703125,
           0.091552734375,
           0.055999755859375,
           0.05279541015625,
           0.09429931640625,
           0.10272216796875,
           0.09356689453125,
           0.08892822265625,
           0.0966796875,
           0.0701904296875,
           0.0731201171875
          ],
          [
           0.0836181640625,
           0.1900634765625,
           0.208740234375,
           0.200927734375,
           0.252197265625,
           0.37744140625,
           0.564453125,
           1.0009765625,
           0.5478515625,
           0.407470703125,
           0.2442626953125,
           0.16796875,
           0.1424560546875,
           0.1529541015625,
           0.1512451171875,
           0.1424560546875,
           0.08355712890625,
           0.10736083984375,
           0.08526611328125,
           0.0841064453125,
           0.055267333984375,
           0.08447265625,
           0.08062744140625,
           0.053009033203125,
           0.06451416015625,
           0.071533203125,
           0.071044921875,
           0.051361083984375
          ],
          [
           0.12274169921875,
           0.1783447265625,
           0.20263671875,
           0.2381591796875,
           0.20654296875,
           0.25927734375,
           0.348388671875,
           0.5478515625,
           0.99951171875,
           0.66552734375,
           0.439453125,
           0.333740234375,
           0.279052734375,
           0.251953125,
           0.243896484375,
           0.2392578125,
           0.1776123046875,
           0.1796875,
           0.140380859375,
           0.19384765625,
           0.126708984375,
           0.135498046875,
           0.1087646484375,
           0.1031494140625,
           0.114013671875,
           0.1094970703125,
           0.128173828125,
           0.1162109375
          ],
          [
           0.09039306640625,
           0.17626953125,
           0.1678466796875,
           0.1749267578125,
           0.16796875,
           0.2135009765625,
           0.283447265625,
           0.407470703125,
           0.66552734375,
           1,
           0.56591796875,
           0.3896484375,
           0.3232421875,
           0.28662109375,
           0.26123046875,
           0.2391357421875,
           0.1767578125,
           0.193359375,
           0.1845703125,
           0.1778564453125,
           0.1319580078125,
           0.15380859375,
           0.127685546875,
           0.11895751953125,
           0.11041259765625,
           0.1015625,
           0.0919189453125,
           0.09454345703125
          ],
          [
           0.10748291015625,
           0.18701171875,
           0.125244140625,
           0.09765625,
           0.1015625,
           0.149169921875,
           0.167724609375,
           0.2442626953125,
           0.439453125,
           0.56591796875,
           1,
           0.63916015625,
           0.513671875,
           0.406494140625,
           0.363525390625,
           0.30908203125,
           0.259033203125,
           0.268310546875,
           0.242431640625,
           0.24755859375,
           0.200439453125,
           0.2041015625,
           0.1632080078125,
           0.165283203125,
           0.1646728515625,
           0.1575927734375,
           0.1400146484375,
           0.144775390625
          ],
          [
           0.11492919921875,
           0.1629638671875,
           0.12054443359375,
           0.13818359375,
           0.11212158203125,
           0.0997314453125,
           0.1295166015625,
           0.16796875,
           0.333740234375,
           0.3896484375,
           0.63916015625,
           0.99951171875,
           0.73583984375,
           0.548828125,
           0.467041015625,
           0.44384765625,
           0.40478515625,
           0.368896484375,
           0.326904296875,
           0.299560546875,
           0.291259765625,
           0.284912109375,
           0.231201171875,
           0.2235107421875,
           0.207763671875,
           0.20458984375,
           0.182861328125,
           0.1983642578125
          ],
          [
           0.0977783203125,
           0.1405029296875,
           0.0965576171875,
           0.09478759765625,
           0.09527587890625,
           0.09832763671875,
           0.113037109375,
           0.1424560546875,
           0.279052734375,
           0.3232421875,
           0.513671875,
           0.73583984375,
           1,
           0.64111328125,
           0.56494140625,
           0.498046875,
           0.4345703125,
           0.361083984375,
           0.31640625,
           0.286376953125,
           0.28125,
           0.272216796875,
           0.2252197265625,
           0.2122802734375,
           0.1951904296875,
           0.1866455078125,
           0.1607666015625,
           0.1710205078125
          ],
          [
           0.0753173828125,
           0.11907958984375,
           0.09356689453125,
           0.09375,
           0.06298828125,
           0.054351806640625,
           0.096435546875,
           0.1529541015625,
           0.251953125,
           0.28662109375,
           0.406494140625,
           0.548828125,
           0.64111328125,
           1,
           0.7451171875,
           0.6103515625,
           0.50439453125,
           0.457275390625,
           0.3701171875,
           0.351318359375,
           0.315185546875,
           0.267578125,
           0.2235107421875,
           0.2037353515625,
           0.1900634765625,
           0.19775390625,
           0.1912841796875,
           0.1798095703125
          ],
          [
           0.0341796875,
           0.095458984375,
           0.09228515625,
           0.098388671875,
           0.08013916015625,
           0.074951171875,
           0.0927734375,
           0.1512451171875,
           0.243896484375,
           0.26123046875,
           0.363525390625,
           0.467041015625,
           0.56494140625,
           0.7451171875,
           1,
           0.71630859375,
           0.58349609375,
           0.49267578125,
           0.405517578125,
           0.400390625,
           0.3525390625,
           0.298583984375,
           0.248046875,
           0.2252197265625,
           0.21337890625,
           0.210693359375,
           0.2147216796875,
           0.19287109375
          ],
          [
           0.044647216796875,
           0.0819091796875,
           0.11328125,
           0.11029052734375,
           0.0927734375,
           0.0628662109375,
           0.08612060546875,
           0.1424560546875,
           0.2392578125,
           0.2391357421875,
           0.30908203125,
           0.44384765625,
           0.498046875,
           0.6103515625,
           0.71630859375,
           1,
           0.7412109375,
           0.6318359375,
           0.52001953125,
           0.489501953125,
           0.40869140625,
           0.360107421875,
           0.3056640625,
           0.2724609375,
           0.257568359375,
           0.241943359375,
           0.2327880859375,
           0.213623046875
          ],
          [
           0.0172576904296875,
           0.056396484375,
           0.06781005859375,
           0.08917236328125,
           0.0875244140625,
           0.06524658203125,
           0.07354736328125,
           0.08355712890625,
           0.1776123046875,
           0.1767578125,
           0.259033203125,
           0.40478515625,
           0.4345703125,
           0.50439453125,
           0.58349609375,
           0.7412109375,
           1,
           0.76513671875,
           0.630859375,
           0.544921875,
           0.50537109375,
           0.45263671875,
           0.369384765625,
           0.341552734375,
           0.324951171875,
           0.31201171875,
           0.27978515625,
           0.27880859375
          ],
          [
           0.047271728515625,
           0.076171875,
           0.06744384765625,
           0.10137939453125,
           0.09161376953125,
           0.068115234375,
           0.07501220703125,
           0.10736083984375,
           0.1796875,
           0.193359375,
           0.268310546875,
           0.368896484375,
           0.361083984375,
           0.457275390625,
           0.49267578125,
           0.6318359375,
           0.76513671875,
           0.99951171875,
           0.75634765625,
           0.63623046875,
           0.56103515625,
           0.47216796875,
           0.3828125,
           0.344970703125,
           0.344482421875,
           0.3349609375,
           0.298583984375,
           0.286376953125
          ],
          [
           0.039703369140625,
           0.06427001953125,
           0.0748291015625,
           0.09967041015625,
           0.07244873046875,
           0.09271240234375,
           0.091552734375,
           0.08526611328125,
           0.140380859375,
           0.1845703125,
           0.242431640625,
           0.326904296875,
           0.31640625,
           0.3701171875,
           0.405517578125,
           0.52001953125,
           0.630859375,
           0.75634765625,
           1,
           0.73828125,
           0.64208984375,
           0.53857421875,
           0.44140625,
           0.407470703125,
           0.3935546875,
           0.375244140625,
           0.337646484375,
           0.31884765625
          ],
          [
           0.0230255126953125,
           0.047149658203125,
           0.070068359375,
           0.08294677734375,
           0.06573486328125,
           0.06854248046875,
           0.055999755859375,
           0.0841064453125,
           0.19384765625,
           0.1778564453125,
           0.24755859375,
           0.299560546875,
           0.286376953125,
           0.351318359375,
           0.400390625,
           0.489501953125,
           0.544921875,
           0.63623046875,
           0.73828125,
           1,
           0.765625,
           0.6123046875,
           0.4921875,
           0.44775390625,
           0.416748046875,
           0.39990234375,
           0.387939453125,
           0.334228515625
          ],
          [
           0.037200927734375,
           0.06402587890625,
           0.03802490234375,
           0.0753173828125,
           0.05462646484375,
           0.056365966796875,
           0.05279541015625,
           0.055267333984375,
           0.126708984375,
           0.1319580078125,
           0.200439453125,
           0.291259765625,
           0.28125,
           0.315185546875,
           0.3525390625,
           0.40869140625,
           0.50537109375,
           0.56103515625,
           0.64208984375,
           0.765625,
           1.0009765625,
           0.8193359375,
           0.658203125,
           0.60302734375,
           0.5791015625,
           0.54345703125,
           0.487060546875,
           0.46533203125
          ],
          [
           0.0692138671875,
           0.08209228515625,
           0.038177490234375,
           0.0550537109375,
           0.07110595703125,
           0.0836181640625,
           0.09429931640625,
           0.08447265625,
           0.135498046875,
           0.15380859375,
           0.2041015625,
           0.284912109375,
           0.272216796875,
           0.267578125,
           0.298583984375,
           0.360107421875,
           0.45263671875,
           0.47216796875,
           0.53857421875,
           0.6123046875,
           0.8193359375,
           0.99951171875,
           0.8154296875,
           0.74365234375,
           0.70654296875,
           0.6640625,
           0.58837890625,
           0.56494140625
          ],
          [
           0.0721435546875,
           0.06402587890625,
           0.0338134765625,
           0.05279541015625,
           0.054046630859375,
           0.0673828125,
           0.10272216796875,
           0.08062744140625,
           0.1087646484375,
           0.127685546875,
           0.1632080078125,
           0.231201171875,
           0.2252197265625,
           0.2235107421875,
           0.248046875,
           0.3056640625,
           0.369384765625,
           0.3828125,
           0.44140625,
           0.4921875,
           0.658203125,
           0.8154296875,
           0.99951171875,
           0.91015625,
           0.8447265625,
           0.7841796875,
           0.7119140625,
           0.64404296875
          ],
          [
           0.06591796875,
           0.06951904296875,
           0.035308837890625,
           0.06390380859375,
           0.060394287109375,
           0.0687255859375,
           0.09356689453125,
           0.053009033203125,
           0.1031494140625,
           0.11895751953125,
           0.165283203125,
           0.2235107421875,
           0.2122802734375,
           0.2037353515625,
           0.2252197265625,
           0.2724609375,
           0.341552734375,
           0.344970703125,
           0.407470703125,
           0.44775390625,
           0.60302734375,
           0.74365234375,
           0.91015625,
           1,
           0.9296875,
           0.85595703125,
           0.77685546875,
           0.6962890625
          ],
          [
           0.058502197265625,
           0.0743408203125,
           0.041107177734375,
           0.054931640625,
           0.06231689453125,
           0.05780029296875,
           0.08892822265625,
           0.06451416015625,
           0.114013671875,
           0.11041259765625,
           0.1646728515625,
           0.207763671875,
           0.1951904296875,
           0.1900634765625,
           0.21337890625,
           0.257568359375,
           0.324951171875,
           0.344482421875,
           0.3935546875,
           0.416748046875,
           0.5791015625,
           0.70654296875,
           0.8447265625,
           0.9296875,
           1,
           0.91015625,
           0.82763671875,
           0.7548828125
          ],
          [
           0.062255859375,
           0.0692138671875,
           0.05047607421875,
           0.0516357421875,
           0.06768798828125,
           0.05474853515625,
           0.0966796875,
           0.071533203125,
           0.1094970703125,
           0.1015625,
           0.1575927734375,
           0.20458984375,
           0.1866455078125,
           0.19775390625,
           0.210693359375,
           0.241943359375,
           0.31201171875,
           0.3349609375,
           0.375244140625,
           0.39990234375,
           0.54345703125,
           0.6640625,
           0.7841796875,
           0.85595703125,
           0.91015625,
           1,
           0.91943359375,
           0.8349609375
          ],
          [
           0.076416015625,
           0.0848388671875,
           0.0738525390625,
           0.07379150390625,
           0.0780029296875,
           0.0465087890625,
           0.0701904296875,
           0.071044921875,
           0.128173828125,
           0.0919189453125,
           0.1400146484375,
           0.182861328125,
           0.1607666015625,
           0.1912841796875,
           0.2147216796875,
           0.2327880859375,
           0.27978515625,
           0.298583984375,
           0.337646484375,
           0.387939453125,
           0.487060546875,
           0.58837890625,
           0.7119140625,
           0.77685546875,
           0.82763671875,
           0.91943359375,
           0.99951171875,
           0.89990234375
          ],
          [
           0.07464599609375,
           0.070556640625,
           0.054351806640625,
           0.06744384765625,
           0.0823974609375,
           0.050811767578125,
           0.0731201171875,
           0.051361083984375,
           0.1162109375,
           0.09454345703125,
           0.144775390625,
           0.1983642578125,
           0.1710205078125,
           0.1798095703125,
           0.19287109375,
           0.213623046875,
           0.27880859375,
           0.286376953125,
           0.31884765625,
           0.334228515625,
           0.46533203125,
           0.56494140625,
           0.64404296875,
           0.6962890625,
           0.7548828125,
           0.8349609375,
           0.89990234375,
           0.99951171875
          ]
         ]
        }
       ],
       "layout": {
        "coloraxis": {
         "cmid": 0,
         "colorbar": {
          "x": 1
         },
         "colorscale": [
          [
           0,
           "#A459D1"
          ],
          [
           0.5,
           "#ffffff"
          ],
          [
           1,
           "#FFB84C"
          ]
         ]
        },
        "height": 600,
        "margin": {
         "t": 60
        },
        "paper_bgcolor": "rgba(0,0,0,0)",
        "plot_bgcolor": "rgba(0,0,0,0)",
        "template": {
         "data": {
          "bar": [
           {
            "error_x": {
             "color": "#2a3f5f"
            },
            "error_y": {
             "color": "#2a3f5f"
            },
            "marker": {
             "line": {
              "color": "#E5ECF6",
              "width": 0.5
             },
             "pattern": {
              "fillmode": "overlay",
              "size": 10,
              "solidity": 0.2
             }
            },
            "type": "bar"
           }
          ],
          "barpolar": [
           {
            "marker": {
             "line": {
              "color": "#E5ECF6",
              "width": 0.5
             },
             "pattern": {
              "fillmode": "overlay",
              "size": 10,
              "solidity": 0.2
             }
            },
            "type": "barpolar"
           }
          ],
          "carpet": [
           {
            "aaxis": {
             "endlinecolor": "#2a3f5f",
             "gridcolor": "white",
             "linecolor": "white",
             "minorgridcolor": "white",
             "startlinecolor": "#2a3f5f"
            },
            "baxis": {
             "endlinecolor": "#2a3f5f",
             "gridcolor": "white",
             "linecolor": "white",
             "minorgridcolor": "white",
             "startlinecolor": "#2a3f5f"
            },
            "type": "carpet"
           }
          ],
          "choropleth": [
           {
            "colorbar": {
             "outlinewidth": 0,
             "ticks": ""
            },
            "type": "choropleth"
           }
          ],
          "contour": [
           {
            "colorbar": {
             "outlinewidth": 0,
             "ticks": ""
            },
            "colorscale": [
             [
              0,
              "#0d0887"
             ],
             [
              0.1111111111111111,
              "#46039f"
             ],
             [
              0.2222222222222222,
              "#7201a8"
             ],
             [
              0.3333333333333333,
              "#9c179e"
             ],
             [
              0.4444444444444444,
              "#bd3786"
             ],
             [
              0.5555555555555556,
              "#d8576b"
             ],
             [
              0.6666666666666666,
              "#ed7953"
             ],
             [
              0.7777777777777778,
              "#fb9f3a"
             ],
             [
              0.8888888888888888,
              "#fdca26"
             ],
             [
              1,
              "#f0f921"
             ]
            ],
            "type": "contour"
           }
          ],
          "contourcarpet": [
           {
            "colorbar": {
             "outlinewidth": 0,
             "ticks": ""
            },
            "type": "contourcarpet"
           }
          ],
          "heatmap": [
           {
            "colorbar": {
             "outlinewidth": 0,
             "ticks": ""
            },
            "colorscale": [
             [
              0,
              "#0d0887"
             ],
             [
              0.1111111111111111,
              "#46039f"
             ],
             [
              0.2222222222222222,
              "#7201a8"
             ],
             [
              0.3333333333333333,
              "#9c179e"
             ],
             [
              0.4444444444444444,
              "#bd3786"
             ],
             [
              0.5555555555555556,
              "#d8576b"
             ],
             [
              0.6666666666666666,
              "#ed7953"
             ],
             [
              0.7777777777777778,
              "#fb9f3a"
             ],
             [
              0.8888888888888888,
              "#fdca26"
             ],
             [
              1,
              "#f0f921"
             ]
            ],
            "type": "heatmap"
           }
          ],
          "histogram": [
           {
            "marker": {
             "pattern": {
              "fillmode": "overlay",
              "size": 10,
              "solidity": 0.2
             }
            },
            "type": "histogram"
           }
          ],
          "histogram2d": [
           {
            "colorbar": {
             "outlinewidth": 0,
             "ticks": ""
            },
            "colorscale": [
             [
              0,
              "#0d0887"
             ],
             [
              0.1111111111111111,
              "#46039f"
             ],
             [
              0.2222222222222222,
              "#7201a8"
             ],
             [
              0.3333333333333333,
              "#9c179e"
             ],
             [
              0.4444444444444444,
              "#bd3786"
             ],
             [
              0.5555555555555556,
              "#d8576b"
             ],
             [
              0.6666666666666666,
              "#ed7953"
             ],
             [
              0.7777777777777778,
              "#fb9f3a"
             ],
             [
              0.8888888888888888,
              "#fdca26"
             ],
             [
              1,
              "#f0f921"
             ]
            ],
            "type": "histogram2d"
           }
          ],
          "histogram2dcontour": [
           {
            "colorbar": {
             "outlinewidth": 0,
             "ticks": ""
            },
            "colorscale": [
             [
              0,
              "#0d0887"
             ],
             [
              0.1111111111111111,
              "#46039f"
             ],
             [
              0.2222222222222222,
              "#7201a8"
             ],
             [
              0.3333333333333333,
              "#9c179e"
             ],
             [
              0.4444444444444444,
              "#bd3786"
             ],
             [
              0.5555555555555556,
              "#d8576b"
             ],
             [
              0.6666666666666666,
              "#ed7953"
             ],
             [
              0.7777777777777778,
              "#fb9f3a"
             ],
             [
              0.8888888888888888,
              "#fdca26"
             ],
             [
              1,
              "#f0f921"
             ]
            ],
            "type": "histogram2dcontour"
           }
          ],
          "mesh3d": [
           {
            "colorbar": {
             "outlinewidth": 0,
             "ticks": ""
            },
            "type": "mesh3d"
           }
          ],
          "parcoords": [
           {
            "line": {
             "colorbar": {
              "outlinewidth": 0,
              "ticks": ""
             }
            },
            "type": "parcoords"
           }
          ],
          "pie": [
           {
            "automargin": true,
            "type": "pie"
           }
          ],
          "scatter": [
           {
            "fillpattern": {
             "fillmode": "overlay",
             "size": 10,
             "solidity": 0.2
            },
            "type": "scatter"
           }
          ],
          "scatter3d": [
           {
            "line": {
             "colorbar": {
              "outlinewidth": 0,
              "ticks": ""
             }
            },
            "marker": {
             "colorbar": {
              "outlinewidth": 0,
              "ticks": ""
             }
            },
            "type": "scatter3d"
           }
          ],
          "scattercarpet": [
           {
            "marker": {
             "colorbar": {
              "outlinewidth": 0,
              "ticks": ""
             }
            },
            "type": "scattercarpet"
           }
          ],
          "scattergeo": [
           {
            "marker": {
             "colorbar": {
              "outlinewidth": 0,
              "ticks": ""
             }
            },
            "type": "scattergeo"
           }
          ],
          "scattergl": [
           {
            "marker": {
             "colorbar": {
              "outlinewidth": 0,
              "ticks": ""
             }
            },
            "type": "scattergl"
           }
          ],
          "scattermap": [
           {
            "marker": {
             "colorbar": {
              "outlinewidth": 0,
              "ticks": ""
             }
            },
            "type": "scattermap"
           }
          ],
          "scattermapbox": [
           {
            "marker": {
             "colorbar": {
              "outlinewidth": 0,
              "ticks": ""
             }
            },
            "type": "scattermapbox"
           }
          ],
          "scatterpolar": [
           {
            "marker": {
             "colorbar": {
              "outlinewidth": 0,
              "ticks": ""
             }
            },
            "type": "scatterpolar"
           }
          ],
          "scatterpolargl": [
           {
            "marker": {
             "colorbar": {
              "outlinewidth": 0,
              "ticks": ""
             }
            },
            "type": "scatterpolargl"
           }
          ],
          "scatterternary": [
           {
            "marker": {
             "colorbar": {
              "outlinewidth": 0,
              "ticks": ""
             }
            },
            "type": "scatterternary"
           }
          ],
          "surface": [
           {
            "colorbar": {
             "outlinewidth": 0,
             "ticks": ""
            },
            "colorscale": [
             [
              0,
              "#0d0887"
             ],
             [
              0.1111111111111111,
              "#46039f"
             ],
             [
              0.2222222222222222,
              "#7201a8"
             ],
             [
              0.3333333333333333,
              "#9c179e"
             ],
             [
              0.4444444444444444,
              "#bd3786"
             ],
             [
              0.5555555555555556,
              "#d8576b"
             ],
             [
              0.6666666666666666,
              "#ed7953"
             ],
             [
              0.7777777777777778,
              "#fb9f3a"
             ],
             [
              0.8888888888888888,
              "#fdca26"
             ],
             [
              1,
              "#f0f921"
             ]
            ],
            "type": "surface"
           }
          ],
          "table": [
           {
            "cells": {
             "fill": {
              "color": "#EBF0F8"
             },
             "line": {
              "color": "white"
             }
            },
            "header": {
             "fill": {
              "color": "#C8D4E3"
             },
             "line": {
              "color": "white"
             }
            },
            "type": "table"
           }
          ]
         },
         "layout": {
          "annotationdefaults": {
           "arrowcolor": "#2a3f5f",
           "arrowhead": 0,
           "arrowwidth": 1
          },
          "autotypenumbers": "strict",
          "coloraxis": {
           "colorbar": {
            "outlinewidth": 0,
            "ticks": ""
           }
          },
          "colorscale": {
           "diverging": [
            [
             0,
             "#8e0152"
            ],
            [
             0.1,
             "#c51b7d"
            ],
            [
             0.2,
             "#de77ae"
            ],
            [
             0.3,
             "#f1b6da"
            ],
            [
             0.4,
             "#fde0ef"
            ],
            [
             0.5,
             "#f7f7f7"
            ],
            [
             0.6,
             "#e6f5d0"
            ],
            [
             0.7,
             "#b8e186"
            ],
            [
             0.8,
             "#7fbc41"
            ],
            [
             0.9,
             "#4d9221"
            ],
            [
             1,
             "#276419"
            ]
           ],
           "sequential": [
            [
             0,
             "#0d0887"
            ],
            [
             0.1111111111111111,
             "#46039f"
            ],
            [
             0.2222222222222222,
             "#7201a8"
            ],
            [
             0.3333333333333333,
             "#9c179e"
            ],
            [
             0.4444444444444444,
             "#bd3786"
            ],
            [
             0.5555555555555556,
             "#d8576b"
            ],
            [
             0.6666666666666666,
             "#ed7953"
            ],
            [
             0.7777777777777778,
             "#fb9f3a"
            ],
            [
             0.8888888888888888,
             "#fdca26"
            ],
            [
             1,
             "#f0f921"
            ]
           ],
           "sequentialminus": [
            [
             0,
             "#0d0887"
            ],
            [
             0.1111111111111111,
             "#46039f"
            ],
            [
             0.2222222222222222,
             "#7201a8"
            ],
            [
             0.3333333333333333,
             "#9c179e"
            ],
            [
             0.4444444444444444,
             "#bd3786"
            ],
            [
             0.5555555555555556,
             "#d8576b"
            ],
            [
             0.6666666666666666,
             "#ed7953"
            ],
            [
             0.7777777777777778,
             "#fb9f3a"
            ],
            [
             0.8888888888888888,
             "#fdca26"
            ],
            [
             1,
             "#f0f921"
            ]
           ]
          },
          "colorway": [
           "#636efa",
           "#EF553B",
           "#00cc96",
           "#ab63fa",
           "#FFA15A",
           "#19d3f3",
           "#FF6692",
           "#B6E880",
           "#FF97FF",
           "#FECB52"
          ],
          "font": {
           "color": "#2a3f5f"
          },
          "geo": {
           "bgcolor": "white",
           "lakecolor": "white",
           "landcolor": "#E5ECF6",
           "showlakes": true,
           "showland": true,
           "subunitcolor": "white"
          },
          "hoverlabel": {
           "align": "left"
          },
          "hovermode": "closest",
          "mapbox": {
           "style": "light"
          },
          "paper_bgcolor": "white",
          "plot_bgcolor": "#E5ECF6",
          "polar": {
           "angularaxis": {
            "gridcolor": "white",
            "linecolor": "white",
            "ticks": ""
           },
           "bgcolor": "#E5ECF6",
           "radialaxis": {
            "gridcolor": "white",
            "linecolor": "white",
            "ticks": ""
           }
          },
          "scene": {
           "xaxis": {
            "backgroundcolor": "#E5ECF6",
            "gridcolor": "white",
            "gridwidth": 2,
            "linecolor": "white",
            "showbackground": true,
            "ticks": "",
            "zerolinecolor": "white"
           },
           "yaxis": {
            "backgroundcolor": "#E5ECF6",
            "gridcolor": "white",
            "gridwidth": 2,
            "linecolor": "white",
            "showbackground": true,
            "ticks": "",
            "zerolinecolor": "white"
           },
           "zaxis": {
            "backgroundcolor": "#E5ECF6",
            "gridcolor": "white",
            "gridwidth": 2,
            "linecolor": "white",
            "showbackground": true,
            "ticks": "",
            "zerolinecolor": "white"
           }
          },
          "shapedefaults": {
           "line": {
            "color": "#2a3f5f"
           }
          },
          "ternary": {
           "aaxis": {
            "gridcolor": "white",
            "linecolor": "white",
            "ticks": ""
           },
           "baxis": {
            "gridcolor": "white",
            "linecolor": "white",
            "ticks": ""
           },
           "bgcolor": "#E5ECF6",
           "caxis": {
            "gridcolor": "white",
            "linecolor": "white",
            "ticks": ""
           }
          },
          "title": {
           "x": 0.05
          },
          "xaxis": {
           "automargin": true,
           "gridcolor": "white",
           "linecolor": "white",
           "ticks": "",
           "title": {
            "standoff": 15
           },
           "zerolinecolor": "white",
           "zerolinewidth": 2
          },
          "yaxis": {
           "automargin": true,
           "gridcolor": "white",
           "linecolor": "white",
           "ticks": "",
           "title": {
            "standoff": 15
           },
           "zerolinecolor": "white",
           "zerolinewidth": 2
          }
         }
        },
        "title": {
         "text": "Qwen 2.5 1.5b cosine similarities between refusal directions",
         "x": 0.5,
         "xanchor": "center",
         "y": 0.95,
         "yanchor": "top"
        },
        "width": 600,
        "xaxis": {
         "anchor": "y",
         "constrain": "domain",
         "domain": [
          0,
          1
         ],
         "linecolor": "black",
         "linewidth": 1,
         "mirror": true,
         "scaleanchor": "y",
         "showline": true,
         "title": {
          "text": "Refusal direction layers"
         }
        },
        "yaxis": {
         "anchor": "x",
         "autorange": "reversed",
         "constrain": "domain",
         "domain": [
          0,
          1
         ],
         "linecolor": "black",
         "linewidth": 1,
         "mirror": true,
         "showline": true,
         "title": {
          "text": "Refusal direction layers"
         }
        }
       }
      }
     },
     "metadata": {},
     "output_type": "display_data"
    }
   ],
   "source": [
    "rscores = einops.einsum(refusal_directions, refusal_directions, \"a_layers d_model, b_layers d_model -> a_layers b_layers\")\n",
    "\n",
    "imshow(rscores, xaxis_title=\"Refusal direction layers\", yaxis_title=\"Refusal direction layers\", title=f\"Qwen 2.5 1.5b cosine similarities between refusal directions\", size=(600, 600), border=True)"
   ]
  }
 ],
 "metadata": {
  "kernelspec": {
   "display_name": "subspace",
   "language": "python",
   "name": "python3"
  },
  "language_info": {
   "codemirror_mode": {
    "name": "ipython",
    "version": 3
   },
   "file_extension": ".py",
   "mimetype": "text/x-python",
   "name": "python",
   "nbconvert_exporter": "python",
   "pygments_lexer": "ipython3",
   "version": "3.12.9"
  }
 },
 "nbformat": 4,
 "nbformat_minor": 2
}
