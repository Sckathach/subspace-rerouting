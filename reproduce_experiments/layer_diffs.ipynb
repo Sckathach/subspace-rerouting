{
 "cells": [
  {
   "cell_type": "markdown",
   "metadata": {},
   "source": [
    "# Cross-layer stability of subspaces\n",
    "\n",
    "This notebook shows how you can reproduce the experiments of the Appendix Section I: Cross-layer stability of subspaces of the paper. \n",
    "\n",
    "Requirements: \n",
    "- Model's information in `models.toml` if you want to use the `Lens.from_config` method\n",
    "- Probes configuration in `probes_config.json` "
   ]
  },
  {
   "cell_type": "code",
   "execution_count": 1,
   "metadata": {},
   "outputs": [
    {
     "data": {
      "application/vnd.jupyter.widget-view+json": {
       "model_id": "8713883e64a74e95b0caf1989fbc4d4b",
       "version_major": 2,
       "version_minor": 0
      },
      "text/plain": [
       "Loading checkpoint shards:   0%|          | 0/2 [00:00<?, ?it/s]"
      ]
     },
     "metadata": {},
     "output_type": "display_data"
    },
    {
     "name": "stdout",
     "output_type": "stream",
     "text": [
      "Loaded pretrained model google/gemma-2-2b-it into HookedTransformer\n"
     ]
    }
   ],
   "source": [
    "from ssr.lens import Lens\n",
    "\n",
    "MODEL_NAME = \"qwen2.5_1.5b\"\n",
    "MODEL_NAME = \"llama3.2_1b\"\n",
    "MODEL_NAME = \"llama3.2_3b\"\n",
    "MODEL_NAME = \"gemma2_2b\"\n",
    "lens = Lens.from_preset(MODEL_NAME)"
   ]
  },
  {
   "cell_type": "code",
   "execution_count": 2,
   "metadata": {},
   "outputs": [],
   "source": [
    "import json\n",
    "import torch as t\n",
    "import einops \n",
    "\n",
    "from ssr.files  import load_dataset\n",
    "from ssr.probes import activations_to_dataloader, train_and_test_classifier\n",
    "from ssr import DEVICE, PROBES_CONFIG_PATH, pprint\n",
    "from reproduce_experiments.plot import imshow\n",
    "\n",
    "titles = {\n",
    "    \"llama3.2_1b\": \"Llama 3.2 1b\",\n",
    "    \"llama3.2_3b\": \"Llama 3.2 3b\",\n",
    "    \"qwen2.5_1.5b\": \"Qwen 2.5 1.5b\",\n",
    "    \"gemma2_2b\": \"Gemma 2 2b\"\n",
    "}\n",
    "\n",
    "TRAIN_SET = 120\n",
    "VAL_SET = 40\n",
    "\n",
    "n_layers = lens.model.cfg.n_layers\n",
    "display_name = titles[MODEL_NAME]"
   ]
  },
  {
   "cell_type": "markdown",
   "metadata": {},
   "source": [
    "### Scan the harmful and harmless instructions\n",
    "\n",
    "_/!\\\\ Padding is set to false for gemma2 2b, so there is only few samples /!\\\\_"
   ]
  },
  {
   "cell_type": "code",
   "execution_count": 3,
   "metadata": {},
   "outputs": [
    {
     "name": "stderr",
     "output_type": "stream",
     "text": [
      "100%|██████████| 1/1 [00:00<00:00,  1.87it/s]\n",
      "100%|██████████| 1/1 [00:00<00:00,  2.56it/s]\n"
     ]
    },
    {
     "data": {
      "text/html": [
       "<pre style=\"white-space:pre;overflow-x:auto;line-height:normal;font-family:Menlo,'DejaVu Sans Mono',consolas,'Courier New',monospace\"><span style=\"color: #800080; text-decoration-color: #800080; font-weight: bold\">torch.Size</span><span style=\"font-weight: bold\">([</span><span style=\"color: #008080; text-decoration-color: #008080; font-weight: bold\">26</span>, <span style=\"color: #008080; text-decoration-color: #008080; font-weight: bold\">26</span>, <span style=\"color: #008080; text-decoration-color: #008080; font-weight: bold\">2304</span><span style=\"font-weight: bold\">])</span>\n",
       "<span style=\"color: #800080; text-decoration-color: #800080; font-weight: bold\">torch.Size</span><span style=\"font-weight: bold\">([</span><span style=\"color: #008080; text-decoration-color: #008080; font-weight: bold\">26</span>, <span style=\"color: #008080; text-decoration-color: #008080; font-weight: bold\">0</span>, <span style=\"color: #008080; text-decoration-color: #008080; font-weight: bold\">2304</span><span style=\"font-weight: bold\">])</span>\n",
       "</pre>\n"
      ],
      "text/plain": [
       "\u001b[1;35mtorch.Size\u001b[0m\u001b[1m(\u001b[0m\u001b[1m[\u001b[0m\u001b[1;36m26\u001b[0m, \u001b[1;36m26\u001b[0m, \u001b[1;36m2304\u001b[0m\u001b[1m]\u001b[0m\u001b[1m)\u001b[0m\n",
       "\u001b[1;35mtorch.Size\u001b[0m\u001b[1m(\u001b[0m\u001b[1m[\u001b[0m\u001b[1;36m26\u001b[0m, \u001b[1;36m0\u001b[0m, \u001b[1;36m2304\u001b[0m\u001b[1m]\u001b[0m\u001b[1m)\u001b[0m\n"
      ]
     },
     "metadata": {},
     "output_type": "display_data"
    },
    {
     "data": {
      "text/html": [
       "<pre style=\"white-space:pre;overflow-x:auto;line-height:normal;font-family:Menlo,'DejaVu Sans Mono',consolas,'Courier New',monospace\"> \n",
       "<span style=\"color: #800080; text-decoration-color: #800080; font-weight: bold\">torch.Size</span><span style=\"font-weight: bold\">([</span><span style=\"color: #008080; text-decoration-color: #008080; font-weight: bold\">28</span>, <span style=\"color: #008080; text-decoration-color: #008080; font-weight: bold\">120</span>, <span style=\"color: #008080; text-decoration-color: #008080; font-weight: bold\">1536</span><span style=\"font-weight: bold\">])</span>\n",
       "<span style=\"color: #800080; text-decoration-color: #800080; font-weight: bold\">torch.Size</span><span style=\"font-weight: bold\">([</span><span style=\"color: #008080; text-decoration-color: #008080; font-weight: bold\">28</span>, <span style=\"color: #008080; text-decoration-color: #008080; font-weight: bold\">40</span>, <span style=\"color: #008080; text-decoration-color: #008080; font-weight: bold\">1536</span><span style=\"font-weight: bold\">])</span>\n",
       "\n",
       "</pre>\n"
      ],
      "text/plain": [
       " \n",
       "\u001b[1;35mtorch.Size\u001b[0m\u001b[1m(\u001b[0m\u001b[1m[\u001b[0m\u001b[1;36m28\u001b[0m, \u001b[1;36m120\u001b[0m, \u001b[1;36m1536\u001b[0m\u001b[1m]\u001b[0m\u001b[1m)\u001b[0m\n",
       "\u001b[1;35mtorch.Size\u001b[0m\u001b[1m(\u001b[0m\u001b[1m[\u001b[0m\u001b[1;36m28\u001b[0m, \u001b[1;36m40\u001b[0m, \u001b[1;36m1536\u001b[0m\u001b[1m]\u001b[0m\u001b[1m)\u001b[0m\n",
       "\n"
      ]
     },
     "metadata": {},
     "output_type": "display_data"
    }
   ],
   "source": [
    "hf_scan, hl_scan = lens.auto_scan_dataset(max_samples=TRAIN_SET+VAL_SET)\n",
    "\n",
    "hf_train, hf_val = hf_scan[:, :TRAIN_SET], hf_scan[:, TRAIN_SET:]\n",
    "hl_train, hl_val = hl_scan[:, :TRAIN_SET], hl_scan[:, TRAIN_SET:]\n",
    "\n",
    "pprint(hf_train.shape, hl_val.shape)\n",
    "\n",
    "pprint(\"\"\" \n",
    "torch.Size([28, 120, 1536])\n",
    "torch.Size([28, 40, 1536])\n",
    "\"\"\")"
   ]
  },
  {
   "cell_type": "markdown",
   "metadata": {},
   "source": [
    "## Refusal directions "
   ]
  },
  {
   "cell_type": "code",
   "execution_count": 4,
   "metadata": {},
   "outputs": [
    {
     "data": {
      "application/vnd.plotly.v1+json": {
       "config": {
        "plotlyServerURL": "https://plot.ly",
        "staticPlot": false
       },
       "data": [
        {
         "coloraxis": "coloraxis",
         "hovertemplate": "x: %{x}<br>y: %{y}<br>color: %{z}<extra></extra>",
         "name": "0",
         "type": "heatmap",
         "xaxis": "x",
         "yaxis": "y",
         "z": [
          [
           1,
           0.3762207,
           0.28881836,
           0.07330322,
           0.045318604,
           -0.047790527,
           -0.03668213,
           0.021224976,
           0.004878998,
           0.017837524,
           0.005153656,
           0.010314941,
           0.023788452,
           0.022857666,
           0.036254883,
           0.031051636,
           0.047698975,
           0.05505371,
           0.04559326,
           0.026046753,
           0.03427124,
           0.05279541,
           0.041992188,
           0.03262329,
           0.03277588,
           0.017791748
          ],
          [
           0.3762207,
           1,
           0.62939453,
           0.33813477,
           0.28100586,
           0.15917969,
           0.15698242,
           0.10644531,
           0.07623291,
           0.07824707,
           0.08514404,
           0.072631836,
           0.07940674,
           0.06781006,
           0.050598145,
           0.047943115,
           0.019317627,
           -0.006175995,
           -0.0006914139,
           -0.015556335,
           -0.026245117,
           -0.015686035,
           -0.0037879944,
           -0.015792847,
           -0.016448975,
           -0.013389587
          ],
          [
           0.28881836,
           0.62939453,
           1,
           0.48632812,
           0.3552246,
           0.20385742,
           0.18713379,
           0.12237549,
           0.09790039,
           0.11315918,
           0.101379395,
           0.11193848,
           0.09265137,
           0.081726074,
           0.03744507,
           0.045166016,
           0.022232056,
           -0.032196045,
           -0.023712158,
           -0.03717041,
           -0.03036499,
           -0.019866943,
           -0.017684937,
           -0.021697998,
           -0.01612854,
           -0.021438599
          ],
          [
           0.07330322,
           0.33813477,
           0.48632812,
           1,
           0.61572266,
           0.31323242,
           0.27514648,
           0.20251465,
           0.13793945,
           0.12158203,
           0.12731934,
           0.1083374,
           0.10784912,
           0.087524414,
           0.050964355,
           0.06665039,
           0.035095215,
           -0.023010254,
           -0.02015686,
           -0.030426025,
           -0.03552246,
           -0.022979736,
           -0.0149383545,
           -0.006324768,
           -0.014480591,
           -0.011253357
          ],
          [
           0.045318604,
           0.28100586,
           0.3552246,
           0.61572266,
           1.0009766,
           0.50683594,
           0.40771484,
           0.22387695,
           0.1706543,
           0.15405273,
           0.1619873,
           0.13269043,
           0.12561035,
           0.09967041,
           0.077697754,
           0.06713867,
           0.02468872,
           -0.010910034,
           -0.0063171387,
           -0.021835327,
           -0.030715942,
           -0.037719727,
           -0.02960205,
           -0.020385742,
           -0.011070251,
           -0.012962341
          ],
          [
           -0.047790527,
           0.15917969,
           0.20385742,
           0.31323242,
           0.50683594,
           1.0009766,
           0.7050781,
           0.28588867,
           0.1685791,
           0.14477539,
           0.17578125,
           0.1484375,
           0.14245605,
           0.115478516,
           0.09777832,
           0.06793213,
           0.02255249,
           0.0065231323,
           0.024810791,
           0.0063171387,
           -0.0068359375,
           -0.010406494,
           -0.018707275,
           -0.014060974,
           0.009544373,
           0.01159668
          ],
          [
           -0.03668213,
           0.15698242,
           0.18713379,
           0.27514648,
           0.40771484,
           0.7050781,
           1,
           0.32128906,
           0.19396973,
           0.16711426,
           0.1986084,
           0.16833496,
           0.16882324,
           0.14245605,
           0.11230469,
           0.09362793,
           0.047546387,
           0.014564514,
           0.011054993,
           -0.0016031265,
           -0.011428833,
           -0.024475098,
           -0.02545166,
           -0.016159058,
           0.014465332,
           0.014801025
          ],
          [
           0.021224976,
           0.10644531,
           0.12237549,
           0.20251465,
           0.22387695,
           0.28588867,
           0.32128906,
           1,
           0.6904297,
           0.6064453,
           0.55615234,
           0.45043945,
           0.36914062,
           0.32958984,
           0.23120117,
           0.19494629,
           0.12524414,
           0.0848999,
           0.046722412,
           0.03161621,
           0.0178833,
           0.006477356,
           0.019165039,
           0.021911621,
           0.029327393,
           0.03466797
          ],
          [
           0.004878998,
           0.07623291,
           0.09790039,
           0.13793945,
           0.1706543,
           0.1685791,
           0.19396973,
           0.6904297,
           0.9995117,
           0.7602539,
           0.6455078,
           0.5292969,
           0.46020508,
           0.39990234,
           0.28955078,
           0.23828125,
           0.16796875,
           0.11804199,
           0.080566406,
           0.06237793,
           0.058563232,
           0.03186035,
           0.04837036,
           0.066345215,
           0.055389404,
           0.05355835
          ],
          [
           0.017837524,
           0.07824707,
           0.11315918,
           0.12158203,
           0.15405273,
           0.14477539,
           0.16711426,
           0.6064453,
           0.7602539,
           0.9995117,
           0.8066406,
           0.65966797,
           0.5576172,
           0.48168945,
           0.3395996,
           0.29101562,
           0.20153809,
           0.12768555,
           0.08691406,
           0.06317139,
           0.05343628,
           0.039245605,
           0.048614502,
           0.05999756,
           0.057556152,
           0.05718994
          ],
          [
           0.005153656,
           0.08514404,
           0.101379395,
           0.12731934,
           0.1619873,
           0.17578125,
           0.1986084,
           0.55615234,
           0.6455078,
           0.8066406,
           0.9995117,
           0.70996094,
           0.6123047,
           0.51464844,
           0.37353516,
           0.31225586,
           0.20446777,
           0.124938965,
           0.08001709,
           0.05871582,
           0.051971436,
           0.037475586,
           0.048034668,
           0.056793213,
           0.062194824,
           0.064453125
          ],
          [
           0.010314941,
           0.072631836,
           0.11193848,
           0.1083374,
           0.13269043,
           0.1484375,
           0.16833496,
           0.45043945,
           0.5292969,
           0.65966797,
           0.70996094,
           1,
           0.81396484,
           0.69970703,
           0.53222656,
           0.44750977,
           0.32470703,
           0.21325684,
           0.16088867,
           0.12854004,
           0.115600586,
           0.095458984,
           0.09967041,
           0.105041504,
           0.11279297,
           0.12036133
          ],
          [
           0.023788452,
           0.07940674,
           0.09265137,
           0.10784912,
           0.12561035,
           0.14245605,
           0.16882324,
           0.36914062,
           0.46020508,
           0.5576172,
           0.6123047,
           0.81396484,
           1,
           0.7861328,
           0.61572266,
           0.5058594,
           0.37890625,
           0.2548828,
           0.1920166,
           0.1517334,
           0.13867188,
           0.096069336,
           0.09173584,
           0.09844971,
           0.10839844,
           0.115722656
          ],
          [
           0.022857666,
           0.06781006,
           0.081726074,
           0.087524414,
           0.09967041,
           0.115478516,
           0.14245605,
           0.32958984,
           0.39990234,
           0.48168945,
           0.51464844,
           0.69970703,
           0.7861328,
           1,
           0.79589844,
           0.6352539,
           0.50439453,
           0.3798828,
           0.2980957,
           0.23950195,
           0.21704102,
           0.17138672,
           0.15698242,
           0.15002441,
           0.14929199,
           0.14147949
          ],
          [
           0.036254883,
           0.050598145,
           0.03744507,
           0.050964355,
           0.077697754,
           0.09777832,
           0.11230469,
           0.23120117,
           0.28955078,
           0.3395996,
           0.37353516,
           0.53222656,
           0.61572266,
           0.79589844,
           1,
           0.76904297,
           0.6401367,
           0.51904297,
           0.42944336,
           0.35986328,
           0.32348633,
           0.27319336,
           0.24377441,
           0.2133789,
           0.19226074,
           0.16711426
          ],
          [
           0.031051636,
           0.047943115,
           0.045166016,
           0.06665039,
           0.06713867,
           0.06793213,
           0.09362793,
           0.19494629,
           0.23828125,
           0.29101562,
           0.31225586,
           0.44750977,
           0.5058594,
           0.6352539,
           0.76904297,
           0.9995117,
           0.79541016,
           0.6430664,
           0.52978516,
           0.4482422,
           0.3869629,
           0.3232422,
           0.29248047,
           0.27148438,
           0.25170898,
           0.21777344
          ],
          [
           0.047698975,
           0.019317627,
           0.022232056,
           0.035095215,
           0.02468872,
           0.02255249,
           0.047546387,
           0.12524414,
           0.16796875,
           0.20153809,
           0.20446777,
           0.32470703,
           0.37890625,
           0.50439453,
           0.6401367,
           0.79541016,
           1,
           0.79833984,
           0.6660156,
           0.56103516,
           0.4868164,
           0.41674805,
           0.3737793,
           0.34570312,
           0.30810547,
           0.2685547
          ],
          [
           0.05505371,
           -0.006175995,
           -0.032196045,
           -0.023010254,
           -0.010910034,
           0.0065231323,
           0.014564514,
           0.0848999,
           0.11804199,
           0.12768555,
           0.124938965,
           0.21325684,
           0.2548828,
           0.3798828,
           0.51904297,
           0.6430664,
           0.79833984,
           1,
           0.8276367,
           0.70654297,
           0.61035156,
           0.53125,
           0.48364258,
           0.43041992,
           0.3774414,
           0.32373047
          ],
          [
           0.04559326,
           -0.0006914139,
           -0.023712158,
           -0.02015686,
           -0.0063171387,
           0.024810791,
           0.011054993,
           0.046722412,
           0.080566406,
           0.08691406,
           0.08001709,
           0.16088867,
           0.1920166,
           0.2980957,
           0.42944336,
           0.52978516,
           0.6660156,
           0.8276367,
           1,
           0.8520508,
           0.7363281,
           0.65283203,
           0.60595703,
           0.5444336,
           0.49023438,
           0.41674805
          ],
          [
           0.026046753,
           -0.015556335,
           -0.03717041,
           -0.030426025,
           -0.021835327,
           0.0063171387,
           -0.0016031265,
           0.03161621,
           0.06237793,
           0.06317139,
           0.05871582,
           0.12854004,
           0.1517334,
           0.23950195,
           0.35986328,
           0.4482422,
           0.56103516,
           0.70654297,
           0.8520508,
           1,
           0.86865234,
           0.7661133,
           0.71484375,
           0.64208984,
           0.5727539,
           0.49145508
          ],
          [
           0.03427124,
           -0.026245117,
           -0.03036499,
           -0.03552246,
           -0.030715942,
           -0.0068359375,
           -0.011428833,
           0.0178833,
           0.058563232,
           0.05343628,
           0.051971436,
           0.115600586,
           0.13867188,
           0.21704102,
           0.32348633,
           0.3869629,
           0.4868164,
           0.61035156,
           0.7363281,
           0.86865234,
           1,
           0.86279297,
           0.8071289,
           0.70751953,
           0.6171875,
           0.5239258
          ],
          [
           0.05279541,
           -0.015686035,
           -0.019866943,
           -0.022979736,
           -0.037719727,
           -0.010406494,
           -0.024475098,
           0.006477356,
           0.03186035,
           0.039245605,
           0.037475586,
           0.095458984,
           0.096069336,
           0.17138672,
           0.27319336,
           0.3232422,
           0.41674805,
           0.53125,
           0.65283203,
           0.7661133,
           0.86279297,
           0.9995117,
           0.9033203,
           0.7871094,
           0.6904297,
           0.58740234
          ],
          [
           0.041992188,
           -0.0037879944,
           -0.017684937,
           -0.0149383545,
           -0.02960205,
           -0.018707275,
           -0.02545166,
           0.019165039,
           0.04837036,
           0.048614502,
           0.048034668,
           0.09967041,
           0.09173584,
           0.15698242,
           0.24377441,
           0.29248047,
           0.3737793,
           0.48364258,
           0.60595703,
           0.71484375,
           0.8071289,
           0.9033203,
           1,
           0.87841797,
           0.77441406,
           0.65478516
          ],
          [
           0.03262329,
           -0.015792847,
           -0.021697998,
           -0.006324768,
           -0.020385742,
           -0.014060974,
           -0.016159058,
           0.021911621,
           0.066345215,
           0.05999756,
           0.056793213,
           0.105041504,
           0.09844971,
           0.15002441,
           0.2133789,
           0.27148438,
           0.34570312,
           0.43041992,
           0.5444336,
           0.64208984,
           0.70751953,
           0.7871094,
           0.87841797,
           0.9995117,
           0.9082031,
           0.79785156
          ],
          [
           0.03277588,
           -0.016448975,
           -0.01612854,
           -0.014480591,
           -0.011070251,
           0.009544373,
           0.014465332,
           0.029327393,
           0.055389404,
           0.057556152,
           0.062194824,
           0.11279297,
           0.10839844,
           0.14929199,
           0.19226074,
           0.25170898,
           0.30810547,
           0.3774414,
           0.49023438,
           0.5727539,
           0.6171875,
           0.6904297,
           0.77441406,
           0.9082031,
           1,
           0.9160156
          ],
          [
           0.017791748,
           -0.013389587,
           -0.021438599,
           -0.011253357,
           -0.012962341,
           0.01159668,
           0.014801025,
           0.03466797,
           0.05355835,
           0.05718994,
           0.064453125,
           0.12036133,
           0.115722656,
           0.14147949,
           0.16711426,
           0.21777344,
           0.2685547,
           0.32373047,
           0.41674805,
           0.49145508,
           0.5239258,
           0.58740234,
           0.65478516,
           0.79785156,
           0.9160156,
           1
          ]
         ]
        }
       ],
       "layout": {
        "coloraxis": {
         "cmid": 0,
         "colorbar": {
          "x": 1
         },
         "colorscale": [
          [
           0,
           "#A459D1"
          ],
          [
           0.5,
           "#ffffff"
          ],
          [
           1,
           "#FFB84C"
          ]
         ]
        },
        "height": 600,
        "margin": {
         "t": 60
        },
        "paper_bgcolor": "rgba(0,0,0,0)",
        "plot_bgcolor": "rgba(0,0,0,0)",
        "template": {
         "data": {
          "bar": [
           {
            "error_x": {
             "color": "#2a3f5f"
            },
            "error_y": {
             "color": "#2a3f5f"
            },
            "marker": {
             "line": {
              "color": "#E5ECF6",
              "width": 0.5
             },
             "pattern": {
              "fillmode": "overlay",
              "size": 10,
              "solidity": 0.2
             }
            },
            "type": "bar"
           }
          ],
          "barpolar": [
           {
            "marker": {
             "line": {
              "color": "#E5ECF6",
              "width": 0.5
             },
             "pattern": {
              "fillmode": "overlay",
              "size": 10,
              "solidity": 0.2
             }
            },
            "type": "barpolar"
           }
          ],
          "carpet": [
           {
            "aaxis": {
             "endlinecolor": "#2a3f5f",
             "gridcolor": "white",
             "linecolor": "white",
             "minorgridcolor": "white",
             "startlinecolor": "#2a3f5f"
            },
            "baxis": {
             "endlinecolor": "#2a3f5f",
             "gridcolor": "white",
             "linecolor": "white",
             "minorgridcolor": "white",
             "startlinecolor": "#2a3f5f"
            },
            "type": "carpet"
           }
          ],
          "choropleth": [
           {
            "colorbar": {
             "outlinewidth": 0,
             "ticks": ""
            },
            "type": "choropleth"
           }
          ],
          "contour": [
           {
            "colorbar": {
             "outlinewidth": 0,
             "ticks": ""
            },
            "colorscale": [
             [
              0,
              "#0d0887"
             ],
             [
              0.1111111111111111,
              "#46039f"
             ],
             [
              0.2222222222222222,
              "#7201a8"
             ],
             [
              0.3333333333333333,
              "#9c179e"
             ],
             [
              0.4444444444444444,
              "#bd3786"
             ],
             [
              0.5555555555555556,
              "#d8576b"
             ],
             [
              0.6666666666666666,
              "#ed7953"
             ],
             [
              0.7777777777777778,
              "#fb9f3a"
             ],
             [
              0.8888888888888888,
              "#fdca26"
             ],
             [
              1,
              "#f0f921"
             ]
            ],
            "type": "contour"
           }
          ],
          "contourcarpet": [
           {
            "colorbar": {
             "outlinewidth": 0,
             "ticks": ""
            },
            "type": "contourcarpet"
           }
          ],
          "heatmap": [
           {
            "colorbar": {
             "outlinewidth": 0,
             "ticks": ""
            },
            "colorscale": [
             [
              0,
              "#0d0887"
             ],
             [
              0.1111111111111111,
              "#46039f"
             ],
             [
              0.2222222222222222,
              "#7201a8"
             ],
             [
              0.3333333333333333,
              "#9c179e"
             ],
             [
              0.4444444444444444,
              "#bd3786"
             ],
             [
              0.5555555555555556,
              "#d8576b"
             ],
             [
              0.6666666666666666,
              "#ed7953"
             ],
             [
              0.7777777777777778,
              "#fb9f3a"
             ],
             [
              0.8888888888888888,
              "#fdca26"
             ],
             [
              1,
              "#f0f921"
             ]
            ],
            "type": "heatmap"
           }
          ],
          "heatmapgl": [
           {
            "colorbar": {
             "outlinewidth": 0,
             "ticks": ""
            },
            "colorscale": [
             [
              0,
              "#0d0887"
             ],
             [
              0.1111111111111111,
              "#46039f"
             ],
             [
              0.2222222222222222,
              "#7201a8"
             ],
             [
              0.3333333333333333,
              "#9c179e"
             ],
             [
              0.4444444444444444,
              "#bd3786"
             ],
             [
              0.5555555555555556,
              "#d8576b"
             ],
             [
              0.6666666666666666,
              "#ed7953"
             ],
             [
              0.7777777777777778,
              "#fb9f3a"
             ],
             [
              0.8888888888888888,
              "#fdca26"
             ],
             [
              1,
              "#f0f921"
             ]
            ],
            "type": "heatmapgl"
           }
          ],
          "histogram": [
           {
            "marker": {
             "pattern": {
              "fillmode": "overlay",
              "size": 10,
              "solidity": 0.2
             }
            },
            "type": "histogram"
           }
          ],
          "histogram2d": [
           {
            "colorbar": {
             "outlinewidth": 0,
             "ticks": ""
            },
            "colorscale": [
             [
              0,
              "#0d0887"
             ],
             [
              0.1111111111111111,
              "#46039f"
             ],
             [
              0.2222222222222222,
              "#7201a8"
             ],
             [
              0.3333333333333333,
              "#9c179e"
             ],
             [
              0.4444444444444444,
              "#bd3786"
             ],
             [
              0.5555555555555556,
              "#d8576b"
             ],
             [
              0.6666666666666666,
              "#ed7953"
             ],
             [
              0.7777777777777778,
              "#fb9f3a"
             ],
             [
              0.8888888888888888,
              "#fdca26"
             ],
             [
              1,
              "#f0f921"
             ]
            ],
            "type": "histogram2d"
           }
          ],
          "histogram2dcontour": [
           {
            "colorbar": {
             "outlinewidth": 0,
             "ticks": ""
            },
            "colorscale": [
             [
              0,
              "#0d0887"
             ],
             [
              0.1111111111111111,
              "#46039f"
             ],
             [
              0.2222222222222222,
              "#7201a8"
             ],
             [
              0.3333333333333333,
              "#9c179e"
             ],
             [
              0.4444444444444444,
              "#bd3786"
             ],
             [
              0.5555555555555556,
              "#d8576b"
             ],
             [
              0.6666666666666666,
              "#ed7953"
             ],
             [
              0.7777777777777778,
              "#fb9f3a"
             ],
             [
              0.8888888888888888,
              "#fdca26"
             ],
             [
              1,
              "#f0f921"
             ]
            ],
            "type": "histogram2dcontour"
           }
          ],
          "mesh3d": [
           {
            "colorbar": {
             "outlinewidth": 0,
             "ticks": ""
            },
            "type": "mesh3d"
           }
          ],
          "parcoords": [
           {
            "line": {
             "colorbar": {
              "outlinewidth": 0,
              "ticks": ""
             }
            },
            "type": "parcoords"
           }
          ],
          "pie": [
           {
            "automargin": true,
            "type": "pie"
           }
          ],
          "scatter": [
           {
            "fillpattern": {
             "fillmode": "overlay",
             "size": 10,
             "solidity": 0.2
            },
            "type": "scatter"
           }
          ],
          "scatter3d": [
           {
            "line": {
             "colorbar": {
              "outlinewidth": 0,
              "ticks": ""
             }
            },
            "marker": {
             "colorbar": {
              "outlinewidth": 0,
              "ticks": ""
             }
            },
            "type": "scatter3d"
           }
          ],
          "scattercarpet": [
           {
            "marker": {
             "colorbar": {
              "outlinewidth": 0,
              "ticks": ""
             }
            },
            "type": "scattercarpet"
           }
          ],
          "scattergeo": [
           {
            "marker": {
             "colorbar": {
              "outlinewidth": 0,
              "ticks": ""
             }
            },
            "type": "scattergeo"
           }
          ],
          "scattergl": [
           {
            "marker": {
             "colorbar": {
              "outlinewidth": 0,
              "ticks": ""
             }
            },
            "type": "scattergl"
           }
          ],
          "scattermapbox": [
           {
            "marker": {
             "colorbar": {
              "outlinewidth": 0,
              "ticks": ""
             }
            },
            "type": "scattermapbox"
           }
          ],
          "scatterpolar": [
           {
            "marker": {
             "colorbar": {
              "outlinewidth": 0,
              "ticks": ""
             }
            },
            "type": "scatterpolar"
           }
          ],
          "scatterpolargl": [
           {
            "marker": {
             "colorbar": {
              "outlinewidth": 0,
              "ticks": ""
             }
            },
            "type": "scatterpolargl"
           }
          ],
          "scatterternary": [
           {
            "marker": {
             "colorbar": {
              "outlinewidth": 0,
              "ticks": ""
             }
            },
            "type": "scatterternary"
           }
          ],
          "surface": [
           {
            "colorbar": {
             "outlinewidth": 0,
             "ticks": ""
            },
            "colorscale": [
             [
              0,
              "#0d0887"
             ],
             [
              0.1111111111111111,
              "#46039f"
             ],
             [
              0.2222222222222222,
              "#7201a8"
             ],
             [
              0.3333333333333333,
              "#9c179e"
             ],
             [
              0.4444444444444444,
              "#bd3786"
             ],
             [
              0.5555555555555556,
              "#d8576b"
             ],
             [
              0.6666666666666666,
              "#ed7953"
             ],
             [
              0.7777777777777778,
              "#fb9f3a"
             ],
             [
              0.8888888888888888,
              "#fdca26"
             ],
             [
              1,
              "#f0f921"
             ]
            ],
            "type": "surface"
           }
          ],
          "table": [
           {
            "cells": {
             "fill": {
              "color": "#EBF0F8"
             },
             "line": {
              "color": "white"
             }
            },
            "header": {
             "fill": {
              "color": "#C8D4E3"
             },
             "line": {
              "color": "white"
             }
            },
            "type": "table"
           }
          ]
         },
         "layout": {
          "annotationdefaults": {
           "arrowcolor": "#2a3f5f",
           "arrowhead": 0,
           "arrowwidth": 1
          },
          "autotypenumbers": "strict",
          "coloraxis": {
           "colorbar": {
            "outlinewidth": 0,
            "ticks": ""
           }
          },
          "colorscale": {
           "diverging": [
            [
             0,
             "#8e0152"
            ],
            [
             0.1,
             "#c51b7d"
            ],
            [
             0.2,
             "#de77ae"
            ],
            [
             0.3,
             "#f1b6da"
            ],
            [
             0.4,
             "#fde0ef"
            ],
            [
             0.5,
             "#f7f7f7"
            ],
            [
             0.6,
             "#e6f5d0"
            ],
            [
             0.7,
             "#b8e186"
            ],
            [
             0.8,
             "#7fbc41"
            ],
            [
             0.9,
             "#4d9221"
            ],
            [
             1,
             "#276419"
            ]
           ],
           "sequential": [
            [
             0,
             "#0d0887"
            ],
            [
             0.1111111111111111,
             "#46039f"
            ],
            [
             0.2222222222222222,
             "#7201a8"
            ],
            [
             0.3333333333333333,
             "#9c179e"
            ],
            [
             0.4444444444444444,
             "#bd3786"
            ],
            [
             0.5555555555555556,
             "#d8576b"
            ],
            [
             0.6666666666666666,
             "#ed7953"
            ],
            [
             0.7777777777777778,
             "#fb9f3a"
            ],
            [
             0.8888888888888888,
             "#fdca26"
            ],
            [
             1,
             "#f0f921"
            ]
           ],
           "sequentialminus": [
            [
             0,
             "#0d0887"
            ],
            [
             0.1111111111111111,
             "#46039f"
            ],
            [
             0.2222222222222222,
             "#7201a8"
            ],
            [
             0.3333333333333333,
             "#9c179e"
            ],
            [
             0.4444444444444444,
             "#bd3786"
            ],
            [
             0.5555555555555556,
             "#d8576b"
            ],
            [
             0.6666666666666666,
             "#ed7953"
            ],
            [
             0.7777777777777778,
             "#fb9f3a"
            ],
            [
             0.8888888888888888,
             "#fdca26"
            ],
            [
             1,
             "#f0f921"
            ]
           ]
          },
          "colorway": [
           "#636efa",
           "#EF553B",
           "#00cc96",
           "#ab63fa",
           "#FFA15A",
           "#19d3f3",
           "#FF6692",
           "#B6E880",
           "#FF97FF",
           "#FECB52"
          ],
          "font": {
           "color": "#2a3f5f"
          },
          "geo": {
           "bgcolor": "white",
           "lakecolor": "white",
           "landcolor": "#E5ECF6",
           "showlakes": true,
           "showland": true,
           "subunitcolor": "white"
          },
          "hoverlabel": {
           "align": "left"
          },
          "hovermode": "closest",
          "mapbox": {
           "style": "light"
          },
          "paper_bgcolor": "white",
          "plot_bgcolor": "#E5ECF6",
          "polar": {
           "angularaxis": {
            "gridcolor": "white",
            "linecolor": "white",
            "ticks": ""
           },
           "bgcolor": "#E5ECF6",
           "radialaxis": {
            "gridcolor": "white",
            "linecolor": "white",
            "ticks": ""
           }
          },
          "scene": {
           "xaxis": {
            "backgroundcolor": "#E5ECF6",
            "gridcolor": "white",
            "gridwidth": 2,
            "linecolor": "white",
            "showbackground": true,
            "ticks": "",
            "zerolinecolor": "white"
           },
           "yaxis": {
            "backgroundcolor": "#E5ECF6",
            "gridcolor": "white",
            "gridwidth": 2,
            "linecolor": "white",
            "showbackground": true,
            "ticks": "",
            "zerolinecolor": "white"
           },
           "zaxis": {
            "backgroundcolor": "#E5ECF6",
            "gridcolor": "white",
            "gridwidth": 2,
            "linecolor": "white",
            "showbackground": true,
            "ticks": "",
            "zerolinecolor": "white"
           }
          },
          "shapedefaults": {
           "line": {
            "color": "#2a3f5f"
           }
          },
          "ternary": {
           "aaxis": {
            "gridcolor": "white",
            "linecolor": "white",
            "ticks": ""
           },
           "baxis": {
            "gridcolor": "white",
            "linecolor": "white",
            "ticks": ""
           },
           "bgcolor": "#E5ECF6",
           "caxis": {
            "gridcolor": "white",
            "linecolor": "white",
            "ticks": ""
           }
          },
          "title": {
           "x": 0.05
          },
          "xaxis": {
           "automargin": true,
           "gridcolor": "white",
           "linecolor": "white",
           "ticks": "",
           "title": {
            "standoff": 15
           },
           "zerolinecolor": "white",
           "zerolinewidth": 2
          },
          "yaxis": {
           "automargin": true,
           "gridcolor": "white",
           "linecolor": "white",
           "ticks": "",
           "title": {
            "standoff": 15
           },
           "zerolinecolor": "white",
           "zerolinewidth": 2
          }
         }
        },
        "title": {
         "text": "Gemma 2 2b cosine similarities between refusal directions",
         "x": 0.5,
         "xanchor": "center",
         "y": 0.95,
         "yanchor": "top"
        },
        "width": 600,
        "xaxis": {
         "anchor": "y",
         "constrain": "domain",
         "domain": [
          0,
          1
         ],
         "linecolor": "black",
         "linewidth": 1,
         "mirror": true,
         "scaleanchor": "y",
         "showline": true,
         "title": {
          "text": "Refusal direction layers"
         }
        },
        "yaxis": {
         "anchor": "x",
         "autorange": "reversed",
         "constrain": "domain",
         "domain": [
          0,
          1
         ],
         "linecolor": "black",
         "linewidth": 1,
         "mirror": true,
         "showline": true,
         "title": {
          "text": "Refusal direction layers"
         }
        }
       }
      }
     },
     "metadata": {},
     "output_type": "display_data"
    }
   ],
   "source": [
    "refusal_directions = hf_train.mean(dim=1) - hl_train.mean(dim=1)\n",
    "refusal_directions = (\n",
    "    refusal_directions\n",
    "    / t.linalg.norm(refusal_directions, dim=-1, keepdim=True).cpu()\n",
    ")\n",
    "\n",
    "rscores = einops.einsum(refusal_directions, refusal_directions, \"a_layers d_model, b_layers d_model -> a_layers b_layers\")\n",
    "\n",
    "imshow(rscores, xaxis_title=\"Refusal direction layers\", yaxis_title=\"Refusal direction layers\", title=f\"{display_name} cosine similarities between refusal directions\", size=(600, 600), border=True, savefig=f\"layer_diffs_steering_{MODEL_NAME}.svg\")"
   ]
  },
  {
   "cell_type": "markdown",
   "metadata": {},
   "source": [
    "## Probes"
   ]
  },
  {
   "cell_type": "code",
   "execution_count": 7,
   "metadata": {},
   "outputs": [
    {
     "name": "stdout",
     "output_type": "stream",
     "text": [
      "Trained probe at layer: 0, with metrics: {'loss': 0.8229263424873352, 'accuracy': 0.4, 'precision': 0.6666666666666666, 'recall': 0.2, 'f1_score': 0.3076923076923077}.\n",
      "Trained probe at layer: 1, with metrics: {'loss': 0.21648256480693817, 'accuracy': 0.4666666666666667, 'precision': 0.5, 'recall': 0.75, 'f1_score': 0.6}.\n",
      "Trained probe at layer: 2, with metrics: {'loss': 0.749996542930603, 'accuracy': 0.6666666666666666, 'precision': 0.6, 'recall': 0.5, 'f1_score': 0.5454545454545454}.\n",
      "Trained probe at layer: 3, with metrics: {'loss': 0.5858144760131836, 'accuracy': 0.8666666666666667, 'precision': 0.8, 'recall': 1.0, 'f1_score': 0.8888888888888888}.\n",
      "Trained probe at layer: 4, with metrics: {'loss': 1.9821854829788208, 'accuracy': 0.4666666666666667, 'precision': 0.3333333333333333, 'recall': 0.14285714285714285, 'f1_score': 0.2}.\n",
      "Trained probe at layer: 5, with metrics: {'loss': 0.37237825989723206, 'accuracy': 0.4, 'precision': 0.5, 'recall': 0.2222222222222222, 'f1_score': 0.3076923076923077}.\n",
      "Trained probe at layer: 6, with metrics: {'loss': 0.20339833199977875, 'accuracy': 0.7333333333333333, 'precision': 0.75, 'recall': 0.75, 'f1_score': 0.75}.\n",
      "Trained probe at layer: 7, with metrics: {'loss': 0.4962766766548157, 'accuracy': 0.7333333333333333, 'precision': 0.875, 'recall': 0.7, 'f1_score': 0.7777777777777778}.\n",
      "Trained probe at layer: 8, with metrics: {'loss': 0.1589938849210739, 'accuracy': 0.9333333333333333, 'precision': 1.0, 'recall': 0.8571428571428571, 'f1_score': 0.9230769230769231}.\n",
      "Trained probe at layer: 9, with metrics: {'loss': 7.164439011830837e-05, 'accuracy': 1.0, 'precision': 1.0, 'recall': 1.0, 'f1_score': 1.0}.\n",
      "Trained probe at layer: 10, with metrics: {'loss': 0.21477903425693512, 'accuracy': 1.0, 'precision': 1.0, 'recall': 1.0, 'f1_score': 1.0}.\n",
      "Trained probe at layer: 11, with metrics: {'loss': 0.06138646602630615, 'accuracy': 0.9333333333333333, 'precision': 1.0, 'recall': 0.875, 'f1_score': 0.9333333333333333}.\n",
      "Trained probe at layer: 12, with metrics: {'loss': 0.05881914123892784, 'accuracy': 0.9333333333333333, 'precision': 0.875, 'recall': 1.0, 'f1_score': 0.9333333333333333}.\n",
      "Trained probe at layer: 13, with metrics: {'loss': 0.03188531473278999, 'accuracy': 1.0, 'precision': 1.0, 'recall': 1.0, 'f1_score': 1.0}.\n",
      "Trained probe at layer: 14, with metrics: {'loss': 0.027316151186823845, 'accuracy': 1.0, 'precision': 1.0, 'recall': 1.0, 'f1_score': 1.0}.\n",
      "Trained probe at layer: 15, with metrics: {'loss': 4.601494424209818e-13, 'accuracy': 1.0, 'precision': 1.0, 'recall': 1.0, 'f1_score': 1.0}.\n",
      "Trained probe at layer: 16, with metrics: {'loss': 0.00746688898652792, 'accuracy': 1.0, 'precision': 1.0, 'recall': 1.0, 'f1_score': 1.0}.\n",
      "Trained probe at layer: 17, with metrics: {'loss': 0.00019909007824026048, 'accuracy': 1.0, 'precision': 1.0, 'recall': 1.0, 'f1_score': 1.0}.\n",
      "Trained probe at layer: 18, with metrics: {'loss': 3.4929624234791845e-05, 'accuracy': 1.0, 'precision': 1.0, 'recall': 1.0, 'f1_score': 1.0}.\n",
      "Trained probe at layer: 19, with metrics: {'loss': 1.8886574252974242e-05, 'accuracy': 1.0, 'precision': 1.0, 'recall': 1.0, 'f1_score': 1.0}.\n",
      "Trained probe at layer: 20, with metrics: {'loss': 0.026446279138326645, 'accuracy': 1.0, 'precision': 1.0, 'recall': 1.0, 'f1_score': 1.0}.\n",
      "Trained probe at layer: 21, with metrics: {'loss': 46.66666793823242, 'accuracy': 0.5333333333333333, 'precision': 0.0, 'recall': 0.0, 'f1_score': 0.0}.\n",
      "Trained probe at layer: 22, with metrics: {'loss': 4.374429488887728e-14, 'accuracy': 1.0, 'precision': 1.0, 'recall': 1.0, 'f1_score': 1.0}.\n",
      "Trained probe at layer: 23, with metrics: {'loss': 0.052135564386844635, 'accuracy': 0.9333333333333333, 'precision': 1.0, 'recall': 0.9, 'f1_score': 0.9473684210526315}.\n",
      "Trained probe at layer: 24, with metrics: {'loss': 46.66666793823242, 'accuracy': 0.5333333333333333, 'precision': 0.5333333333333333, 'recall': 1.0, 'f1_score': 0.6956521739130435}.\n",
      "Trained probe at layer: 25, with metrics: {'loss': 4.0829760109772906e-05, 'accuracy': 1.0, 'precision': 1.0, 'recall': 1.0, 'f1_score': 1.0}.\n"
     ]
    },
    {
     "name": "stderr",
     "output_type": "stream",
     "text": [
      "/home/sckathach/miniconda3/envs/ssr/lib/python3.12/site-packages/sklearn/metrics/_classification.py:1565: UndefinedMetricWarning:\n",
      "\n",
      "Precision is ill-defined and being set to 0.0 due to no predicted samples. Use `zero_division` parameter to control this behavior.\n",
      "\n"
     ]
    },
    {
     "data": {
      "text/html": [
       "<pre style=\"white-space:pre;overflow-x:auto;line-height:normal;font-family:Menlo,'DejaVu Sans Mono',consolas,'Courier New',monospace\">Trained <span style=\"color: #008080; text-decoration-color: #008080; font-weight: bold\">26</span> probes.\n",
       "</pre>\n"
      ],
      "text/plain": [
       "Trained \u001b[1;36m26\u001b[0m probes.\n"
      ]
     },
     "metadata": {},
     "output_type": "display_data"
    }
   ],
   "source": [
    "probes = []\n",
    "\n",
    "with open(PROBES_CONFIG_PATH, \"r\") as f:\n",
    "    best_configs = json.load(f)[MODEL_NAME]\n",
    "\n",
    "for layer in range(n_layers):\n",
    "    train_loader, test_loader, _ = activations_to_dataloader(\n",
    "        hf_train[layer], hl_train[layer]\n",
    "    )\n",
    "    classifier, _, metrics = train_and_test_classifier(\n",
    "        train_loader,\n",
    "        test_loader,\n",
    "        d_model=lens.model.cfg.d_model,\n",
    "        loss_name=best_configs[str(layer)][\"loss_name\"],\n",
    "        optimizer_name=best_configs[str(layer)][\"optimizer\"],\n",
    "        lr=best_configs[str(layer)][\"lr\"],\n",
    "        epochs=best_configs[str(layer)][\"epochs\"],\n",
    "    )\n",
    "    classifier = classifier.to(DEVICE).float().eval()\n",
    "    for param in classifier.parameters():\n",
    "        param.requires_grad = False\n",
    "\n",
    "    print(f\"Trained probe at layer: {layer}, with metrics: {metrics}.\")\n",
    "\n",
    "    loss_fn = (\n",
    "        t.nn.MSELoss(reduction=\"none\").to(DEVICE)\n",
    "        if best_configs[str(layer)][\"loss_name\"] == \"MSE\"\n",
    "        else t.nn.BCELoss(reduction=\"none\").to(DEVICE)\n",
    "    )\n",
    "\n",
    "    probes.append((classifier, loss_fn))\n",
    "\n",
    "pprint(f\"Trained {len(probes)} probes.\")"
   ]
  },
  {
   "cell_type": "code",
   "execution_count": 13,
   "metadata": {},
   "outputs": [
    {
     "data": {
      "application/vnd.plotly.v1+json": {
       "config": {
        "plotlyServerURL": "https://plot.ly",
        "staticPlot": false
       },
       "data": [
        {
         "coloraxis": "coloraxis",
         "hovertemplate": "x: %{x}<br>y: %{y}<br>color: %{z}<extra></extra>",
         "name": "0",
         "type": "heatmap",
         "xaxis": "x",
         "yaxis": "y",
         "z": [
          [
           0.6923077,
           0.7115385,
           0.5,
           0.5,
           0.5,
           0.5192308,
           0.5,
           0.42307693,
           0.48076928,
           0.5,
           0.53846157,
           0.4423077,
           0.4615385,
           0.48076925,
           0.3846154,
           0.36538464,
           0.4423077,
           0.21153846,
           0.5,
           0.36538464,
           0.3846154,
           0.34615386,
           0.4423077,
           0.3846154,
           0.4615385,
           0.48076925
          ],
          [
           0.5192308,
           0.7115385,
           0.7307693,
           0.5,
           0.5,
           0.5,
           0.5,
           0.55769235,
           0.59615386,
           0.53846157,
           0.5576923,
           0.5,
           0.59615386,
           0.5,
           0.6346154,
           0.5769231,
           0.5,
           0.5,
           0.5,
           0.5,
           0.5,
           0.5769231,
           0.53846157,
           0.6346154,
           0.84615386,
           0.5769231
          ],
          [
           0.5,
           0.5,
           0.75,
           0.80769235,
           0.76923084,
           0.5,
           0.6346154,
           0.5192308,
           0.5192308,
           0.5,
           0.53846157,
           0.5192308,
           0.5,
           0.53846157,
           0.6923077,
           0.5769231,
           0.7115385,
           0.5769231,
           0.5769231,
           0.6346154,
           0.5,
           0.28846154,
           0.25,
           0.3846154,
           0.5,
           0.3269231
          ],
          [
           0.5,
           0.5,
           0.5192308,
           0.9615385,
           0.8076923,
           0.5576923,
           0.5,
           0.7115385,
           0.59615386,
           0.6730769,
           0.7307693,
           0.7692308,
           0.6346154,
           0.7692308,
           0.82692313,
           0.673077,
           0.57692313,
           0.5,
           0.5576923,
           0.4615385,
           0.5192308,
           0.6923077,
           0.55769235,
           0.55769235,
           0.40384617,
           0.65384614
          ],
          [
           0.5,
           0.5,
           0.6923077,
           0.5,
           0.84615386,
           0.5192308,
           0.76923084,
           0.6730769,
           0.59615386,
           0.61538464,
           0.673077,
           0.6346154,
           0.5576923,
           0.5769231,
           0.5576923,
           0.55769235,
           0.34615386,
           0.3846154,
           0.53846157,
           0.53846157,
           0.48076925,
           0.115384616,
           0.42307693,
           0.26923078,
           0.5,
           0.5192308
          ],
          [
           0.5,
           0.5,
           0.55769235,
           0.5192308,
           0.6730769,
           0.82692313,
           0.84615386,
           0.7692308,
           0.6923077,
           0.61538464,
           0.82692313,
           0.7307693,
           0.90384614,
           0.8846154,
           0.6730769,
           0.6346154,
           0.48076925,
           0.5192308,
           0.53846157,
           0.5192308,
           0.4615385,
           0.5,
           0.26923078,
           0.26923078,
           0.3269231,
           0.48076925
          ],
          [
           0.5,
           0.5,
           0.55769235,
           0.57692313,
           0.6730769,
           0.90384614,
           0.923077,
           0.75,
           0.65384614,
           0.6923077,
           0.65384614,
           0.6923077,
           0.86538464,
           0.6730769,
           0.7307693,
           0.7692308,
           0.71153843,
           0.6923077,
           0.61538464,
           0.57692313,
           0.48076925,
           0.5192308,
           0.5,
           0.5,
           0.5,
           0.5
          ],
          [
           0.5,
           0.5,
           0.5,
           0.5,
           0.65384614,
           0.5,
           0.5,
           0.923077,
           0.9423077,
           0.9423077,
           0.9615385,
           0.9615385,
           0.9615385,
           0.9807693,
           0.9807693,
           1,
           0.9807693,
           0.90384614,
           0.78846157,
           0.75,
           0.7307693,
           0.65384614,
           0.5192308,
           0.6346154,
           0.8076923,
           0.78846157
          ],
          [
           0.5,
           0.5,
           0.5,
           0.5,
           0.5,
           0.5,
           0.5,
           0.84615386,
           0.9615385,
           1,
           0.9807693,
           0.9807693,
           0.9807693,
           0.9807693,
           1,
           1,
           1,
           1,
           0.9807693,
           0.9807693,
           1,
           0.9807693,
           0.90384614,
           0.9230769,
           0.78846157,
           0.48076925
          ],
          [
           0.5,
           0.5,
           0.5,
           0.5,
           0.5,
           0.5,
           0.5,
           0.71153843,
           0.9615385,
           0.9615385,
           0.9615385,
           0.9807693,
           0.9615385,
           0.9807693,
           0.9615385,
           0.9615385,
           0.9230769,
           0.90384614,
           0.9230769,
           0.7307693,
           0.59615386,
           0.65384614,
           0.86538464,
           0.6923077,
           0.6730769,
           0.59615386
          ],
          [
           0.5,
           0.5,
           0.5,
           0.5,
           0.5,
           0.5,
           0.5,
           0.53846157,
           0.9423077,
           0.9615385,
           0.9807693,
           0.9807693,
           1,
           1,
           0.9615385,
           1,
           0.8846154,
           0.6346154,
           0.5,
           0.5,
           0.5,
           0.5,
           0.53846157,
           0.5,
           0.5,
           0.5
          ],
          [
           0.5,
           0.5,
           0.5,
           0.5,
           0.5,
           0.5,
           0.5,
           0.5769231,
           0.9423077,
           0.9615385,
           0.9615385,
           0.9807693,
           1,
           0.9807693,
           1,
           1,
           1,
           1,
           1,
           0.9807693,
           1,
           1,
           0.9807693,
           1,
           0.9807693,
           0.82692313
          ],
          [
           0.5,
           0.5,
           0.5,
           0.5,
           0.5,
           0.5,
           0.5,
           0.5,
           0.5576923,
           0.84615386,
           0.86538464,
           1,
           0.9807693,
           1,
           0.9807693,
           1,
           1,
           0.9423077,
           0.9615385,
           0.75,
           0.7692308,
           0.65384614,
           0.9423077,
           0.86538464,
           1,
           0.71153843
          ],
          [
           0.5,
           0.5,
           0.5,
           0.5,
           0.5,
           0.5,
           0.5,
           0.5,
           0.53846157,
           0.7692308,
           0.75,
           0.9615385,
           0.9615385,
           1,
           1,
           1,
           1,
           1,
           1,
           1,
           1,
           1,
           0.9615385,
           0.9615385,
           0.82692313,
           0.5576923
          ],
          [
           0.5,
           0.53846157,
           0.5,
           0.5,
           0.5,
           0.5,
           0.5,
           0.5,
           0.5,
           0.5192308,
           0.5,
           0.9230769,
           0.9615385,
           0.9807693,
           1,
           1,
           1,
           1,
           1,
           1,
           1,
           1,
           0.9807693,
           0.9807693,
           0.9423077,
           0.7307693
          ],
          [
           0.5,
           0.5,
           0.5,
           0.5,
           0.5,
           0.5,
           0.5,
           0.5,
           0.5,
           0.5,
           0.5,
           0.78846157,
           0.8846154,
           0.9423077,
           0.9615385,
           1,
           1,
           1,
           1,
           1,
           1,
           1,
           1,
           0.9807693,
           0.8846154,
           0.84615386
          ],
          [
           0.5,
           0.5,
           0.48076928,
           0.5,
           0.5,
           0.5,
           0.5,
           0.673077,
           0.80769235,
           0.82692313,
           0.82692313,
           1,
           0.9615385,
           0.9807693,
           0.9807693,
           1,
           1,
           1,
           0.9807693,
           0.9807693,
           1,
           0.9807693,
           1,
           1,
           1,
           0.9807693
          ],
          [
           0.5,
           0.5,
           0.5,
           0.5,
           0.5,
           0.5,
           0.5,
           0.5,
           0.5,
           0.5,
           0.5,
           0.5,
           0.5,
           0.5,
           0.59615386,
           0.8846154,
           1,
           1,
           1,
           1,
           1,
           1,
           1,
           1,
           0.9423077,
           1
          ],
          [
           0.5,
           0.5,
           0.5,
           0.5,
           0.5,
           0.5,
           0.5,
           0.5,
           0.5,
           0.5,
           0.5,
           0.5,
           0.5,
           0.5,
           0.5,
           0.5,
           0.71153843,
           0.9807693,
           1,
           1,
           1,
           1,
           1,
           1,
           1,
           1
          ],
          [
           0.5,
           0.5,
           0.5,
           0.5,
           0.5,
           0.5,
           0.5,
           0.5,
           0.5,
           0.5,
           0.5,
           0.5,
           0.5,
           0.5,
           0.5,
           0.5,
           0.86538464,
           0.9807693,
           1,
           1,
           1,
           1,
           1,
           1,
           1,
           0.9615385
          ],
          [
           0.5,
           0.5,
           0.5,
           0.5,
           0.5,
           0.5,
           0.5,
           0.5,
           0.5,
           0.5,
           0.5,
           0.5,
           0.5,
           0.5576923,
           0.5576923,
           0.5769231,
           0.90384614,
           0.9230769,
           1,
           1,
           1,
           1,
           1,
           1,
           1,
           1
          ],
          [
           0.5,
           0.5,
           0.5,
           0.5,
           0.5,
           0.5,
           0.5,
           0.5,
           0.5,
           0.5,
           0.5,
           0.5,
           0.5,
           0.5,
           0.5,
           0.5,
           0.5,
           0.5,
           0.5,
           0.5,
           0.5,
           0.5,
           0.5,
           0.5,
           0.5,
           0.5
          ],
          [
           0.5,
           0.5,
           0.5,
           0.5,
           0.5,
           0.5,
           0.5,
           0.5,
           0.5,
           0.5,
           0.5,
           0.5,
           0.5,
           0.5,
           0.5,
           0.5,
           0.5,
           0.6346154,
           0.9615385,
           1,
           1,
           1,
           1,
           1,
           1,
           0.78846157
          ],
          [
           0.5,
           0.5,
           0.4615385,
           0.5,
           0.5,
           0.5,
           0.5,
           0.5,
           0.5,
           0.5,
           0.5,
           0.5,
           0.5,
           0.5,
           0.7307693,
           0.9230769,
           1,
           1,
           1,
           0.9807693,
           0.9807693,
           1,
           0.9807693,
           0.9807693,
           1,
           1
          ],
          [
           0.5,
           0.5,
           0.5,
           0.5,
           0.5,
           0.5,
           0.5,
           0.5,
           0.5,
           0.5,
           0.5,
           0.5,
           0.5,
           0.5,
           0.5,
           0.5,
           0.5,
           0.5,
           0.5,
           0.5,
           0.5,
           0.5,
           0.5,
           0.5,
           0.5,
           0.5
          ],
          [
           0.5,
           0.5,
           0.5,
           0.5,
           0.5,
           0.5,
           0.5,
           0.5,
           0.5,
           0.5,
           0.5,
           0.61538464,
           0.59615386,
           0.71153843,
           0.82692313,
           1,
           0.9423077,
           0.9423077,
           0.8846154,
           0.9230769,
           0.9423077,
           0.9615385,
           0.9615385,
           0.9807693,
           0.9807693,
           1
          ]
         ]
        }
       ],
       "layout": {
        "coloraxis": {
         "cmid": 0.5,
         "colorbar": {
          "x": 1
         },
         "colorscale": [
          [
           0,
           "#A459D1"
          ],
          [
           0.5,
           "#ffffff"
          ],
          [
           1,
           "#FFB84C"
          ]
         ]
        },
        "height": 600,
        "margin": {
         "t": 60
        },
        "paper_bgcolor": "rgba(0,0,0,0)",
        "plot_bgcolor": "rgba(0,0,0,0)",
        "template": {
         "data": {
          "bar": [
           {
            "error_x": {
             "color": "#2a3f5f"
            },
            "error_y": {
             "color": "#2a3f5f"
            },
            "marker": {
             "line": {
              "color": "#E5ECF6",
              "width": 0.5
             },
             "pattern": {
              "fillmode": "overlay",
              "size": 10,
              "solidity": 0.2
             }
            },
            "type": "bar"
           }
          ],
          "barpolar": [
           {
            "marker": {
             "line": {
              "color": "#E5ECF6",
              "width": 0.5
             },
             "pattern": {
              "fillmode": "overlay",
              "size": 10,
              "solidity": 0.2
             }
            },
            "type": "barpolar"
           }
          ],
          "carpet": [
           {
            "aaxis": {
             "endlinecolor": "#2a3f5f",
             "gridcolor": "white",
             "linecolor": "white",
             "minorgridcolor": "white",
             "startlinecolor": "#2a3f5f"
            },
            "baxis": {
             "endlinecolor": "#2a3f5f",
             "gridcolor": "white",
             "linecolor": "white",
             "minorgridcolor": "white",
             "startlinecolor": "#2a3f5f"
            },
            "type": "carpet"
           }
          ],
          "choropleth": [
           {
            "colorbar": {
             "outlinewidth": 0,
             "ticks": ""
            },
            "type": "choropleth"
           }
          ],
          "contour": [
           {
            "colorbar": {
             "outlinewidth": 0,
             "ticks": ""
            },
            "colorscale": [
             [
              0,
              "#0d0887"
             ],
             [
              0.1111111111111111,
              "#46039f"
             ],
             [
              0.2222222222222222,
              "#7201a8"
             ],
             [
              0.3333333333333333,
              "#9c179e"
             ],
             [
              0.4444444444444444,
              "#bd3786"
             ],
             [
              0.5555555555555556,
              "#d8576b"
             ],
             [
              0.6666666666666666,
              "#ed7953"
             ],
             [
              0.7777777777777778,
              "#fb9f3a"
             ],
             [
              0.8888888888888888,
              "#fdca26"
             ],
             [
              1,
              "#f0f921"
             ]
            ],
            "type": "contour"
           }
          ],
          "contourcarpet": [
           {
            "colorbar": {
             "outlinewidth": 0,
             "ticks": ""
            },
            "type": "contourcarpet"
           }
          ],
          "heatmap": [
           {
            "colorbar": {
             "outlinewidth": 0,
             "ticks": ""
            },
            "colorscale": [
             [
              0,
              "#0d0887"
             ],
             [
              0.1111111111111111,
              "#46039f"
             ],
             [
              0.2222222222222222,
              "#7201a8"
             ],
             [
              0.3333333333333333,
              "#9c179e"
             ],
             [
              0.4444444444444444,
              "#bd3786"
             ],
             [
              0.5555555555555556,
              "#d8576b"
             ],
             [
              0.6666666666666666,
              "#ed7953"
             ],
             [
              0.7777777777777778,
              "#fb9f3a"
             ],
             [
              0.8888888888888888,
              "#fdca26"
             ],
             [
              1,
              "#f0f921"
             ]
            ],
            "type": "heatmap"
           }
          ],
          "heatmapgl": [
           {
            "colorbar": {
             "outlinewidth": 0,
             "ticks": ""
            },
            "colorscale": [
             [
              0,
              "#0d0887"
             ],
             [
              0.1111111111111111,
              "#46039f"
             ],
             [
              0.2222222222222222,
              "#7201a8"
             ],
             [
              0.3333333333333333,
              "#9c179e"
             ],
             [
              0.4444444444444444,
              "#bd3786"
             ],
             [
              0.5555555555555556,
              "#d8576b"
             ],
             [
              0.6666666666666666,
              "#ed7953"
             ],
             [
              0.7777777777777778,
              "#fb9f3a"
             ],
             [
              0.8888888888888888,
              "#fdca26"
             ],
             [
              1,
              "#f0f921"
             ]
            ],
            "type": "heatmapgl"
           }
          ],
          "histogram": [
           {
            "marker": {
             "pattern": {
              "fillmode": "overlay",
              "size": 10,
              "solidity": 0.2
             }
            },
            "type": "histogram"
           }
          ],
          "histogram2d": [
           {
            "colorbar": {
             "outlinewidth": 0,
             "ticks": ""
            },
            "colorscale": [
             [
              0,
              "#0d0887"
             ],
             [
              0.1111111111111111,
              "#46039f"
             ],
             [
              0.2222222222222222,
              "#7201a8"
             ],
             [
              0.3333333333333333,
              "#9c179e"
             ],
             [
              0.4444444444444444,
              "#bd3786"
             ],
             [
              0.5555555555555556,
              "#d8576b"
             ],
             [
              0.6666666666666666,
              "#ed7953"
             ],
             [
              0.7777777777777778,
              "#fb9f3a"
             ],
             [
              0.8888888888888888,
              "#fdca26"
             ],
             [
              1,
              "#f0f921"
             ]
            ],
            "type": "histogram2d"
           }
          ],
          "histogram2dcontour": [
           {
            "colorbar": {
             "outlinewidth": 0,
             "ticks": ""
            },
            "colorscale": [
             [
              0,
              "#0d0887"
             ],
             [
              0.1111111111111111,
              "#46039f"
             ],
             [
              0.2222222222222222,
              "#7201a8"
             ],
             [
              0.3333333333333333,
              "#9c179e"
             ],
             [
              0.4444444444444444,
              "#bd3786"
             ],
             [
              0.5555555555555556,
              "#d8576b"
             ],
             [
              0.6666666666666666,
              "#ed7953"
             ],
             [
              0.7777777777777778,
              "#fb9f3a"
             ],
             [
              0.8888888888888888,
              "#fdca26"
             ],
             [
              1,
              "#f0f921"
             ]
            ],
            "type": "histogram2dcontour"
           }
          ],
          "mesh3d": [
           {
            "colorbar": {
             "outlinewidth": 0,
             "ticks": ""
            },
            "type": "mesh3d"
           }
          ],
          "parcoords": [
           {
            "line": {
             "colorbar": {
              "outlinewidth": 0,
              "ticks": ""
             }
            },
            "type": "parcoords"
           }
          ],
          "pie": [
           {
            "automargin": true,
            "type": "pie"
           }
          ],
          "scatter": [
           {
            "fillpattern": {
             "fillmode": "overlay",
             "size": 10,
             "solidity": 0.2
            },
            "type": "scatter"
           }
          ],
          "scatter3d": [
           {
            "line": {
             "colorbar": {
              "outlinewidth": 0,
              "ticks": ""
             }
            },
            "marker": {
             "colorbar": {
              "outlinewidth": 0,
              "ticks": ""
             }
            },
            "type": "scatter3d"
           }
          ],
          "scattercarpet": [
           {
            "marker": {
             "colorbar": {
              "outlinewidth": 0,
              "ticks": ""
             }
            },
            "type": "scattercarpet"
           }
          ],
          "scattergeo": [
           {
            "marker": {
             "colorbar": {
              "outlinewidth": 0,
              "ticks": ""
             }
            },
            "type": "scattergeo"
           }
          ],
          "scattergl": [
           {
            "marker": {
             "colorbar": {
              "outlinewidth": 0,
              "ticks": ""
             }
            },
            "type": "scattergl"
           }
          ],
          "scattermapbox": [
           {
            "marker": {
             "colorbar": {
              "outlinewidth": 0,
              "ticks": ""
             }
            },
            "type": "scattermapbox"
           }
          ],
          "scatterpolar": [
           {
            "marker": {
             "colorbar": {
              "outlinewidth": 0,
              "ticks": ""
             }
            },
            "type": "scatterpolar"
           }
          ],
          "scatterpolargl": [
           {
            "marker": {
             "colorbar": {
              "outlinewidth": 0,
              "ticks": ""
             }
            },
            "type": "scatterpolargl"
           }
          ],
          "scatterternary": [
           {
            "marker": {
             "colorbar": {
              "outlinewidth": 0,
              "ticks": ""
             }
            },
            "type": "scatterternary"
           }
          ],
          "surface": [
           {
            "colorbar": {
             "outlinewidth": 0,
             "ticks": ""
            },
            "colorscale": [
             [
              0,
              "#0d0887"
             ],
             [
              0.1111111111111111,
              "#46039f"
             ],
             [
              0.2222222222222222,
              "#7201a8"
             ],
             [
              0.3333333333333333,
              "#9c179e"
             ],
             [
              0.4444444444444444,
              "#bd3786"
             ],
             [
              0.5555555555555556,
              "#d8576b"
             ],
             [
              0.6666666666666666,
              "#ed7953"
             ],
             [
              0.7777777777777778,
              "#fb9f3a"
             ],
             [
              0.8888888888888888,
              "#fdca26"
             ],
             [
              1,
              "#f0f921"
             ]
            ],
            "type": "surface"
           }
          ],
          "table": [
           {
            "cells": {
             "fill": {
              "color": "#EBF0F8"
             },
             "line": {
              "color": "white"
             }
            },
            "header": {
             "fill": {
              "color": "#C8D4E3"
             },
             "line": {
              "color": "white"
             }
            },
            "type": "table"
           }
          ]
         },
         "layout": {
          "annotationdefaults": {
           "arrowcolor": "#2a3f5f",
           "arrowhead": 0,
           "arrowwidth": 1
          },
          "autotypenumbers": "strict",
          "coloraxis": {
           "colorbar": {
            "outlinewidth": 0,
            "ticks": ""
           }
          },
          "colorscale": {
           "diverging": [
            [
             0,
             "#8e0152"
            ],
            [
             0.1,
             "#c51b7d"
            ],
            [
             0.2,
             "#de77ae"
            ],
            [
             0.3,
             "#f1b6da"
            ],
            [
             0.4,
             "#fde0ef"
            ],
            [
             0.5,
             "#f7f7f7"
            ],
            [
             0.6,
             "#e6f5d0"
            ],
            [
             0.7,
             "#b8e186"
            ],
            [
             0.8,
             "#7fbc41"
            ],
            [
             0.9,
             "#4d9221"
            ],
            [
             1,
             "#276419"
            ]
           ],
           "sequential": [
            [
             0,
             "#0d0887"
            ],
            [
             0.1111111111111111,
             "#46039f"
            ],
            [
             0.2222222222222222,
             "#7201a8"
            ],
            [
             0.3333333333333333,
             "#9c179e"
            ],
            [
             0.4444444444444444,
             "#bd3786"
            ],
            [
             0.5555555555555556,
             "#d8576b"
            ],
            [
             0.6666666666666666,
             "#ed7953"
            ],
            [
             0.7777777777777778,
             "#fb9f3a"
            ],
            [
             0.8888888888888888,
             "#fdca26"
            ],
            [
             1,
             "#f0f921"
            ]
           ],
           "sequentialminus": [
            [
             0,
             "#0d0887"
            ],
            [
             0.1111111111111111,
             "#46039f"
            ],
            [
             0.2222222222222222,
             "#7201a8"
            ],
            [
             0.3333333333333333,
             "#9c179e"
            ],
            [
             0.4444444444444444,
             "#bd3786"
            ],
            [
             0.5555555555555556,
             "#d8576b"
            ],
            [
             0.6666666666666666,
             "#ed7953"
            ],
            [
             0.7777777777777778,
             "#fb9f3a"
            ],
            [
             0.8888888888888888,
             "#fdca26"
            ],
            [
             1,
             "#f0f921"
            ]
           ]
          },
          "colorway": [
           "#636efa",
           "#EF553B",
           "#00cc96",
           "#ab63fa",
           "#FFA15A",
           "#19d3f3",
           "#FF6692",
           "#B6E880",
           "#FF97FF",
           "#FECB52"
          ],
          "font": {
           "color": "#2a3f5f"
          },
          "geo": {
           "bgcolor": "white",
           "lakecolor": "white",
           "landcolor": "#E5ECF6",
           "showlakes": true,
           "showland": true,
           "subunitcolor": "white"
          },
          "hoverlabel": {
           "align": "left"
          },
          "hovermode": "closest",
          "mapbox": {
           "style": "light"
          },
          "paper_bgcolor": "white",
          "plot_bgcolor": "#E5ECF6",
          "polar": {
           "angularaxis": {
            "gridcolor": "white",
            "linecolor": "white",
            "ticks": ""
           },
           "bgcolor": "#E5ECF6",
           "radialaxis": {
            "gridcolor": "white",
            "linecolor": "white",
            "ticks": ""
           }
          },
          "scene": {
           "xaxis": {
            "backgroundcolor": "#E5ECF6",
            "gridcolor": "white",
            "gridwidth": 2,
            "linecolor": "white",
            "showbackground": true,
            "ticks": "",
            "zerolinecolor": "white"
           },
           "yaxis": {
            "backgroundcolor": "#E5ECF6",
            "gridcolor": "white",
            "gridwidth": 2,
            "linecolor": "white",
            "showbackground": true,
            "ticks": "",
            "zerolinecolor": "white"
           },
           "zaxis": {
            "backgroundcolor": "#E5ECF6",
            "gridcolor": "white",
            "gridwidth": 2,
            "linecolor": "white",
            "showbackground": true,
            "ticks": "",
            "zerolinecolor": "white"
           }
          },
          "shapedefaults": {
           "line": {
            "color": "#2a3f5f"
           }
          },
          "ternary": {
           "aaxis": {
            "gridcolor": "white",
            "linecolor": "white",
            "ticks": ""
           },
           "baxis": {
            "gridcolor": "white",
            "linecolor": "white",
            "ticks": ""
           },
           "bgcolor": "#E5ECF6",
           "caxis": {
            "gridcolor": "white",
            "linecolor": "white",
            "ticks": ""
           }
          },
          "title": {
           "x": 0.05
          },
          "xaxis": {
           "automargin": true,
           "gridcolor": "white",
           "linecolor": "white",
           "ticks": "",
           "title": {
            "standoff": 15
           },
           "zerolinecolor": "white",
           "zerolinewidth": 2
          },
          "yaxis": {
           "automargin": true,
           "gridcolor": "white",
           "linecolor": "white",
           "ticks": "",
           "title": {
            "standoff": 15
           },
           "zerolinecolor": "white",
           "zerolinewidth": 2
          }
         }
        },
        "title": {
         "text": "Gemma 2 2b probes accuracies",
         "x": 0.5,
         "xanchor": "center",
         "y": 0.95,
         "yanchor": "top"
        },
        "width": 600,
        "xaxis": {
         "anchor": "y",
         "constrain": "domain",
         "domain": [
          0,
          1
         ],
         "linecolor": "black",
         "linewidth": 1,
         "mirror": true,
         "scaleanchor": "y",
         "showline": true,
         "title": {
          "text": "Activations Layers"
         }
        },
        "yaxis": {
         "anchor": "x",
         "autorange": "reversed",
         "constrain": "domain",
         "domain": [
          0,
          1
         ],
         "linecolor": "black",
         "linewidth": 1,
         "mirror": true,
         "showline": true,
         "title": {
          "text": "Probes Layers"
         }
        }
       }
      }
     },
     "metadata": {},
     "output_type": "display_data"
    }
   ],
   "source": [
    "scores = t.zeros(n_layers, n_layers)\n",
    "for a in range(n_layers):\n",
    "    for b in range(n_layers):\n",
    "        if MODEL_NAME == \"gemma2_2b\":\n",
    "            scores[a, b] = ((probes[a][0].forward(hf_train[b].cuda().float()) < 0.5).sum() / hf_train[b].shape[0] + (probes[a][0].forward(hl_train[b].cuda().float()) > 0.5).sum() / hl_train[b].shape[0])/2\n",
    "        else:\n",
    "            scores[a, b] = ((probes[a][0].forward(hf_val[b].cuda().float()) < 0.5).sum() / hf_val[b].shape[0] + (probes[a][0].forward(hl_val[b].cuda().float()) > 0.5).sum() / hl_val[b].shape[0])/2\n",
    "\n",
    "imshow(scores, color_continuous_midpoint=0.5, xaxis_title=\"Activations Layers\", yaxis_title=\"Probes Layers\", title=f\"{display_name} probes accuracies\", size=(600, 600), border=True, savefig=f\"layer_diffs_probes_{MODEL_NAME}.svg\")"
   ]
  }
 ],
 "metadata": {
  "kernelspec": {
   "display_name": "ssr",
   "language": "python",
   "name": "python3"
  },
  "language_info": {
   "codemirror_mode": {
    "name": "ipython",
    "version": 3
   },
   "file_extension": ".py",
   "mimetype": "text/x-python",
   "name": "python",
   "nbconvert_exporter": "python",
   "pygments_lexer": "ipython3",
   "version": "3.12.9"
  }
 },
 "nbformat": 4,
 "nbformat_minor": 2
}
